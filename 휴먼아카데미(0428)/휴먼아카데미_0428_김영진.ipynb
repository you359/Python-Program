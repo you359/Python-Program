{
 "cells": [
  {
   "cell_type": "code",
   "execution_count": 29,
   "id": "e6ebd86d",
   "metadata": {},
   "outputs": [],
   "source": [
    "class Person:\n",
    "    def __init__(self, name, age):\n",
    "        self.name = name # 맴버 변수\n",
    "        self.age = age   # 맴버 변수\n",
    "    \n",
    "    def speak(self):\n",
    "        print(self.name, self.age)"
   ]
  },
  {
   "cell_type": "code",
   "execution_count": 46,
   "id": "13fba7af",
   "metadata": {},
   "outputs": [],
   "source": [
    "class Student(Person):\n",
    "    def __init__(self, name, age, item=[\"pen\"]):\n",
    "        super().__init__(name, age)\n",
    "        self.item = item\n",
    "    \n",
    "    def speak(self):\n",
    "        super().speak()\n",
    "        print(item)\n",
    "    \n",
    "    def get_item(self, item):\n",
    "        self.item.append(item)\n",
    "        \n",
    "    def give_item(self):\n",
    "        return self.item.pop()"
   ]
  },
  {
   "cell_type": "code",
   "execution_count": 47,
   "id": "0f8a8840",
   "metadata": {
    "scrolled": true
   },
   "outputs": [
    {
     "name": "stdout",
     "output_type": "stream",
     "text": [
      "김영진 34\n",
      "pen\n"
     ]
    }
   ],
   "source": [
    "s = Student(\"김영진\", \"34\")\n",
    "s.speak()\n",
    "# s.get_item(\"notebook\")\n",
    "# s.get_item(\"tablet\")\n",
    "# print(s.item)\n",
    "# print(s.give_item())\n",
    "# print(s.item)"
   ]
  }
 ],
 "metadata": {
  "kernelspec": {
   "display_name": "Python 3 (ipykernel)",
   "language": "python",
   "name": "python3"
  },
  "language_info": {
   "codemirror_mode": {
    "name": "ipython",
    "version": 3
   },
   "file_extension": ".py",
   "mimetype": "text/x-python",
   "name": "python",
   "nbconvert_exporter": "python",
   "pygments_lexer": "ipython3",
   "version": "3.11.7"
  }
 },
 "nbformat": 4,
 "nbformat_minor": 5
}
