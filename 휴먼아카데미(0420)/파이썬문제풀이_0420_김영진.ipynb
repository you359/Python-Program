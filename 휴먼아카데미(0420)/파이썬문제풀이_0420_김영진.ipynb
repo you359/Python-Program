{
 "cells": [
  {
   "cell_type": "markdown",
   "id": "7c2a3580-490e-4c89-900d-fe50e5f38784",
   "metadata": {},
   "source": [
    "# 101\r\n",
    "파이썬에서 True 혹은 False를 갖는 데이터 타입은 무엇인가?"
   ]
  },
  {
   "cell_type": "code",
   "execution_count": 1,
   "id": "f6a82ac5-4b92-48fe-a643-9ed8ddb2c11a",
   "metadata": {},
   "outputs": [
    {
     "data": {
      "text/plain": [
       "bool"
      ]
     },
     "execution_count": 1,
     "metadata": {},
     "output_type": "execute_result"
    }
   ],
   "source": [
    "type(True)"
   ]
  },
  {
   "cell_type": "code",
   "execution_count": 2,
   "id": "fa872bf2-423d-4af0-8fc4-40d6d54571ba",
   "metadata": {},
   "outputs": [
    {
     "data": {
      "text/plain": [
       "bool"
      ]
     },
     "execution_count": 2,
     "metadata": {},
     "output_type": "execute_result"
    }
   ],
   "source": [
    "type(False)"
   ]
  },
  {
   "cell_type": "markdown",
   "id": "8193ba24-6da9-4789-8153-3cf7be3aaf1a",
   "metadata": {},
   "source": [
    "# 102\r\n",
    "아래 코드의 출력 결과를 예상하라"
   ]
  },
  {
   "cell_type": "code",
   "execution_count": 3,
   "id": "b36754e1-df3b-4e6b-aca5-ebdac3e5d894",
   "metadata": {},
   "outputs": [
    {
     "name": "stdout",
     "output_type": "stream",
     "text": [
      "False\n"
     ]
    }
   ],
   "source": [
    "print(3 == 5)"
   ]
  },
  {
   "cell_type": "markdown",
   "id": "2d1d27ac-3019-4e30-9c89-98ba4569155c",
   "metadata": {},
   "source": [
    "# 103\n",
    "아래 코드의 출력 결과를 예상하라"
   ]
  },
  {
   "cell_type": "code",
   "execution_count": 4,
   "id": "60639db8-2b14-4cff-9391-f5ad8b76ddb5",
   "metadata": {},
   "outputs": [
    {
     "name": "stdout",
     "output_type": "stream",
     "text": [
      "True\n"
     ]
    }
   ],
   "source": [
    "print(3 < 5)"
   ]
  },
  {
   "cell_type": "markdown",
   "id": "b4e9a0c3-8625-46b2-852e-3efef63ddd33",
   "metadata": {},
   "source": [
    "# 104\n",
    "아래 코드의 결과를 예상하라."
   ]
  },
  {
   "cell_type": "code",
   "execution_count": 5,
   "id": "6af6c2d6-abf9-4b00-8c59-b6bd226cc019",
   "metadata": {},
   "outputs": [
    {
     "name": "stdout",
     "output_type": "stream",
     "text": [
      "True\n"
     ]
    }
   ],
   "source": [
    "x = 4\n",
    "print(1 < x < 5)"
   ]
  },
  {
   "cell_type": "markdown",
   "id": "d53bcbda-953b-46d7-aecf-7c5e0392d27a",
   "metadata": {},
   "source": [
    "# 105\n",
    "아래 코드의 결과를 예상하라."
   ]
  },
  {
   "cell_type": "code",
   "execution_count": 6,
   "id": "291d2389-dbcf-46b3-93b7-b4223e2b06dd",
   "metadata": {},
   "outputs": [
    {
     "name": "stdout",
     "output_type": "stream",
     "text": [
      "True\n"
     ]
    }
   ],
   "source": [
    "print ((3 == 3) and (4 != 3))"
   ]
  },
  {
   "cell_type": "markdown",
   "id": "6b1b12d6-c7ed-46c1-8c29-cea534b80818",
   "metadata": {},
   "source": [
    "# 106\n",
    "아래 코드에서 에러가 발생하는 원인에 대해 설명하라."
   ]
  },
  {
   "cell_type": "code",
   "execution_count": 7,
   "id": "a03a4cff-c8fe-47b5-a7f9-687f6794b421",
   "metadata": {},
   "outputs": [
    {
     "ename": "SyntaxError",
     "evalue": "expression cannot contain assignment, perhaps you meant \"==\"? (3612698823.py, line 1)",
     "output_type": "error",
     "traceback": [
      "\u001b[1;36m  Cell \u001b[1;32mIn[7], line 1\u001b[1;36m\u001b[0m\n\u001b[1;33m    print(3 => 4)\u001b[0m\n\u001b[1;37m          ^\u001b[0m\n\u001b[1;31mSyntaxError\u001b[0m\u001b[1;31m:\u001b[0m expression cannot contain assignment, perhaps you meant \"==\"?\n"
     ]
    }
   ],
   "source": [
    "print(3 => 4)"
   ]
  },
  {
   "cell_type": "markdown",
   "id": "34a8cdc6-25c1-4417-8e86-c2a9dda08779",
   "metadata": {},
   "source": [
    "# 107\n",
    "아래 코드의 출력 결과를 예상하라"
   ]
  },
  {
   "cell_type": "code",
   "execution_count": 9,
   "id": "7f59ce53-5060-43b7-ae47-1705a47a28e0",
   "metadata": {},
   "outputs": [],
   "source": [
    "if 4 < 3:\n",
    "    print(\"Hello World\")"
   ]
  },
  {
   "cell_type": "markdown",
   "id": "20b0f151-e854-4e61-962c-29c181a72dbf",
   "metadata": {},
   "source": [
    "# 108\n",
    "아래 코드의 출력 결과를 예상하라"
   ]
  },
  {
   "cell_type": "code",
   "execution_count": 11,
   "id": "c774dfb3-30c3-4e30-a425-f54b244a0a9e",
   "metadata": {},
   "outputs": [
    {
     "name": "stdout",
     "output_type": "stream",
     "text": [
      "Hi, there.\n"
     ]
    }
   ],
   "source": [
    "if 4 < 3:\n",
    "    print(\"Hello World.\")\n",
    "else:\n",
    "    print(\"Hi, there.\")"
   ]
  },
  {
   "cell_type": "markdown",
   "id": "ec6cc295-a163-4f69-b1d7-16a1b8a6dc09",
   "metadata": {},
   "source": [
    "# 109\n",
    "아래 코드의 출력 결과를 예상하라"
   ]
  },
  {
   "cell_type": "code",
   "execution_count": 13,
   "id": "761e2826-440f-42b5-9381-5f05cb5a8d26",
   "metadata": {},
   "outputs": [
    {
     "name": "stdout",
     "output_type": "stream",
     "text": [
      "1\n",
      "2\n",
      "4\n"
     ]
    }
   ],
   "source": [
    "if True :\n",
    "    print (\"1\")\n",
    "    print (\"2\")\n",
    "else :\n",
    "    print(\"3\")\n",
    "print(\"4\")"
   ]
  },
  {
   "cell_type": "markdown",
   "id": "957b6a48-8d53-4c46-a77c-a36bb0f50107",
   "metadata": {},
   "source": [
    "# 110\n",
    "아래 코드의 출력 결과를 예상하라"
   ]
  },
  {
   "cell_type": "code",
   "execution_count": 14,
   "id": "e0c7647e-1dc6-4ba0-97cf-a6bf054f9249",
   "metadata": {},
   "outputs": [
    {
     "name": "stdout",
     "output_type": "stream",
     "text": [
      "3\n",
      "5\n"
     ]
    }
   ],
   "source": [
    "if True :\n",
    "    if False:\n",
    "        print(\"1\")\n",
    "        print(\"2\")\n",
    "    else:\n",
    "        print(\"3\")\n",
    "else :\n",
    "    print(\"4\")\n",
    "print(\"5\")"
   ]
  },
  {
   "cell_type": "markdown",
   "id": "57d943a1-7329-484a-aba3-009393d2644c",
   "metadata": {},
   "source": [
    "# 111\n",
    "사용자로부터 입력받은 문자열을 두 번 출력하라. 아래는 사용자가 \"안녕하세요\"를 입력한 경우의 출력 결과이다.\n",
    "\n",
    "> 입력: 안녕하세요  \n",
    "> 출력: \n",
    "안녕하세요안녕하세요"
   ]
  },
  {
   "cell_type": "code",
   "execution_count": 146,
   "id": "00bf8d85-04ac-43b2-9de0-73bd4dbebe79",
   "metadata": {},
   "outputs": [
    {
     "name": "stdin",
     "output_type": "stream",
     "text": [
      " 안녕하세요\n"
     ]
    },
    {
     "data": {
      "text/plain": [
       "'안녕하세요안녕하세요'"
      ]
     },
     "execution_count": 146,
     "metadata": {},
     "output_type": "execute_result"
    }
   ],
   "source": [
    "input() * 2"
   ]
  },
  {
   "cell_type": "markdown",
   "id": "c1049159-d4f2-4d4a-8884-93c51907f588",
   "metadata": {},
   "source": [
    "# 112\n",
    "사용자로부터 하나의 숫자를 입력받고, 입력 받은 숫자에 10을 더해 출력하라."
   ]
  },
  {
   "cell_type": "code",
   "execution_count": 147,
   "id": "c7d17a02-04d7-451d-a632-e18ace816017",
   "metadata": {},
   "outputs": [
    {
     "name": "stdin",
     "output_type": "stream",
     "text": [
      "숫자를 입력하세요: 10\n"
     ]
    },
    {
     "data": {
      "text/plain": [
       "20"
      ]
     },
     "execution_count": 147,
     "metadata": {},
     "output_type": "execute_result"
    }
   ],
   "source": [
    "int(input(\"숫자를 입력하세요:\")) + 10"
   ]
  },
  {
   "cell_type": "markdown",
   "id": "e46a69ce-6a77-4898-87a7-9d92a1c00edf",
   "metadata": {},
   "source": [
    "# 113\n",
    "사용자로부터 하나의 숫자를 입력 받고 짝수/홀수를 판별하라."
   ]
  },
  {
   "cell_type": "code",
   "execution_count": 25,
   "id": "d4c211e5-c214-40d3-ac80-1c84c042ca5c",
   "metadata": {},
   "outputs": [
    {
     "name": "stdin",
     "output_type": "stream",
     "text": [
      " 5\n"
     ]
    },
    {
     "name": "stdout",
     "output_type": "stream",
     "text": [
      "홀수\n"
     ]
    }
   ],
   "source": [
    "input_data = int(input())\n",
    "if input_data % 2 == 0:\n",
    "    print(\"짝수\")\n",
    "else:\n",
    "    print(\"홀수\")"
   ]
  },
  {
   "cell_type": "markdown",
   "id": "6de9a9fa-4413-4969-a26a-8d2598d57a41",
   "metadata": {},
   "source": [
    "# 114\n",
    "사용자로부터 값을 입력받은 후 해당 값에 20을 더한 값을 출력하라.  \n",
    "단 사용자가 입력한 값과 20을 더한 계산 값이 255를 초과하는 경우 255를 출력해야 한다."
   ]
  },
  {
   "cell_type": "code",
   "execution_count": 28,
   "id": "fd5fef08-b60c-4ad3-ae78-0bfc151744ea",
   "metadata": {},
   "outputs": [
    {
     "name": "stdin",
     "output_type": "stream",
     "text": [
      "입력값:  240\n"
     ]
    },
    {
     "name": "stdout",
     "output_type": "stream",
     "text": [
      "출력값: 255\n"
     ]
    }
   ],
   "source": [
    "input_data = int(input(\"입력값: \")) + 20\n",
    "if input_data > 255:\n",
    "    print(\"출력값: {}\".format(255))\n",
    "else:\n",
    "    print(\"출력값: {}\".format(input_data))"
   ]
  },
  {
   "cell_type": "markdown",
   "id": "77a07aa8-a129-46da-aaa9-cd9d42008b23",
   "metadata": {},
   "source": [
    "# 115\n",
    "사용자로부터 하나의 값을 입력받은 후 해당 값에 20을 뺀 값을 출력하라.  \n",
    "단 출력 값의 범위는 0~255이다.  \n",
    "예를 들어 결괏값이 0보다 작은 값이되는 경우 0을 출력하고 255보다 큰 값이 되는 경우 255를 출력해야 한다."
   ]
  },
  {
   "cell_type": "code",
   "execution_count": 31,
   "id": "a97b356e-7699-4d32-9195-55122525254e",
   "metadata": {},
   "outputs": [
    {
     "name": "stdin",
     "output_type": "stream",
     "text": [
      "입력값:  15\n"
     ]
    },
    {
     "name": "stdout",
     "output_type": "stream",
     "text": [
      "출력값: 0\n"
     ]
    }
   ],
   "source": [
    "input_data = int(input(\"입력값: \")) - 20\n",
    "if input_data > 255:\n",
    "    print(\"출력값: {}\".format(255))\n",
    "elif input_data < 0:\n",
    "    print(\"출력값: {}\".format(0))\n",
    "else:\n",
    "    print(\"출력값: {}\".format(input_data))"
   ]
  },
  {
   "cell_type": "markdown",
   "id": "c9db8902-396e-41b3-b8ef-951d7fd24702",
   "metadata": {},
   "source": [
    "# 116\n",
    "사용자로부터 입력 받은 시간이 정각인지 판별하라."
   ]
  },
  {
   "cell_type": "code",
   "execution_count": 33,
   "id": "f0c22e43-3445-42f0-bf15-4b974b414da0",
   "metadata": {},
   "outputs": [
    {
     "name": "stdin",
     "output_type": "stream",
     "text": [
      "현재시간: 02:10\n"
     ]
    },
    {
     "name": "stdout",
     "output_type": "stream",
     "text": [
      "정각이 아닙니다.\n"
     ]
    }
   ],
   "source": [
    "input_data = input(\"현재시간:\")\n",
    "m = int(input_data.split(\":\")[-1])\n",
    "if m > 0:\n",
    "    print(\"정각이 아닙니다.\")\n",
    "else:\n",
    "    print(\"정각 입니다.\")"
   ]
  },
  {
   "cell_type": "markdown",
   "id": "934707a5-e8f8-4e3b-9a16-57003d585ff1",
   "metadata": {},
   "source": [
    "# 117\r\n",
    "사용자로 입력받은 단어가 아래 fruit 리스트에 포함되어 있는지를 확인하라  \n",
    " 포함되었다면 \"정답입니다\"를 아닐 경우 \"오답입니다\" 출력하라."
   ]
  },
  {
   "cell_type": "code",
   "execution_count": 34,
   "id": "49e5bfe8-f2b4-4ec9-9744-283f95687e23",
   "metadata": {},
   "outputs": [],
   "source": [
    "fruit = [\"사과\", \"포도\", \"홍시\"]"
   ]
  },
  {
   "cell_type": "code",
   "execution_count": 36,
   "id": "5d8f30bb-5d4c-41dd-bb52-3e65d468d41f",
   "metadata": {},
   "outputs": [
    {
     "name": "stdin",
     "output_type": "stream",
     "text": [
      "좋아하는 과일은? 바나나\n"
     ]
    },
    {
     "name": "stdout",
     "output_type": "stream",
     "text": [
      "오답입니다.\n"
     ]
    }
   ],
   "source": [
    "input_data = input(\"좋아하는 과일은?\")\n",
    "if input_data in fruit:\n",
    "    print(\"정답입니다.\")\n",
    "else:\n",
    "    print(\"오답입니다.\")"
   ]
  },
  {
   "cell_type": "markdown",
   "id": "6e44479e-9209-4575-90cc-77f7950a823e",
   "metadata": {},
   "source": [
    "# 118\n",
    "투자 경고 종목 리스트가 있을 때 사용자로부터 종목명을 입력 받은 후 해당 종목이 투자 경고 종목이라면 '투자 경고 종목입니다'를 아니면 \"투자 경고 종목이 아닙니다.\"를 출력하는 프로그램을 작성하라."
   ]
  },
  {
   "cell_type": "code",
   "execution_count": 38,
   "id": "ece037d9-fa9c-4d8b-a78d-709812f13611",
   "metadata": {},
   "outputs": [],
   "source": [
    "warn_investment_list = [\"Microsoft\", \"Google\", \"Naver\", \"Kakao\", \"SAMSUNG\", \"LG\"]"
   ]
  },
  {
   "cell_type": "code",
   "execution_count": 40,
   "id": "7429f788-f3c3-464f-976f-0dad63863bb8",
   "metadata": {},
   "outputs": [
    {
     "name": "stdin",
     "output_type": "stream",
     "text": [
      "투자 종목을 입력하세요: Nvidia\n"
     ]
    },
    {
     "name": "stdout",
     "output_type": "stream",
     "text": [
      "투자 경고 종목이 아닙니다.\n"
     ]
    }
   ],
   "source": [
    "input_data = input(\"투자 종목을 입력하세요:\")\n",
    "if input_data in warn_investment_list:\n",
    "    print(\"투자 경고 종목입니다.\")\n",
    "else:\n",
    "    print(\"투자 경고 종목이 아닙니다.\")"
   ]
  },
  {
   "cell_type": "markdown",
   "id": "580e7b09-63f6-4ed1-9752-5046126e5014",
   "metadata": {},
   "source": [
    "# 119\n",
    "아래와 같이 fruit 딕셔너리가 정의되어 있다.  \n",
    "사용자가 입력한 값이 딕셔너리 키 (key) 값에 포함되었다면 \"정답입니다\"를 아닐 경우 \"오답입니다\" 출력하라."
   ]
  },
  {
   "cell_type": "code",
   "execution_count": 42,
   "id": "4c9de736-1b08-4893-b987-ea57ebebde80",
   "metadata": {},
   "outputs": [],
   "source": [
    "fruit = {\"봄\" : \"딸기\", \"여름\" : \"토마토\", \"가을\" : \"사과\"}"
   ]
  },
  {
   "cell_type": "code",
   "execution_count": 44,
   "id": "5fc6e414-b24e-4d4a-816d-c54ac0553011",
   "metadata": {},
   "outputs": [
    {
     "name": "stdin",
     "output_type": "stream",
     "text": [
      "Key를 입력하세요: 겨울\n"
     ]
    },
    {
     "name": "stdout",
     "output_type": "stream",
     "text": [
      "오답입니다\n"
     ]
    }
   ],
   "source": [
    "input_data = input(\"Key를 입력하세요:\")\n",
    "if input_data in fruit.keys():\n",
    "    print(\"정답입니다\")\n",
    "else:\n",
    "    print(\"오답입니다\")"
   ]
  },
  {
   "cell_type": "markdown",
   "id": "5c10d48b-35f3-445f-bb66-a1f6c3673581",
   "metadata": {},
   "source": [
    "# 120\n",
    "아래와 같이 fruit 딕셔너리가 정의되어 있다.  \n",
    "사용자가 입력한 값이 딕셔너리 값 (value)에 포함되었다면 \"정답입니다\"를 아닐 경우 \"오답입니다\" 출력하라."
   ]
  },
  {
   "cell_type": "code",
   "execution_count": 45,
   "id": "0e25417e-b624-4a67-b8ea-937686bf00c5",
   "metadata": {},
   "outputs": [],
   "source": [
    "fruit = {\"봄\" : \"딸기\", \"여름\" : \"토마토\", \"가을\" : \"사과\"}"
   ]
  },
  {
   "cell_type": "code",
   "execution_count": 47,
   "id": "de1a9710-ea8a-4c83-a9ae-d12c76f9aca2",
   "metadata": {},
   "outputs": [
    {
     "name": "stdin",
     "output_type": "stream",
     "text": [
      "value를 입력하세요: 딸기\n"
     ]
    },
    {
     "name": "stdout",
     "output_type": "stream",
     "text": [
      "정답입니다\n"
     ]
    }
   ],
   "source": [
    "input_data = input(\"value를 입력하세요:\")\n",
    "if input_data in fruit.values():\n",
    "    print(\"정답입니다\")\n",
    "else:\n",
    "    print(\"오답입니다\")"
   ]
  },
  {
   "cell_type": "markdown",
   "id": "478447a3-9d14-45a8-83e5-8726193816c1",
   "metadata": {},
   "source": [
    "# 121\n",
    "사용자로부터 문자 한 개를 입력 받고, 소문자일 경우 대문자로, 대문자 일 경우, 소문자로 변경해서 출력하라."
   ]
  },
  {
   "cell_type": "markdown",
   "id": "d049c9ad-f786-40c8-b3e1-00125f19c556",
   "metadata": {},
   "source": [
    "힌트-1 : islower() 함수는 문자의 소문자 여부를 판별합니다.  \n",
    "만약 소문자일 경우 True, 대문자일 경우 False를 반환합니다. 힌트-2 : upper() 함수는 대문자로, lower() 함수는 소문자로 변경합니다."
   ]
  },
  {
   "cell_type": "code",
   "execution_count": 153,
   "id": "b2f4c6b0-dfb4-4cb3-b8a7-e3755560e53f",
   "metadata": {},
   "outputs": [
    {
     "name": "stdin",
     "output_type": "stream",
     "text": [
      "영어 문자를 입력하세요: A\n"
     ]
    },
    {
     "name": "stdout",
     "output_type": "stream",
     "text": [
      "a\n"
     ]
    }
   ],
   "source": [
    "input_data = input(\"영어 문자를 입력하세요:\")\n",
    "if input_data.islower():\n",
    "    print(input_data.upper())\n",
    "else:\n",
    "    print(input_data.lower())"
   ]
  },
  {
   "cell_type": "markdown",
   "id": "859c07d0-8d97-47b7-bd12-70807471c977",
   "metadata": {},
   "source": [
    "# 122\n",
    "점수 구간에 해당하는 학점이 아래와 같이 정의되어 있다. 사용자로부터 score를 입력받아 학점을 출력하라."
   ]
  },
  {
   "cell_type": "markdown",
   "id": "79890c9a-84d7-4811-bd09-f4b2ee997e33",
   "metadata": {},
   "source": [
    "|점수\t|학점|\n",
    "|---|---|\n",
    "|81~100\t|A|\n",
    "|61~80\t|B|\n",
    "|41~60\t|C|\n",
    "|21~40\t|D|\n",
    "|0~20\t|E|"
   ]
  },
  {
   "cell_type": "code",
   "execution_count": 55,
   "id": "6589e534-772a-4bfa-9011-9da2ec2eebdb",
   "metadata": {},
   "outputs": [
    {
     "name": "stdin",
     "output_type": "stream",
     "text": [
      "score:  60\n"
     ]
    },
    {
     "name": "stdout",
     "output_type": "stream",
     "text": [
      "grade is C\n"
     ]
    }
   ],
   "source": [
    "input_data = int(input(\"score: \"))\n",
    "if input_data > 80:\n",
    "    print(\"grade is A\")\n",
    "elif input_data > 60:\n",
    "    print(\"grade is B\")\n",
    "elif input_data > 40:\n",
    "    print(\"grade is C\")\n",
    "elif input_data > 20:\n",
    "    print(\"grade is D\")\n",
    "else:\n",
    "    print(\"grade is E\")"
   ]
  },
  {
   "cell_type": "markdown",
   "id": "c75dc533-34de-4f0e-b8cb-a9cf7ce77e3b",
   "metadata": {},
   "source": [
    "# 123\n",
    "사용자로부터 달러, 엔, 유로, 또는 위안 금액을 입력받은 후 이를 원으로 변환하는 프로그램을 작성하라.  \n",
    "각 통화별 환율은 다음과 같다.  \n",
    "사용자는 100 달러, 1000 엔, 13 유로, 100 위안과 같이 금액과 통화명 사이에 공백을 넣어 입력한다고 가정한다."
   ]
  },
  {
   "cell_type": "markdown",
   "id": "b2f87421-162e-4121-9100-17ae35e8481a",
   "metadata": {},
   "source": [
    "|통화명|\t환율|\n",
    "|---|---|\n",
    "|달러|\t1167|\n",
    "|엔|\t1.096|\n",
    "|유로\t|1268|\n",
    "위안|171|"
   ]
  },
  {
   "cell_type": "code",
   "execution_count": 157,
   "id": "dd7cbe29-454f-4c71-ac85-d2c799064557",
   "metadata": {},
   "outputs": [
    {
     "name": "stdin",
     "output_type": "stream",
     "text": [
      "입력:  100 달러\n"
     ]
    },
    {
     "name": "stdout",
     "output_type": "stream",
     "text": [
      "116700.00 원\n"
     ]
    }
   ],
   "source": [
    "input_data = input(\"입력: \")\n",
    "money, name = input_data.split(\" \")\n",
    "\n",
    "if name == \"달러\":\n",
    "    print(\"{:.2f} 원\".format(float(money) * 1167))\n",
    "elif name == \"엔\":\n",
    "    print(\"{:.2f} 원\".format(float(money) * 1.096))\n",
    "elif name == \"유로\":\n",
    "    print(\"{:.2f} 원\".format(float(money) * 1268))\n",
    "elif name == \"위안\":\n",
    "    print(\"{:.2f} 원\".format(float(money) * 171))"
   ]
  },
  {
   "cell_type": "markdown",
   "id": "88b8400e-50ee-4065-93b0-d99ad23b877e",
   "metadata": {},
   "source": [
    "# 124\n",
    "사용자로부터 세 개의 숫자를 입력 받은 후 가장 큰 숫자를 출력하라."
   ]
  },
  {
   "cell_type": "code",
   "execution_count": 158,
   "id": "f7dd4e26-6285-499b-8086-8c327c8014a7",
   "metadata": {},
   "outputs": [
    {
     "name": "stdin",
     "output_type": "stream",
     "text": [
      "input number 1:  10\n",
      "input number 2:  9\n",
      "input number 3:  8\n"
     ]
    },
    {
     "name": "stdout",
     "output_type": "stream",
     "text": [
      "10\n"
     ]
    }
   ],
   "source": [
    "num1 = int(input(\"input number 1: \"))\n",
    "num2 = int(input(\"input number 2: \"))\n",
    "num3 = int(input(\"input number 3: \"))\n",
    "\n",
    "print(max([num1, num2, num3]))"
   ]
  },
  {
   "cell_type": "markdown",
   "id": "47fd5fbe-2311-4459-b3c9-98aeed6a08ef",
   "metadata": {},
   "source": [
    "# 125\n",
    "휴대폰 번호 앞자리에 따라 통신사는 아래와 같이 구분된다.  \n",
    "사용자로부터 휴대전화 번호를 입력 받고, 통신사를 출력하는 프로그램을 작성하라."
   ]
  },
  {
   "cell_type": "markdown",
   "id": "3547d8b4-4fac-4416-b39f-2a2523a71f44",
   "metadata": {},
   "source": [
    "|번호|\t통신사|\n",
    "|---|---|\n",
    "|011|\tSKT|\n",
    "|016|\tKT|\n",
    "|019|\tLGU|\n",
    "|010|\t알수없음|"
   ]
  },
  {
   "cell_type": "code",
   "execution_count": 69,
   "id": "f4cf7ded-5dc2-461b-953b-d2c180a3c7e8",
   "metadata": {},
   "outputs": [
    {
     "name": "stdin",
     "output_type": "stream",
     "text": [
      "휴대전화 번호 입력:  011-345-1922\n"
     ]
    },
    {
     "name": "stdout",
     "output_type": "stream",
     "text": [
      "당신은 SKT 사용자입니다.\n"
     ]
    }
   ],
   "source": [
    "telecom_dict = {\n",
    "    \"011\": \"SKT\",\n",
    "    \"016\": \"KT\",\n",
    "    \"019\": \"LGU\",\n",
    "    \"010\": \"알수없음\"\n",
    "}\n",
    "input_data = input(\"휴대전화 번호 입력: \")\n",
    "first_phone_num = input_data.split(\"-\")[0]\n",
    "\n",
    "print(\"당신은 {} 사용자입니다.\".format(telecom_dict[first_phone_num]))"
   ]
  },
  {
   "cell_type": "markdown",
   "id": "13b70350-3c81-42a0-a1ff-b7ad19fc5ac3",
   "metadata": {},
   "source": [
    "# 126\n",
    "우편번호는 5자리로 구성되는데, 앞의 세자리는 구를 나타낸다.  \n",
    "예를들어, 강북구의 경우 010, 011, 012 세 자리로 시작한다."
   ]
  },
  {
   "cell_type": "markdown",
   "id": "16f093dd-8831-48ec-a857-66b7cd472f75",
   "metadata": {},
   "source": [
    "|-\t|0\t|1\t|2\t|3\t|4\t|5\t|6\t|7\t|8\t|9  |\n",
    "|---|---|---|---|---|---|---|---|---|---|---|\n",
    "|01\t|강북구\t|강북구\t|강북구\t|도봉구\t|도봉구\t|도봉구\t|노원구\t|노원구\t|노원구\t|노원구|"
   ]
  },
  {
   "cell_type": "markdown",
   "id": "01620e49-6ee6-4e11-ad55-c20cba1d4ea3",
   "metadata": {},
   "source": [
    "사용자로 부터 5자리 우편번호를 입력받고 구를 판별하라"
   ]
  },
  {
   "cell_type": "code",
   "execution_count": 75,
   "id": "da85bdad-6041-4d0c-bf39-bbf282a00573",
   "metadata": {},
   "outputs": [
    {
     "name": "stdin",
     "output_type": "stream",
     "text": [
      "우편번호:  01400\n"
     ]
    },
    {
     "name": "stdout",
     "output_type": "stream",
     "text": [
      "도봉구\n"
     ]
    }
   ],
   "source": [
    "post_code_dict = {\n",
    "    0: \"강북구\",\n",
    "    1: \"강북구\",\n",
    "    2: \"강북구\",\n",
    "    3: \"도봉구\",\n",
    "    4: \"도봉구\",\n",
    "    5: \"도봉구\",\n",
    "    6: \"노원구\",\n",
    "    7: \"노원구\",\n",
    "    8: \"노원구\",\n",
    "    9: \"노원구\"\n",
    "}\n",
    "\n",
    "post_code = input(\"우편번호: \")\n",
    "code_num = int(post_code[2])\n",
    "\n",
    "print(post_code_dict[code_num])"
   ]
  },
  {
   "cell_type": "markdown",
   "id": "d8c134f8-d4b4-4dd9-8cae-cf33608e5179",
   "metadata": {},
   "source": [
    "# 127\n",
    "주민등록번호 뒷 자리 7자리 중 첫째 자리는 성별을 나타내는데, 1, 3은 남자 2, 4는 여자를 의미한다.  \n",
    "사용자로부터 13자리의 주민등록번호를 입력 받은 후 성별 (남자, 여자)를 출력하는 프로그램을 작성하라."
   ]
  },
  {
   "cell_type": "code",
   "execution_count": 81,
   "id": "6bf73d39-36a5-48e5-a8d7-8bff4881e799",
   "metadata": {},
   "outputs": [
    {
     "name": "stdin",
     "output_type": "stream",
     "text": [
      "주민등록번호:  821010-3315241\n"
     ]
    },
    {
     "name": "stdout",
     "output_type": "stream",
     "text": [
      "남자\n"
     ]
    }
   ],
   "source": [
    "rrn = input(\"주민등록번호: \")\n",
    "\n",
    "if rrn[7] in [\"1\", \"3\"]:\n",
    "    print(\"남자\")\n",
    "elif rrn[7] in [\"2\", \"4\"]:\n",
    "    print(\"여자\")"
   ]
  },
  {
   "cell_type": "markdown",
   "id": "3d7650cc-8b57-40d4-840f-e3d437c10c5c",
   "metadata": {},
   "source": [
    "# 128\n",
    "주민등록번호의 뒷 자리 7자리 중 두번째와 세번째는 지역코드를 의미한다.  \n",
    "주민 등록 번호를 입력 받은 후 출생지가 서울인지 아닌지 판단하는 코드를 작성하라"
   ]
  },
  {
   "cell_type": "markdown",
   "id": "850bb2c2-5835-41c8-b17c-fab73ebbd32d",
   "metadata": {},
   "source": [
    "|지역코드|\t출생지|\n",
    "|---|---|\n",
    "|00 ~ 08|\t서울|\n",
    "|09 ~ 12|\t부산|"
   ]
  },
  {
   "cell_type": "code",
   "execution_count": 85,
   "id": "364f61dd-ceb7-4439-b3d6-fc447b2222bb",
   "metadata": {},
   "outputs": [
    {
     "name": "stdin",
     "output_type": "stream",
     "text": [
      "주민등록번호:  861010-1015210\n"
     ]
    },
    {
     "name": "stdout",
     "output_type": "stream",
     "text": [
      "서울 입니다.\n"
     ]
    }
   ],
   "source": [
    "rrn = input(\"주민등록번호: \")\n",
    "loc_code = int(rrn[8:10])\n",
    "\n",
    "if 0 < loc_code <= 8:\n",
    "    print(\"서울 입니다.\")\n",
    "else:\n",
    "    print(\"서울이 아닙니다.\")"
   ]
  },
  {
   "cell_type": "markdown",
   "id": "7f2214b6-4138-4418-9ad2-8cf339aa7176",
   "metadata": {},
   "source": [
    "# 129\n",
    "주민등록번호는 13자리로 구성되는데 마지막 자리수는 주민등록번호의 유효성을 체크하는데 사용된다.  \n",
    "먼저 앞에서부터 12자리의 숫자에 2, 3, 4, 5, 6, 7, 8, 9, 2, 3, 4, 5를 차례로 곱한 뒤 그 값을 전부 더한다.  \n",
    "연산 결과 값을 11로 나누면 나머지가 나오는데 11에서 나머지를 뺀 값이 주민등록번호의 마지막 번호가 된다."
   ]
  },
  {
   "cell_type": "markdown",
   "id": "336dd523-5dd1-45f3-8791-f5ba1a25f34a",
   "metadata": {},
   "source": [
    "<pre>\n",
    "  8 2 1 0 1 0 - 1 6 3 5 2 1 0  \n",
    "x 2 3 4 5 6 7   8 9 2 3 4 5  \n",
    "-----------------------------  \n",
    "1차 계산: (8*2 + 2*3 + 1*4 + 0*5 + 1*6 + 0*7 + 1*8 + 6*9 + 3*2 + 5*3 + 2*4 + 1*5) = (128 % 11) = 7  <br>\n",
    "2차 계산: 11 -7 = 4  \n",
    "</pre>"
   ]
  },
  {
   "cell_type": "markdown",
   "id": "e003afbd-683a-4120-9248-03bee78bd025",
   "metadata": {},
   "source": [
    "위와 같이 821010-1635210에 대해서 계산을 해보면 마지막 자리는 4가 되어야 함을 알 수 있다.  \n",
    "즉, 821010-1635210은 유효하지 않은 주민등록번호임을 알 수 있다.\n",
    "\n",
    "다음과 같이 사용자로부터 주민등록번호를 입력받은 후 주민등록번호가 유효한지를 출력하는 프로그램을 작성하라."
   ]
  },
  {
   "cell_type": "code",
   "execution_count": 87,
   "id": "a80eb5bd-49f3-4d65-969a-1866cfb0a97e",
   "metadata": {},
   "outputs": [
    {
     "name": "stdout",
     "output_type": "stream",
     "text": [
      "[('a', 1), ('b', 2), ('c', 3), ('d', 4), ('e', 5)]\n"
     ]
    }
   ],
   "source": [
    "print(list(zip(\"abcde\", [1, 2, 3, 4, 5])))"
   ]
  },
  {
   "cell_type": "code",
   "execution_count": 99,
   "id": "a76d4ca5-393f-489a-b311-90cc0a180956",
   "metadata": {},
   "outputs": [
    {
     "name": "stdin",
     "output_type": "stream",
     "text": [
      "주민등록번호:  821010-1635210\n"
     ]
    },
    {
     "name": "stdout",
     "output_type": "stream",
     "text": [
      "유효하지 않은 주민등록번호입니다.\n"
     ]
    }
   ],
   "source": [
    "vcc = [2, 3, 4, 5, 6, 7, None, 8, 9, 2, 3, 4, 5]\n",
    "rrn = input(\"주민등록번호: \")\n",
    "# rrn = \"821010-1635210\"\n",
    "\n",
    "comparison = list(zip(vcc, rrn))\n",
    "\n",
    "sum = 0\n",
    "for vcc_num, rrn_num in comparison:\n",
    "    if vcc_num is not None:\n",
    "        sum += vcc_num * int(rrn_num)\n",
    "\n",
    "first_calculation = sum % 11\n",
    "# print(\"1차 계산: {}\".format(first_calculation))\n",
    "second_calcuation = 11 - first_calculation\n",
    "# print(\"2차 계산: {}\".format(second_calcuation))\n",
    "\n",
    "if int(rrn[-1]) == second_calcuation:\n",
    "    print(\"유효한 주민등록번호입니다.\")\n",
    "else:\n",
    "    print(\"유효하지 않은 주민등록번호입니다.\")"
   ]
  },
  {
   "cell_type": "markdown",
   "id": "bb3224b6-3fa2-4f97-abb6-ee28f195c696",
   "metadata": {},
   "source": [
    "# 130\r\n",
    "아래 코드는 비트코인의 가격 정보를 딕셔너리로 가져오는 코드이다."
   ]
  },
  {
   "cell_type": "code",
   "execution_count": 108,
   "id": "9244161b-9dc7-42a5-b29e-de7779a0eaae",
   "metadata": {},
   "outputs": [],
   "source": [
    "import requests\n",
    "btc = requests.get(\"https://api.bithumb.com/public/ticker/\").json()['data']"
   ]
  },
  {
   "cell_type": "markdown",
   "id": "f68a12ca-0dfa-40d8-84e7-1ed24528d115",
   "metadata": {},
   "source": [
    "btc 딕셔너리 안에는 시가, 종가, 최고가, 최저가 등이 저장되어 있다.  \n",
    "최고가와 최저가의 차이를 변동폭으로 정의할 때 (시가 + 변동폭)이 최고가 보다 높을 경우 \"상승장\", 그렇지 않은 경우 \"하락장\" 문자열을 출력하라."
   ]
  },
  {
   "cell_type": "markdown",
   "id": "3b483265-062d-4d18-87c4-b0cb4af0379b",
   "metadata": {},
   "source": [
    "|Key Name|\tDescription|\n",
    "|---|---|\n",
    "|opening_price|\t최근 24시간 내 시작 거래금액|\n",
    "|closing_price|\t최근 24시간 내 마지막 거래금액|\n",
    "|min_price|\t최근 24시간 내 최저 거래금액|\n",
    "|max_price|\t최근 24시간 내 최고 거래금액|"
   ]
  },
  {
   "cell_type": "code",
   "execution_count": 118,
   "id": "369c985a-be8d-4dc3-bb84-7104a0a12088",
   "metadata": {},
   "outputs": [
    {
     "name": "stdout",
     "output_type": "stream",
     "text": [
      "96375000.0\n",
      "94561000.0\n",
      "상승장\n"
     ]
    }
   ],
   "source": [
    "변동폭 = float(btc['max_price']) - float(btc['min_price'])\n",
    "시가 = float(btc['opening_price'])\n",
    "최고가 = float(btc['max_price'])\n",
    "\n",
    "print(변동폭 + 시가)\n",
    "print(최고가)\n",
    "\n",
    "if (시가 + 변동폭) > 최고가:\n",
    "    print(\"상승장\")\n",
    "else:\n",
    "    print(\"하락장\")"
   ]
  },
  {
   "cell_type": "markdown",
   "id": "414b4813-2840-4117-a679-2b26af016ba4",
   "metadata": {},
   "source": [
    "# 심화문제: 회원 관리 시스템 개발\n",
    "\n",
    "1. 회원가입\n",
    "   - 사용자 아이디, 사용자 비밀번호, 사용자 이메일\n",
    "   - 사용자 아이디는 반드시 하나만 존재할 것\n",
    "   - 사용자 비밀번호는 다음의 특수문자 중 하나 이상을 반드시 포함할 것 (특수문자: !@#$%^&*)\n",
    "   - 사용자 이메일은 다음의 형식을 같출 것: you359@sehan.ac.kr\n",
    "        + @로 구분됨\n",
    "        + @뒤의 문자열은 .으로 구분됨\n",
    "          \n",
    "3. 로그인\n",
    "   - 로그인 가능 조건:\n",
    "        + 상기의 아이디, 비밀번호, 이메일에 대한 유효성 조건을 만족해야 함\n",
    "        + 회원의 아이디가 존재해야 함\n",
    "        + 해당 아이디에 대한 회원의 비밀번호가 같아야 함\n",
    "   \n",
    "5. 회원정보수정\n",
    "   - 상기 로그인 가능 조건을 확인한 후, 조건을 만족하면 사용자로부터 비밀번호와 이메일을 입력받아 수정\n",
    "     \n",
    "7. 회원정보삭제\n",
    "   - 상기 로그인 가능 조건을 확인한 후, 조건을 만족하면 사용자 아이디에 해당하는 정보를 삭제할 것"
   ]
  },
  {
   "cell_type": "markdown",
   "id": "311f2db9-e8b4-4c91-a6e0-a7eb0faddb09",
   "metadata": {},
   "source": [
    "### 1. 회원정보저장을 위한 자료 생성"
   ]
  },
  {
   "cell_type": "code",
   "execution_count": 173,
   "id": "35c371f2-b657-4cd6-998a-7edcdf8be234",
   "metadata": {},
   "outputs": [],
   "source": [
    "user_info = {}"
   ]
  },
  {
   "cell_type": "markdown",
   "id": "3cb7d406-3222-4171-9340-24eb0d2786f9",
   "metadata": {},
   "source": [
    "### 2. 사용자 회원가입"
   ]
  },
  {
   "cell_type": "code",
   "execution_count": 179,
   "id": "75c06025-16df-478f-bef5-49bdccbec1f9",
   "metadata": {},
   "outputs": [
    {
     "name": "stdin",
     "output_type": "stream",
     "text": [
      "아이디를 입력하세요:  you35912\n",
      "비밀번호를 입력하세요:  !@#14564\n",
      "이메일을 입력하세요:  you359@koreatech.ac.kr\n"
     ]
    },
    {
     "name": "stdout",
     "output_type": "stream",
     "text": [
      "회원가입이 완료되었습니다.\n"
     ]
    }
   ],
   "source": [
    "user_id = input(\"아이디를 입력하세요: \")\n",
    "user_pw = input(\"비밀번호를 입력하세요: \")\n",
    "user_email = input(\"이메일을 입력하세요: \")\n",
    "\n",
    "if user_id in user_info.keys():\n",
    "    print(\"이미 존재하는 사용자 아이디입니다.\")\n",
    "\n",
    "elif len(set(\"!@#$%^&*\") & set(user_pw)) <= 0:\n",
    "    print(\"비밀번호는 반드시 특수문자를 포함해야 합니다.\")\n",
    "\n",
    "elif not(len(user_email.split(\"@\")) == 2 and len(user_email.split(\"@\")[-1].split(\".\")) == 3):\n",
    "    print(\"유효하지 않은 이메일입니다.\")\n",
    "    \n",
    "else:\n",
    "    user_info[user_id] = (user_pw, user_email)\n",
    "    print(\"회원가입이 완료되었습니다.\")"
   ]
  },
  {
   "cell_type": "code",
   "execution_count": 196,
   "id": "48a67429-6b78-4ce2-a000-230ec708e7fa",
   "metadata": {},
   "outputs": [
    {
     "name": "stdout",
     "output_type": "stream",
     "text": [
      "{'you35912': ('!@#14564', 'you359@koreatech.ac.kr')}\n"
     ]
    }
   ],
   "source": [
    "print(user_info)"
   ]
  },
  {
   "cell_type": "markdown",
   "id": "434e9397-b791-4deb-8789-5536e083a8bc",
   "metadata": {},
   "source": [
    "### 3. 사용자 로그인"
   ]
  },
  {
   "cell_type": "code",
   "execution_count": 184,
   "id": "2d658f14-783f-4a5b-b2d7-3e6b4a320022",
   "metadata": {},
   "outputs": [
    {
     "name": "stdin",
     "output_type": "stream",
     "text": [
      "아이디를 입력하세요:  you359\n",
      "비밀번호를 입력하세요:  #$#$%#$%$#%\n"
     ]
    },
    {
     "name": "stdout",
     "output_type": "stream",
     "text": [
      "로그인 성공\n"
     ]
    }
   ],
   "source": [
    "user_id = input(\"아이디를 입력하세요: \")\n",
    "user_pw = input(\"비밀번호를 입력하세요: \")\n",
    "\n",
    "if user_id not in user_info.keys():\n",
    "    print(\"아이디가 존재하지 않습니다.\")\n",
    "elif user_pw != user_info[user_id][0]:\n",
    "    print(\"비밀번호가 일치하지 않습니다.\")\n",
    "else:\n",
    "    print(\"로그인 성공\")"
   ]
  },
  {
   "cell_type": "markdown",
   "id": "46d9881f-9356-4a83-9ba4-1ccacce8295b",
   "metadata": {},
   "source": [
    "### 4. 사용자 정보 수정"
   ]
  },
  {
   "cell_type": "code",
   "execution_count": 192,
   "id": "94850cdb-73b0-4f8b-bb57-e28c12d598c4",
   "metadata": {},
   "outputs": [
    {
     "name": "stdin",
     "output_type": "stream",
     "text": [
      "아이디를 입력하세요:  you359\n",
      "비밀번호를 입력하세요:  123!@#\n",
      "새로운 비밀번호를 입력하세요:  1234!@#$\n",
      "새로운 이메일을 입력하세요:  you359@sehan.ac.kr\n"
     ]
    },
    {
     "name": "stdout",
     "output_type": "stream",
     "text": [
      "회원정보 수정 성공!\n"
     ]
    }
   ],
   "source": [
    "user_id = input(\"아이디를 입력하세요: \")\n",
    "user_pw = input(\"비밀번호를 입력하세요: \")\n",
    "\n",
    "if user_id not in user_info.keys():\n",
    "    print(\"아이디가 존재하지 않습니다.\")\n",
    "elif user_pw != user_info[user_id][0]:\n",
    "    print(\"비밀번호가 일치하지 않습니다.\")\n",
    "else:\n",
    "    user_new_pw = input(\"새로운 비밀번호를 입력하세요: \")\n",
    "    user_new_email = input(\"새로운 이메일을 입력하세요: \")\n",
    "\n",
    "    if len(set(\"!@#$%^&*\") & set(user_new_pw)) <= 0:\n",
    "        print(\"비밀번호는 반드시 특수문자를 포함해야 합니다.\")\n",
    "    elif not(len(user_new_email.split(\"@\")) == 2 and len(user_new_email.split(\"@\")[-1].split(\".\")) == 3):\n",
    "        print(\"유효하지 않은 이메일입니다.\")\n",
    "    else:\n",
    "        user_info[user_id] = (user_new_pw, user_new_email)\n",
    "        print(\"회원정보 수정 성공!\")"
   ]
  },
  {
   "cell_type": "markdown",
   "id": "d5e08e9e-8d2e-4a0c-91e5-17718e978c92",
   "metadata": {},
   "source": [
    "### 5. 사용자 정보 삭제"
   ]
  },
  {
   "cell_type": "code",
   "execution_count": 195,
   "id": "677636ef-9704-4715-8358-a5b8339aaaf4",
   "metadata": {},
   "outputs": [
    {
     "name": "stdin",
     "output_type": "stream",
     "text": [
      "아이디를 입력하세요:  you359\n",
      "비밀번호를 입력하세요:  1234!@#$\n"
     ]
    },
    {
     "name": "stdout",
     "output_type": "stream",
     "text": [
      "사용자 정보 삭제 완료\n"
     ]
    }
   ],
   "source": [
    "user_id = input(\"아이디를 입력하세요: \")\n",
    "user_pw = input(\"비밀번호를 입력하세요: \")\n",
    "\n",
    "if user_id not in user_info.keys():\n",
    "    print(\"아이디가 존재하지 않습니다.\")\n",
    "elif user_pw != user_info[user_id][0]:\n",
    "    print(\"비밀번호가 일치하지 않습니다.\")\n",
    "else:\n",
    "    del user_info[user_id]\n",
    "    print(\"사용자 정보 삭제 완료\")"
   ]
  }
 ],
 "metadata": {
  "kernelspec": {
   "display_name": "Python 3 (ipykernel)",
   "language": "python",
   "name": "python3"
  },
  "language_info": {
   "codemirror_mode": {
    "name": "ipython",
    "version": 3
   },
   "file_extension": ".py",
   "mimetype": "text/x-python",
   "name": "python",
   "nbconvert_exporter": "python",
   "pygments_lexer": "ipython3",
   "version": "3.11.7"
  }
 },
 "nbformat": 4,
 "nbformat_minor": 5
}
