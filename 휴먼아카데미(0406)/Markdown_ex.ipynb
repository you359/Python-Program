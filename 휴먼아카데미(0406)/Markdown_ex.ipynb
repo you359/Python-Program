{
 "cells": [
  {
   "cell_type": "markdown",
   "id": "55b9ee07-58ac-4fab-98a6-d91af9eadb49",
   "metadata": {},
   "source": [
    "# Markdown 언어 실습\n",
    "## Header\n",
    "1. Header 작성 (Markdown 언어)"
   ]
  },
  {
   "cell_type": "markdown",
   "id": "603a49b4-11d0-4235-a01c-f40bd7ec8fe9",
   "metadata": {},
   "source": [
    "<a id=\"header\"></a>"
   ]
  },
  {
   "cell_type": "markdown",
   "id": "e0deff6c-489e-4d7b-bb96-bc7120914b93",
   "metadata": {},
   "source": [
    "# Header\n",
    "## Header\n",
    "### Header\n",
    "#### Header\n",
    "##### Header\n",
    "###### Header"
   ]
  },
  {
   "cell_type": "markdown",
   "id": "7e8440e2-7e39-4738-b3a8-97581726f75a",
   "metadata": {},
   "source": [
    "# Header\n",
    "## Header\n",
    "### Header\n",
    "#### Header\n",
    "##### Header\n",
    "###### Header"
   ]
  },
  {
   "cell_type": "markdown",
   "id": "98e4dfa6-717d-4f3c-80c0-046a557ae339",
   "metadata": {},
   "source": [
    "2. Header 작성 (HTML 언어)"
   ]
  },
  {
   "cell_type": "markdown",
   "id": "96d3eed9-aabd-47a9-bb6a-07268e80281d",
   "metadata": {
    "jp-MarkdownHeadingCollapsed": true
   },
   "source": [
    "<h1>Header</h1>\n",
    "<h2>Header</h2>\n",
    "<h3>Header</h3>\n",
    "<h4>Header</h4>\n",
    "<h5>Header</h5>\n",
    "<h6>Header</h6>"
   ]
  },
  {
   "cell_type": "markdown",
   "id": "7f4db75d-00ba-47b3-8e09-5eff018b481a",
   "metadata": {},
   "source": [
    "<h1>Header</h1>\n",
    "<h2>Header</h2>\n",
    "<h3>Header</h3>\n",
    "<h4>Header</h4>\n",
    "<h5>Header</h5>\n",
    "<h6>Header</h6>"
   ]
  },
  {
   "cell_type": "markdown",
   "id": "7e061266-4537-48a9-9dec-62f1e8ade624",
   "metadata": {},
   "source": [
    "---"
   ]
  },
  {
   "cell_type": "markdown",
   "id": "92a52c4f-3f0d-4f9c-870f-949a079f5128",
   "metadata": {},
   "source": [
    "<a id=\"bold_text\"></a>"
   ]
  },
  {
   "cell_type": "markdown",
   "id": "804624db-1264-41b6-8b66-ea2a7cb7847b",
   "metadata": {},
   "source": [
    "## Bold Text\n",
    "1. Bold Text 작성 (Markdown 언어)"
   ]
  },
  {
   "cell_type": "markdown",
   "id": "e9926e0a-aac2-4de9-893d-cc0273bbd8f1",
   "metadata": {},
   "source": [
    "이 글은 **굵게** 작성된 내용입니다.  \n",
    "__이 글은 굵게 작성된 내용입니다.__"
   ]
  },
  {
   "cell_type": "markdown",
   "id": "629a734e-0d66-4134-a751-61a62e4f99e2",
   "metadata": {},
   "source": [
    "이 글은 **굵게** 작성된 내용입니다.  \n",
    "__이 글은 굵게 작성된 내용입니다.__"
   ]
  },
  {
   "cell_type": "markdown",
   "id": "0a913644-6f6d-44b1-bdd6-2a43dc68bf7d",
   "metadata": {},
   "source": [
    "2. Bold Text 작성 (HTML 언어)"
   ]
  },
  {
   "cell_type": "markdown",
   "id": "d4b426b7-8914-4d73-b794-da0df94fe9a2",
   "metadata": {},
   "source": [
    "이 글은 <b>굵게</b> 작성된 내용입니다. </br>\n",
    "<strong>이 글은 굵게 작성된 내용입니다.</strong>"
   ]
  },
  {
   "cell_type": "markdown",
   "id": "e8e1d3ad-a58d-4cfc-91ae-0f95b2b78701",
   "metadata": {},
   "source": [
    "이 글은 <b>굵게</b> 작성된 내용입니다. </br>\n",
    "<strong>이 글은 굵게 작성된 내용입니다.</strong>"
   ]
  },
  {
   "cell_type": "markdown",
   "id": "824e15e4-5ac2-4ce5-81df-3734e0b94559",
   "metadata": {},
   "source": [
    "---"
   ]
  },
  {
   "cell_type": "markdown",
   "id": "013c255b-3bfa-48b3-8bb9-4ff34a5b5cac",
   "metadata": {},
   "source": [
    "# Italic Text\n",
    "1. Italic Text 작성 (Markdown 언어)"
   ]
  },
  {
   "cell_type": "markdown",
   "id": "0927b33d-83a7-480a-9f0e-27340777b37a",
   "metadata": {},
   "source": [
    "이 글은 *기울기*가 적용된 내용입니다.  \n",
    "_이 글은 기울기가 적용된 내용입니다._"
   ]
  },
  {
   "cell_type": "markdown",
   "id": "8b68d08f-4a94-4318-9259-223958a12bc1",
   "metadata": {},
   "source": [
    "이 글은 *기울기*가 적용된 내용입니다.  \n",
    "_이 글은 기울기가 적용된 내용입니다._"
   ]
  },
  {
   "cell_type": "markdown",
   "id": "09ec83ce-36fe-4610-9487-e559dcf54c7e",
   "metadata": {},
   "source": [
    "2. Italic Text 작성 (HTML 언어)"
   ]
  },
  {
   "cell_type": "markdown",
   "id": "b0048aa2-7e9a-4ced-b4bb-d0da79a0635c",
   "metadata": {},
   "source": [
    "이 글은 <em>기울기</em>가 적용된 내용입니다. </br>\r",
    "<i>\n",
    "이 글은 기울기가 적용된 내용입니다</i>."
   ]
  },
  {
   "cell_type": "markdown",
   "id": "c7114927-6034-4bfb-b6ec-defa6f3d2abb",
   "metadata": {},
   "source": [
    "이 글은 <em>기울기</em>가 적용된 내용입니다. </br>\r",
    "<i>\n",
    "이 글은 기울기가 적용된 내용입니다</i>."
   ]
  },
  {
   "cell_type": "markdown",
   "id": "97017ad1-e652-4214-a2e8-c2149f69aa97",
   "metadata": {},
   "source": [
    "---"
   ]
  },
  {
   "cell_type": "markdown",
   "id": "6455610b-50d1-4fc1-a85b-de54736e308e",
   "metadata": {},
   "source": [
    "# Bold & Italic Text"
   ]
  },
  {
   "cell_type": "markdown",
   "id": "f63051da-52a6-43b8-bcf3-b7ff50ffa0da",
   "metadata": {},
   "source": [
    "1. Bold & Italic Text 작성 (Markdown 언어)"
   ]
  },
  {
   "cell_type": "markdown",
   "id": "5ea7700d-46df-4ae0-b2a1-3aa76dc2207a",
   "metadata": {},
   "source": [
    "이 글은 ***굵게 그리고 기울기***가 동시에 적용된 내용입니다.  \n",
    "___이 글은 굵게 그리고 기울기가 동시에 적용된 내용입니다.___"
   ]
  },
  {
   "cell_type": "markdown",
   "id": "f15b8733-443b-4921-a17f-988144fc3402",
   "metadata": {},
   "source": [
    "이 글은 ***굵게 그리고 기울기***가 동시에 적용된 내용입니다.  \n",
    "___이 글은 굵게 그리고 기울기가 동시에 적용된 내용입니다.___"
   ]
  },
  {
   "cell_type": "markdown",
   "id": "d23282af-1500-4d33-a286-d3c3826897e5",
   "metadata": {},
   "source": [
    "2. Bold & Italic Text 작성 (HTML 언어)"
   ]
  },
  {
   "cell_type": "markdown",
   "id": "fb66ffad-6eea-43ff-ac81-e6a83b706d58",
   "metadata": {},
   "source": [
    "이 글은 <b><i>굵게 그리고 기울기</i></b>가 동시에 적용된 내용입니다. </br>\r",
    "<strong><em>\n",
    "이 글은 굵게 그리고 기울기가 동시에 적용된 내용입니다</em></strong>."
   ]
  },
  {
   "cell_type": "markdown",
   "id": "46cb2b54-6632-46d2-abe4-7464be552985",
   "metadata": {},
   "source": [
    "이 글은 <b><i>굵게 그리고 기울기</i></b>가 동시에 적용된 내용입니다. </br>\r",
    "<strong><em>\n",
    "이 글은 굵게 그리고 기울기가 동시에 적용된 내용입니다</em></strong>."
   ]
  },
  {
   "cell_type": "markdown",
   "id": "b1012dda-bcc7-4ac7-a3e7-643decba3040",
   "metadata": {},
   "source": [
    "---"
   ]
  },
  {
   "cell_type": "markdown",
   "id": "52faed4f-e0f9-4d7e-b6ce-51fd718bf4f8",
   "metadata": {},
   "source": [
    "# STRIKETHROUGH Text\n",
    "1. STRIKETHROUGH Text 작성 (Markdown 언어)"
   ]
  },
  {
   "cell_type": "markdown",
   "id": "d76de6c2-097c-4a9b-9771-d36d93547297",
   "metadata": {},
   "source": [
    "~~이 글은 취소된 내용입니다.~~"
   ]
  },
  {
   "cell_type": "markdown",
   "id": "577a21a7-4e58-4eba-a8ba-04dd7ba96ebf",
   "metadata": {},
   "source": [
    "~~이 글은 취소된 내용입니다.~~"
   ]
  },
  {
   "cell_type": "markdown",
   "id": "c38ee70b-6062-4a39-8b4b-1c3537332126",
   "metadata": {},
   "source": [
    "2. STRIKETHROUGH Text 작성 (HTML언어)"
   ]
  },
  {
   "cell_type": "markdown",
   "id": "0ee5093e-36c4-47e9-8d10-f17efb7fb1e2",
   "metadata": {},
   "source": [
    "<del>이 글은 취소된 내용입니다.</del>"
   ]
  },
  {
   "cell_type": "markdown",
   "id": "7e51cdba-6134-4bca-a445-137afb2cd1dc",
   "metadata": {},
   "source": [
    "<del>이 글은 취소된 내용입니다.</del>"
   ]
  },
  {
   "cell_type": "markdown",
   "id": "1844b3d9-ce87-49f9-9608-b0e357a691bf",
   "metadata": {},
   "source": [
    "---"
   ]
  },
  {
   "cell_type": "markdown",
   "id": "83bdec58-c358-4593-ba11-67de6ce04d41",
   "metadata": {},
   "source": [
    "# BACKSLASH ESCAPE\n",
    "- BACKSLASH ESCAPE 작성 (Markdown 언어)\n",
    "  + 마크다운언어를 통해 \"#\"문자를 작성하고자 할 때는 역슬래쉬(\\#)문자를 활용"
   ]
  },
  {
   "cell_type": "markdown",
   "id": "a45c9428-c4fd-471b-9589-3658b9f6adcf",
   "metadata": {
    "jp-MarkdownHeadingCollapsed": true
   },
   "source": [
    "\\# Not Header"
   ]
  },
  {
   "cell_type": "markdown",
   "id": "60aa7afd-8587-4345-be61-5a5594562f1b",
   "metadata": {
    "jp-MarkdownHeadingCollapsed": true
   },
   "source": [
    "\\# Not Header"
   ]
  },
  {
   "cell_type": "markdown",
   "id": "b4f0a19f-5f29-4ca5-a63e-77d540f09669",
   "metadata": {},
   "source": [
    "\\*\\*이 글은 굵게 작성되지 않은 내용입니다.\\*\\*"
   ]
  },
  {
   "cell_type": "markdown",
   "id": "8d8b0b8c-a3c4-4397-bdd8-8f55fdd3664d",
   "metadata": {},
   "source": [
    "\\*\\*이 글은 굵게 작성되지 않은 내용입니다.\\*\\*"
   ]
  },
  {
   "cell_type": "markdown",
   "id": "89dd2ba7-f00b-444e-82dd-7c2189954fb5",
   "metadata": {},
   "source": [
    "---"
   ]
  },
  {
   "cell_type": "markdown",
   "id": "c5cbbd96-5dad-4494-91c6-0ac9f15d650c",
   "metadata": {},
   "source": [
    "# PARAGRAPHS\n",
    "1. PARAGRAPHS 작성 (Markdown 언어)"
   ]
  },
  {
   "cell_type": "markdown",
   "id": "9ad57380-560d-4d45-b1e1-f1c934c515b1",
   "metadata": {},
   "source": [
    "이 글은 첫 번째 문장입니다.  \n",
    "이 글은 두 번째 문장입니다."
   ]
  },
  {
   "cell_type": "markdown",
   "id": "c8d36310-f22c-48b1-92ff-129bf717b307",
   "metadata": {},
   "source": [
    "이 글은 첫 번째 문장입니다.  \n",
    "이 글은 두 번째 문장입니다."
   ]
  },
  {
   "cell_type": "markdown",
   "id": "d9f97188-a6fc-48c1-bbd3-8bc29e929e05",
   "metadata": {},
   "source": [
    "2. PARAGRAPHS 작성 (HTML 언어)"
   ]
  },
  {
   "cell_type": "markdown",
   "id": "d90f24f2-5fec-4850-afbc-0d8d1c670f7a",
   "metadata": {},
   "source": [
    "이 글은 첫 번째 문장입니다. </br>\n",
    "이 글은 두 번째 문장입니다."
   ]
  },
  {
   "cell_type": "markdown",
   "id": "25ed88ee-bcb8-4da5-b3e6-f2566889dc39",
   "metadata": {},
   "source": [
    "이 글은 첫 번째 문장입니다. </br>\n",
    "이 글은 두 번째 문장입니다."
   ]
  },
  {
   "cell_type": "markdown",
   "id": "aa788dc4-04bf-45e7-a9d6-f9d5ecca20a5",
   "metadata": {},
   "source": [
    "<p>이 글은 첫 번째 문장입니다.</p>\n",
    "<p>이 글은 두 번째 문장입니다.</p>"
   ]
  },
  {
   "cell_type": "markdown",
   "id": "813798e4-11ba-4c2e-93c2-ee853513207c",
   "metadata": {},
   "source": [
    "<p>이 글은 첫 번째 문장입니다.</p>\n",
    "<p>이 글은 두 번째 문장입니다.</p>"
   ]
  },
  {
   "cell_type": "markdown",
   "id": "0169e668-6bc3-4a97-9074-7f16761db4e0",
   "metadata": {},
   "source": [
    "---"
   ]
  },
  {
   "cell_type": "markdown",
   "id": "5c71b22c-543b-475c-8ee7-94c726b7b11d",
   "metadata": {},
   "source": [
    "# BLOCKQUOTES\n",
    "1. BLOCKQUOTES 작성 (Markdown 언어)"
   ]
  },
  {
   "cell_type": "markdown",
   "id": "f2b910a4-78a1-4100-8c79-6e1fb7fe737b",
   "metadata": {},
   "source": [
    "> 이 글은 인용문입니다."
   ]
  },
  {
   "cell_type": "markdown",
   "id": "aa4d8fbd-30da-43d2-98c7-2f41fb572557",
   "metadata": {},
   "source": [
    "> 이 글은 인용문입니다."
   ]
  },
  {
   "cell_type": "markdown",
   "id": "c61ef8f5-c125-4670-9b0b-e28c2c46915e",
   "metadata": {},
   "source": [
    "2. BLOCKQUOTES 작성 (HTML 언어)"
   ]
  },
  {
   "cell_type": "markdown",
   "id": "f0e21c5a-c8fb-4269-a359-78e55330949b",
   "metadata": {},
   "source": [
    "<blockquote>이 글은 인용문입니다.</blockquote>"
   ]
  },
  {
   "cell_type": "markdown",
   "id": "66d5cc5d-9e62-4676-8db9-64f181a83b0f",
   "metadata": {},
   "source": [
    "<blockquote>이 글은 인용문입니다.</blockquote>"
   ]
  },
  {
   "cell_type": "markdown",
   "id": "fff2fca3-6d34-42ca-bf31-97d036328c8b",
   "metadata": {},
   "source": [
    "---"
   ]
  },
  {
   "cell_type": "markdown",
   "id": "1ea5cfa2-e6e2-4edf-931d-6b7bb874eff5",
   "metadata": {},
   "source": [
    "# NESTED BLOCK QUOTING\n",
    "1. NESTED BLOCK QUOTING 작성 (Markdown 언어)"
   ]
  },
  {
   "cell_type": "markdown",
   "id": "46537be1-53a4-4eaa-91eb-0d181b2fb14f",
   "metadata": {},
   "source": [
    "> 1수준 인용문\n",
    ">> 2수준 인용문\n",
    ">>> 3수준 인용문"
   ]
  },
  {
   "cell_type": "markdown",
   "id": "0cc0d02f-972f-4941-8195-3726448d9c86",
   "metadata": {},
   "source": [
    "> 1수준 인용문\n",
    ">> 2수준 인용문\n",
    ">>> 3수준 인용문"
   ]
  },
  {
   "cell_type": "markdown",
   "id": "7042fad5-aa69-42b4-8370-5de32ca57c34",
   "metadata": {},
   "source": [
    "<blockquote>\r",
    "    \n",
    "<p1수준 인용문t</p>    \r\n",
    "<blockquote        >\r\n",
    "2수준 인용문ext</        p>\r\n",
    "<blockquo            te>3수준 인용문 more        </p>\r\n",
    "</blockq    uote>\r\n",
    "</blockquote>\r\n",
    "</blockquote>"
   ]
  },
  {
   "cell_type": "markdown",
   "id": "c20c2755-1790-49bd-bc30-69616d6ce80b",
   "metadata": {},
   "source": [
    "<blockquote>\n",
    "    <p>1수준 인용문</p>\n",
    "    <blockquote>\n",
    "        <p>2수준 인용문</p>\n",
    "        <blockquote>\n",
    "            <p>3수준 인용문</p>\n",
    "        </blockquote>\n",
    "    </blockquote>\n",
    "</blockquote>"
   ]
  },
  {
   "cell_type": "markdown",
   "id": "5bae8297-1dd3-4b9c-acc6-3ca245e424fd",
   "metadata": {},
   "source": [
    "---"
   ]
  },
  {
   "cell_type": "markdown",
   "id": "1c98d115-7ea1-4437-8fe7-eb35755a7596",
   "metadata": {},
   "source": [
    "# HORIZONTAL LINE (수평선)\n",
    "1. HORIZONTAL LINE 작성 (Markdown 언어)"
   ]
  },
  {
   "cell_type": "markdown",
   "id": "e1d000ca-ba33-4ba3-baca-32ee6163c856",
   "metadata": {},
   "source": [
    "---\n",
    "___\n",
    "***"
   ]
  },
  {
   "cell_type": "markdown",
   "id": "00c4175b-f094-4eba-986d-374f35b8ae58",
   "metadata": {},
   "source": [
    "---\n",
    "___\n",
    "***"
   ]
  },
  {
   "cell_type": "markdown",
   "id": "ae500ac1-4b6f-4d4a-b2c4-423e74d755c4",
   "metadata": {},
   "source": [
    "2. HORIZONTAL LINE 작성 (HTML 언어)"
   ]
  },
  {
   "cell_type": "markdown",
   "id": "99a24979-deb9-48ad-b0b2-bddde198b8ce",
   "metadata": {},
   "source": [
    "<hr>"
   ]
  },
  {
   "cell_type": "markdown",
   "id": "772dfd9c-1efd-415c-9c31-58e7e5adae41",
   "metadata": {},
   "source": [
    "<hr>"
   ]
  },
  {
   "cell_type": "markdown",
   "id": "de9d8663-12a3-4ea9-bb2d-288741143831",
   "metadata": {},
   "source": [
    "# ORDERED LIST\n",
    "1. ORDERED LIST 작성 (Markdown 언어)"
   ]
  },
  {
   "cell_type": "markdown",
   "id": "eb4108ef-fc2f-4913-9df5-f70760389328",
   "metadata": {},
   "source": [
    "1. 아이템 1\n",
    "2. 아이템 2\n",
    "3. 아이템 3\n",
    "4. 아이템 4\n",
    "5. 아이템 5"
   ]
  },
  {
   "cell_type": "markdown",
   "id": "e9a2ac1f-d160-47bc-a6ae-34e4372e0ff8",
   "metadata": {},
   "source": [
    "1. 아이템 1\n",
    "2. 아이템 2\n",
    "3. 아이템 3\n",
    "4. 아이템 4\n",
    "5. 아이템 5"
   ]
  },
  {
   "cell_type": "markdown",
   "id": "3a29c6fb-5239-4f98-8d56-4d30ffe3db89",
   "metadata": {},
   "source": [
    "2. ORDERED LIST 작성 (HTML 언어)"
   ]
  },
  {
   "cell_type": "markdown",
   "id": "9c9a49e0-db4e-4650-8888-b5343880b8aa",
   "metadata": {},
   "source": [
    "<ol>\n",
    "    <li>아이템 1</li>\n",
    "    <li>아이템 2</li>\n",
    "    <li>아이템 3</li>\n",
    "    <li>아이템 4</li>\n",
    "    <li>아이템 5</li>\n",
    "</ol>"
   ]
  },
  {
   "cell_type": "markdown",
   "id": "034dae52-f1a0-4232-b160-199d34eafb99",
   "metadata": {},
   "source": [
    "<ol>\n",
    "    <li>아이템 1</li>\n",
    "    <li>아이템 2</li>\n",
    "    <li>아이템 3</li>\n",
    "    <li>아이템 4</li>\n",
    "    <li>아이템 5</li>\n",
    "</ol>"
   ]
  },
  {
   "cell_type": "markdown",
   "id": "22ec1be6-7afe-4be9-8ca6-6fe38dfc2a2d",
   "metadata": {},
   "source": [
    "<hr>"
   ]
  },
  {
   "cell_type": "markdown",
   "id": "7acc2ce9-b8cd-4b8a-b74e-b6a806e4686a",
   "metadata": {},
   "source": [
    "# NESTED ORDERED LIST\n",
    "1. NESTED ORDERED LIST 작성 (Markdown 언어)"
   ]
  },
  {
   "cell_type": "markdown",
   "id": "b5cc7cac-0423-4e51-a903-066b3b69a7f7",
   "metadata": {},
   "source": [
    "1. 아이템 1\n",
    "    1. 서브 아이템 1\n",
    "    2. 서브 아이템 1\n",
    "    3. 서브 아이템 1\n",
    "2. 아이템 2\n",
    "3. 아이템 3"
   ]
  },
  {
   "cell_type": "markdown",
   "id": "fafdccd9-e1f3-41f0-8eed-8281d3c891b1",
   "metadata": {},
   "source": [
    "1. 아이템 1\n",
    "    1. 서브 아이템 1\n",
    "    2. 서브 아이템 1\n",
    "    3. 서브 아이템 1\n",
    "2. 아이템 2\n",
    "3. 아이템 3"
   ]
  },
  {
   "cell_type": "markdown",
   "id": "3764a980-64e2-47a1-8780-203690371cc7",
   "metadata": {},
   "source": [
    "2. NESTED ORDERED LIST 작성 (HTML 언어)"
   ]
  },
  {
   "cell_type": "markdown",
   "id": "761989b1-fbf7-4c41-9c77-24bf677ca670",
   "metadata": {},
   "source": [
    "<ol>\n",
    "    <li>아이템 1</li>\n",
    "    <ol>\n",
    "        <li>서브 아이템 1</li>\n",
    "        <li>서브 아이템 2</li>\n",
    "        <li>서브 아이템 3</li>\n",
    "    </ol>\n",
    "    <li>아이템 2</li>\n",
    "    <li>아이템 3</li>\n",
    "</ol>"
   ]
  },
  {
   "cell_type": "markdown",
   "id": "0a7c1b96-5fc9-43e3-9258-fffa7791fe04",
   "metadata": {},
   "source": [
    "<ol>\n",
    "    <li>아이템 1</li>\n",
    "    <ol>\n",
    "        <li>서브 아이템 1</li>\n",
    "        <li>서브 아이템 2</li>\n",
    "        <li>서브 아이템 3</li>\n",
    "    </ol>\n",
    "    <li>아이템 2</li>\n",
    "    <li>아이템 3</li>\n",
    "</ol>"
   ]
  },
  {
   "cell_type": "markdown",
   "id": "6ac780ba-c9c2-4f8f-8ea6-aee99eddff0d",
   "metadata": {},
   "source": [
    "<hr>"
   ]
  },
  {
   "cell_type": "markdown",
   "id": "948527d0-22e2-45a4-82ad-acc1db755330",
   "metadata": {},
   "source": [
    "# UNORDERED LIST\n",
    "1. UNORDERED LIST 작성 (Markdown 언어)"
   ]
  },
  {
   "cell_type": "markdown",
   "id": "f1574d81-607e-4ec8-b178-8577169aba06",
   "metadata": {},
   "source": [
    "- 아이템 1\n",
    "- 아이템 2\n",
    "  + 서브아이템 2-1\n",
    "  + 서브아이템 2-2"
   ]
  },
  {
   "cell_type": "markdown",
   "id": "d457a8ef-3386-4c7e-b85e-bd0eea3928c9",
   "metadata": {},
   "source": [
    "- 아이템 1\n",
    "- 아이템 2\n",
    "  + 서브아이템 2-1\n",
    "  + 서브아이템 2-2"
   ]
  },
  {
   "cell_type": "markdown",
   "id": "dabb5bee-eb88-4644-b39a-184ae7d5e8d4",
   "metadata": {},
   "source": [
    "2 UNORDERED LIST 작성 (HTML 언어)"
   ]
  },
  {
   "cell_type": "markdown",
   "id": "5b7e9ca9-7d3a-408f-8bc0-115ada44a9e7",
   "metadata": {},
   "source": [
    "<ul>\n",
    "    <li>아이템 1</li>\n",
    "    <li>아이템 2</li>\n",
    "    <ul>\n",
    "        <li>서브아이템 2-1</li>\n",
    "        <li>서브아이템 2-2</li>\n",
    "    </ul>\n",
    "</ul>"
   ]
  },
  {
   "cell_type": "markdown",
   "id": "f5b5e23e-a4ea-471d-b5e4-4bc99a336d99",
   "metadata": {},
   "source": [
    "<ul>\n",
    "    <li>아이템 1</li>\n",
    "    <li>아이템 2</li>\n",
    "    <ul>\n",
    "        <li>서브아이템 2-1</li>\n",
    "        <li>서브아이템 2-2</li>\n",
    "    </ul>\n",
    "</ul>"
   ]
  },
  {
   "cell_type": "markdown",
   "id": "31ea6814-e92a-4085-8a29-90e18c47ec65",
   "metadata": {},
   "source": [
    "<hr>"
   ]
  },
  {
   "cell_type": "markdown",
   "id": "6d04ba2a-b5d5-495c-8334-3aa9bf55282b",
   "metadata": {},
   "source": [
    "# Graphics\n",
    "1. 사진 첨부하기 (Markdown 언어)\n",
    "   - \\![](이미지 주소)"
   ]
  },
  {
   "cell_type": "markdown",
   "id": "f1f28590-7280-4cd8-bdb7-3c9703abcdbb",
   "metadata": {},
   "source": [
    "![](https://i.namu.wiki/i/mxMv5lNX8m8lUwu7yTjN6eNZh8JVuI6a_chEyMRc4V9oECkhVIl7OiPiGIOllv14uDVNuwRPVco8abCPe5xOiQ.svg)"
   ]
  },
  {
   "cell_type": "markdown",
   "id": "bfeceeb0-22d5-4417-9b0a-19d3457d52a8",
   "metadata": {},
   "source": [
    "![](https://i.namu.wiki/i/mxMv5lNX8m8lUwu7yTjN6eNZh8JVuI6a_chEyMRc4V9oECkhVIl7OiPiGIOllv14uDVNuwRPVco8abCPe5xOiQ.svg)"
   ]
  },
  {
   "cell_type": "markdown",
   "id": "3d375a74-b5ef-444f-a5c2-09e932ecbd95",
   "metadata": {},
   "source": [
    "2. 사진 첨부하기 (HTML 언어)"
   ]
  },
  {
   "cell_type": "markdown",
   "id": "8bd18e34-8c62-4b38-8b85-938a53b91cdf",
   "metadata": {},
   "source": [
    "<img src=\"https://i.namu.wiki/i/mxMv5lNX8m8lUwu7yTjN6eNZh8JVuI6a_chEyMRc4V9oECkhVIl7OiPiGIOllv14uDVNuwRPVco8abCPe5xOiQ.svg\">"
   ]
  },
  {
   "cell_type": "markdown",
   "id": "111128a9-fc24-45fc-a948-2ea72c18cba8",
   "metadata": {},
   "source": [
    "<img src=\"https://i.namu.wiki/i/mxMv5lNX8m8lUwu7yTjN6eNZh8JVuI6a_chEyMRc4V9oECkhVIl7OiPiGIOllv14uDVNuwRPVco8abCPe5xOiQ.svg\">"
   ]
  },
  {
   "cell_type": "markdown",
   "id": "3b25669d-5d03-49eb-9f73-de25ffdb7ec5",
   "metadata": {},
   "source": [
    "<hr>"
   ]
  },
  {
   "cell_type": "markdown",
   "id": "b07611c0-3040-43c6-82a9-15ee24bf1b27",
   "metadata": {},
   "source": [
    "# Hyperlink\n",
    "1. Hyperlink 작성하기 (Markdown 언어)"
   ]
  },
  {
   "cell_type": "markdown",
   "id": "99cd3515-b7de-482f-a123-dd5755da1bae",
   "metadata": {},
   "source": [
    "https://www.naver.com/"
   ]
  },
  {
   "cell_type": "markdown",
   "id": "f58fd274-9657-4ab4-be65-85462b20c25a",
   "metadata": {},
   "source": [
    "https://www.naver.com/"
   ]
  },
  {
   "cell_type": "markdown",
   "id": "18b8e366-a8e3-4acd-8fb7-34755bbf79f9",
   "metadata": {},
   "source": [
    "2. Hyperlink 작성하기 (HTML 언어)"
   ]
  },
  {
   "cell_type": "markdown",
   "id": "ccada22b-63c6-4331-b493-418a1b1b6034",
   "metadata": {},
   "source": [
    "<a href=\"https://www.naver.com/\">https://www.naver.com/</a>"
   ]
  },
  {
   "cell_type": "markdown",
   "id": "8cf98535-8d52-4df7-86a5-0bb577a177f9",
   "metadata": {},
   "source": [
    "<a href=\"https://www.naver.com/\">https://www.naver.com/</a>"
   ]
  },
  {
   "cell_type": "markdown",
   "id": "5ea02ea3-0ac5-481d-9fdf-6f1d75047c47",
   "metadata": {},
   "source": [
    "<hr>"
   ]
  },
  {
   "cell_type": "markdown",
   "id": "c92a33a9-b60f-461e-9100-b857dd68fa32",
   "metadata": {},
   "source": [
    "# Hyperlink by name\n",
    "1. Hyperlink by name 작성하기 (Markdown 언어)"
   ]
  },
  {
   "cell_type": "markdown",
   "id": "f0f91f52-59a9-4421-be04-a2480a3f0666",
   "metadata": {},
   "source": [
    "[click me](https://www.naver.com/)"
   ]
  },
  {
   "cell_type": "markdown",
   "id": "0776b6d6-9834-448d-9ab8-f53261b2fe07",
   "metadata": {},
   "source": [
    "[click me](https://www.naver.com/)"
   ]
  },
  {
   "cell_type": "markdown",
   "id": "1624d40c-b394-4e9c-a254-f0660a95308f",
   "metadata": {},
   "source": [
    "2. Hyperlink by name 작성하기 (HTML 언어)"
   ]
  },
  {
   "cell_type": "markdown",
   "id": "43c95c70-5d8d-4899-a6ac-1dcde57225f9",
   "metadata": {},
   "source": [
    "<a href=\"https://www.naver.com/\">click me</a>"
   ]
  },
  {
   "cell_type": "markdown",
   "id": "42e6cb7e-ebc7-47ad-b237-379bea485aa4",
   "metadata": {},
   "source": [
    "<a href=\"https://www.naver.com/\">click me</a>"
   ]
  },
  {
   "cell_type": "markdown",
   "id": "26b439b2-a0a9-4827-9cc5-c8ff69db4ad4",
   "metadata": {},
   "source": [
    "<hr>"
   ]
  },
  {
   "cell_type": "markdown",
   "id": "92ebe280-a681-4d37-bea4-cbafb24c82a6",
   "metadata": {},
   "source": [
    "# Anchor Links\n",
    "1. Anchor Links 작성하기"
   ]
  },
  {
   "cell_type": "markdown",
   "id": "2fefc660-ebba-4076-89a9-2bc411f8a391",
   "metadata": {},
   "source": [
    "- [Header](#header)\n",
    "- [Bold Text](#bold_text)"
   ]
  },
  {
   "cell_type": "markdown",
   "id": "3f305f8c-7fc4-426c-9a55-9743cc9ddc48",
   "metadata": {},
   "source": [
    "- [Header](#header)\n",
    "- [Bold Text](#bold_text)"
   ]
  },
  {
   "cell_type": "markdown",
   "id": "8c7b7658-69e0-421e-935d-98d6532244ec",
   "metadata": {},
   "source": [
    "<hr>"
   ]
  },
  {
   "cell_type": "markdown",
   "id": "cc6a1c7a-a86f-4f27-947a-2b521c88e15c",
   "metadata": {},
   "source": [
    "# Task Lists\n",
    "1. Task Lists 작성"
   ]
  },
  {
   "cell_type": "markdown",
   "id": "af17794b-7ae0-45ad-8db3-9b619bf60fb6",
   "metadata": {},
   "source": [
    "- [X] 오늘 할일\n",
    "- [ ] 내일 할일"
   ]
  },
  {
   "cell_type": "markdown",
   "id": "043d2fc2-0fc2-4984-871f-74f64c95588e",
   "metadata": {},
   "source": [
    "- [X] 오늘 할일\n",
    "- [ ] 내일 할일"
   ]
  },
  {
   "cell_type": "markdown",
   "id": "d3b1d920-267b-4eca-b9c7-29df61b65848",
   "metadata": {},
   "source": [
    "<hr>"
   ]
  },
  {
   "cell_type": "markdown",
   "id": "fd871e2a-1c43-47e4-ad40-db501bc6cdce",
   "metadata": {},
   "source": [
    "# Inline HTML\n",
    "1. Inline HTML 작성"
   ]
  },
  {
   "cell_type": "markdown",
   "id": "ae41ea8b-95e2-4392-8ba7-837a2803b52e",
   "metadata": {},
   "source": [
    "<span style=\"color:red;\"> 이 글은 스타일이 적용된 문장입니다. </span>"
   ]
  },
  {
   "cell_type": "markdown",
   "id": "08d7a3c9-4d71-43c6-a510-98f6fc59731e",
   "metadata": {},
   "source": [
    "<span style=\"color:red;\"> 이 글은 스타일이 적용된 문장입니다. </span>"
   ]
  },
  {
   "cell_type": "markdown",
   "id": "da0d368c-bb0c-44ef-ae9f-f52447f09a1b",
   "metadata": {},
   "source": [
    "<hr>"
   ]
  },
  {
   "cell_type": "markdown",
   "id": "13b66340-394a-433c-9224-2be96d6070fa",
   "metadata": {},
   "source": [
    "# Code section\n",
    "1. Code section 작성"
   ]
  },
  {
   "cell_type": "markdown",
   "id": "fd907014-e4bd-4a88-aa46-90a9171175c3",
   "metadata": {},
   "source": [
    "```python\n",
    "a = 10\n",
    "print(a)\n",
    "```"
   ]
  },
  {
   "cell_type": "markdown",
   "id": "76b59061-7a5c-4d4c-a72c-8177a48b968d",
   "metadata": {},
   "source": [
    "```python\n",
    "a = 10\n",
    "print(a)\n",
    "```"
   ]
  },
  {
   "cell_type": "markdown",
   "id": "52df67ad-bdb1-4a36-943c-637633e2a754",
   "metadata": {},
   "source": [
    "<hr>"
   ]
  },
  {
   "cell_type": "markdown",
   "id": "99fd95e6-3ab5-45cc-a290-e52781f7f94c",
   "metadata": {},
   "source": [
    "# Latex 수식\n",
    "1. Latex 작성"
   ]
  },
  {
   "cell_type": "markdown",
   "id": "74a58d3b-fa9d-4727-b737-08a8ee1c7a52",
   "metadata": {},
   "source": [
    "W의 합을 구하는 수식은 $ x = \\sum_{i=0}^{N-1} W_i $ 입니다."
   ]
  },
  {
   "cell_type": "markdown",
   "id": "182aab12-9c8c-4068-97cd-e02e8b9a937b",
   "metadata": {},
   "source": [
    "W의 합을 구하는 수식은 $ x = \\sum_{i=0}^{N-1} W_i $ 입니다."
   ]
  },
  {
   "cell_type": "markdown",
   "id": "16e6010f-d903-4ef4-b7a9-9500f2befce5",
   "metadata": {},
   "source": [
    "$$ x = \\sum_{i=0}^{N-1} W_i $$"
   ]
  },
  {
   "cell_type": "markdown",
   "id": "58ea65f7-4bdb-4153-bd8e-e51d0b3d7fd6",
   "metadata": {},
   "source": [
    "$$ x = \\sum_{i=0}^{N-1} W_i $$"
   ]
  }
 ],
 "metadata": {
  "kernelspec": {
   "display_name": "Python 3 (ipykernel)",
   "language": "python",
   "name": "python3"
  },
  "language_info": {
   "codemirror_mode": {
    "name": "ipython",
    "version": 3
   },
   "file_extension": ".py",
   "mimetype": "text/x-python",
   "name": "python",
   "nbconvert_exporter": "python",
   "pygments_lexer": "ipython3",
   "version": "3.9.19"
  }
 },
 "nbformat": 4,
 "nbformat_minor": 5
}
