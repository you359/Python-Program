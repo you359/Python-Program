{
 "cells": [
  {
   "cell_type": "markdown",
   "id": "46cb4916-7eb4-4e10-a414-d0cdcdf32a98",
   "metadata": {},
   "source": [
    "# 051 리스트 생성\n",
    "2016년 11월 영화 예매 순위 기준 top3는 다음과 같습니다.   \n",
    "영화 제목을 movie_rank 이름의 리스트에 저장해보세요. (순위 정보는 저장하지 않습니다.)  \n",
    "\n",
    "|순위|영화|\n",
    "|---|---|\n",
    "|1|닥터 스트레인지|\n",
    "|2|스플릿|\n",
    "|3|럭키|"
   ]
  },
  {
   "cell_type": "code",
   "execution_count": 1,
   "id": "5f74366d-4953-417e-ada3-2a9ecad8b18a",
   "metadata": {},
   "outputs": [
    {
     "name": "stdout",
     "output_type": "stream",
     "text": [
      "['닥터 스트레인지', '스플릿', '럭키']\n"
     ]
    }
   ],
   "source": [
    "movie_rank = [\"닥터 스트레인지\", \"스플릿\", \"럭키\"]\n",
    "print(movie_rank)"
   ]
  },
  {
   "cell_type": "markdown",
   "id": "03567147-5d5f-4550-80b1-e46e61ff5bf2",
   "metadata": {},
   "source": [
    "# 052 리스트에 원소 추가\r\n",
    "051의 movie_rank 리스트에 \"배트맨\"을 추가하라."
   ]
  },
  {
   "cell_type": "code",
   "execution_count": 2,
   "id": "af3f3fa3-13c6-4b5b-a5ac-d523c0a904bf",
   "metadata": {},
   "outputs": [
    {
     "name": "stdout",
     "output_type": "stream",
     "text": [
      "['닥터 스트레인지', '스플릿', '럭키', '배트맨']\n"
     ]
    }
   ],
   "source": [
    "movie_rank.append(\"배트맨\")\n",
    "print(movie_rank)"
   ]
  },
  {
   "cell_type": "markdown",
   "id": "d89f61c3-42ca-4d9a-adf1-a2c002477569",
   "metadata": {},
   "source": [
    "# 053\r\n",
    "movie_rank 리스트에는 아래와 같이 네 개의 영화 제목이 바인딩되어 있다. \"슈퍼맨\"을 \"닥터 스트레인지\"와 \"스플릿\" 사이에 추가하라."
   ]
  },
  {
   "cell_type": "code",
   "execution_count": 3,
   "id": "bfbe3ba9-f169-4bfb-8921-aca53a56a022",
   "metadata": {},
   "outputs": [],
   "source": [
    "movie_rank = ['닥터 스트레인지', '스플릿', '럭키', '배트맨']"
   ]
  },
  {
   "cell_type": "code",
   "execution_count": 4,
   "id": "7776fb1c-fed5-4011-a2c0-235c32e2402b",
   "metadata": {},
   "outputs": [
    {
     "name": "stdout",
     "output_type": "stream",
     "text": [
      "['닥터 스트레인지', '슈퍼맨', '스플릿', '럭키', '배트맨']\n"
     ]
    }
   ],
   "source": [
    "movie_rank.insert(1, \"슈퍼맨\")\n",
    "print(movie_rank)"
   ]
  },
  {
   "cell_type": "markdown",
   "id": "f7d750ee-98df-4d4a-8b50-e8ce023f7d1d",
   "metadata": {},
   "source": [
    "# 054\r\n",
    "movie_rank 리스트에서 '럭키'를 삭제하라."
   ]
  },
  {
   "cell_type": "code",
   "execution_count": 5,
   "id": "385baccc-8d95-424b-ac2f-a1ee483dfb43",
   "metadata": {},
   "outputs": [
    {
     "name": "stdout",
     "output_type": "stream",
     "text": [
      "['닥터 스트레인지', '슈퍼맨', '스플릿', '배트맨']\n"
     ]
    }
   ],
   "source": [
    "del(movie_rank[3])\n",
    "print(movie_rank)"
   ]
  },
  {
   "cell_type": "markdown",
   "id": "9758030e-1b2f-467e-b7fe-4363829047d1",
   "metadata": {},
   "source": [
    "# 055\n",
    "movie_rank 리스트에서 '스플릿' 과 '배트맨'을 를 삭제하라."
   ]
  },
  {
   "cell_type": "code",
   "execution_count": 6,
   "id": "a407f611-63fb-431e-b1d8-cce7034e6335",
   "metadata": {},
   "outputs": [
    {
     "name": "stdout",
     "output_type": "stream",
     "text": [
      "['닥터 스트레인지', '슈퍼맨']\n"
     ]
    }
   ],
   "source": [
    "del(movie_rank[2])\n",
    "del(movie_rank[2])\n",
    "print(movie_rank)"
   ]
  },
  {
   "cell_type": "markdown",
   "id": "c78375d2-5633-4bcc-9daa-0edb7357e818",
   "metadata": {},
   "source": [
    "# 056\n",
    "lang1과 lang2 리스트가 있을 때 lang1과 lang2의 원소를 모두 갖고 있는 langs 리스트를 만들어라."
   ]
  },
  {
   "cell_type": "code",
   "execution_count": 7,
   "id": "b0312f5f-e280-4094-9c4c-2b82d22bb33b",
   "metadata": {},
   "outputs": [],
   "source": [
    "lang1 = [\"C\", \"C++\", \"JAVA\"]\n",
    "lang2 = [\"Python\", \"Go\", \"C#\"]"
   ]
  },
  {
   "cell_type": "code",
   "execution_count": 8,
   "id": "24d14b80-d441-41a0-8688-31b6df6aa168",
   "metadata": {},
   "outputs": [
    {
     "name": "stdout",
     "output_type": "stream",
     "text": [
      "['C', 'C++', 'JAVA', 'Python', 'Go', 'C#']\n"
     ]
    }
   ],
   "source": [
    "langs = lang1 + lang2\n",
    "print(langs)"
   ]
  },
  {
   "cell_type": "markdown",
   "id": "063b7036-fb18-4116-859f-3a0c0445f2d2",
   "metadata": {},
   "source": [
    "# 057\n",
    "다음 리스트에서 최댓값과 최솟값을 출력하라. (힌트: min(), max() 함수 사용)"
   ]
  },
  {
   "cell_type": "code",
   "execution_count": 9,
   "id": "34500faa-20e9-4140-8738-45671fb0f250",
   "metadata": {},
   "outputs": [],
   "source": [
    "nums = [1, 2, 3, 4, 5, 6, 7]"
   ]
  },
  {
   "cell_type": "code",
   "execution_count": 10,
   "id": "602d40a2-2b59-423c-9dda-c9d223dead6d",
   "metadata": {},
   "outputs": [
    {
     "name": "stdout",
     "output_type": "stream",
     "text": [
      "1\n",
      "7\n"
     ]
    }
   ],
   "source": [
    "print(min(nums))\n",
    "print(max(nums))"
   ]
  },
  {
   "cell_type": "markdown",
   "id": "43c18c62-7672-4f62-a8e2-034dd84afad7",
   "metadata": {},
   "source": [
    "# 058\n",
    "다음 리스트의 합을 출력하라."
   ]
  },
  {
   "cell_type": "code",
   "execution_count": 11,
   "id": "e2b545d7-edef-4fc6-8c6b-9cd3aad5b360",
   "metadata": {},
   "outputs": [],
   "source": [
    "nums = [1, 2, 3, 4, 5]"
   ]
  },
  {
   "cell_type": "code",
   "execution_count": 12,
   "id": "90ff12c3-29b3-41bf-a554-4a42a061e62e",
   "metadata": {},
   "outputs": [
    {
     "name": "stdout",
     "output_type": "stream",
     "text": [
      "15\n"
     ]
    }
   ],
   "source": [
    "print(sum(nums))"
   ]
  },
  {
   "cell_type": "markdown",
   "id": "90b00e63-cdab-4a3e-9859-f11b216defe9",
   "metadata": {},
   "source": [
    "# 059\r\n",
    "다음 리스트에 저장된 데이터의 개수를 화면에 구하하라."
   ]
  },
  {
   "cell_type": "code",
   "execution_count": 13,
   "id": "d8231c40-8325-4e76-bcba-f177ae03d48b",
   "metadata": {},
   "outputs": [],
   "source": [
    "cook = [\"피자\", \"김밥\", \"만두\", \"양념치킨\", \"족발\", \"피자\", \"김치만두\", \"쫄면\", \"소시지\", \"라면\", \"팥빙수\", \"김치전\"]"
   ]
  },
  {
   "cell_type": "code",
   "execution_count": 14,
   "id": "45e679b3-766e-4556-baf0-2303f967b039",
   "metadata": {},
   "outputs": [
    {
     "data": {
      "text/plain": [
       "12"
      ]
     },
     "execution_count": 14,
     "metadata": {},
     "output_type": "execute_result"
    }
   ],
   "source": [
    "len(cook)"
   ]
  },
  {
   "cell_type": "markdown",
   "id": "fc6cbe50-defc-4489-bfcc-171b93c5b030",
   "metadata": {},
   "source": [
    "# 060\n",
    "다음 리스트의 평균을 출력하라."
   ]
  },
  {
   "cell_type": "code",
   "execution_count": 15,
   "id": "72ceedba-a5c9-4602-b578-7566c2366bec",
   "metadata": {},
   "outputs": [],
   "source": [
    "nums = [1, 2, 3, 4, 5]"
   ]
  },
  {
   "cell_type": "code",
   "execution_count": 16,
   "id": "c0f05f4b-3762-43e7-bf2f-528f9230f9f5",
   "metadata": {},
   "outputs": [
    {
     "data": {
      "text/plain": [
       "3.0"
      ]
     },
     "execution_count": 16,
     "metadata": {},
     "output_type": "execute_result"
    }
   ],
   "source": [
    "sum(nums) / len(nums)"
   ]
  },
  {
   "cell_type": "markdown",
   "id": "c80ccb29-3bc4-4742-8831-bf681bc0eef3",
   "metadata": {},
   "source": [
    "# 061\r\n",
    "price 변수에는 날짜와 종가 정보가 저장돼 있다. 날짜 정보를 제외하고 가격 정보만을 출력하라. (힌트 : 슬라이싱)"
   ]
  },
  {
   "cell_type": "code",
   "execution_count": 17,
   "id": "c02bd29d-303d-4094-8033-75b9f890ba8c",
   "metadata": {},
   "outputs": [],
   "source": [
    "price = ['20180728', 100, 130, 140, 150, 160, 170]"
   ]
  },
  {
   "cell_type": "code",
   "execution_count": 18,
   "id": "2636ef43-ca40-4392-8cdf-48d204254121",
   "metadata": {},
   "outputs": [
    {
     "data": {
      "text/plain": [
       "[100, 130, 140, 150, 160, 170]"
      ]
     },
     "execution_count": 18,
     "metadata": {},
     "output_type": "execute_result"
    }
   ],
   "source": [
    "price[1:]"
   ]
  },
  {
   "cell_type": "markdown",
   "id": "21135c5d-9077-445e-8297-3e440dae055e",
   "metadata": {},
   "source": [
    "# 062\r\n",
    "슬라이싱을 사용해서 홀수만 출력하라."
   ]
  },
  {
   "cell_type": "code",
   "execution_count": 19,
   "id": "43056835-6200-418d-9b54-488c17263c7e",
   "metadata": {},
   "outputs": [],
   "source": [
    "nums = [1, 2, 3, 4, 5, 6, 7, 8, 9, 10]"
   ]
  },
  {
   "cell_type": "code",
   "execution_count": 20,
   "id": "861ac325-abc5-429d-a1a6-6add34998e99",
   "metadata": {},
   "outputs": [
    {
     "data": {
      "text/plain": [
       "[1, 3, 5, 7, 9]"
      ]
     },
     "execution_count": 20,
     "metadata": {},
     "output_type": "execute_result"
    }
   ],
   "source": [
    "nums[::2]"
   ]
  },
  {
   "cell_type": "markdown",
   "id": "87555af6-4450-40e7-ba04-1c14600155f8",
   "metadata": {},
   "source": [
    "# 063\n",
    "슬라이싱을 사용해서 짝수만 출력하라."
   ]
  },
  {
   "cell_type": "code",
   "execution_count": 21,
   "id": "e46544ea-c0da-4556-afde-9f6efcb702e9",
   "metadata": {},
   "outputs": [],
   "source": [
    "nums = [1, 2, 3, 4, 5, 6, 7, 8, 9, 10]"
   ]
  },
  {
   "cell_type": "code",
   "execution_count": 22,
   "id": "4dbe56a0-d6f5-4ed5-978d-137a40ec9b66",
   "metadata": {},
   "outputs": [
    {
     "data": {
      "text/plain": [
       "[2, 4, 6, 8, 10]"
      ]
     },
     "execution_count": 22,
     "metadata": {},
     "output_type": "execute_result"
    }
   ],
   "source": [
    "nums[1::2]"
   ]
  },
  {
   "cell_type": "markdown",
   "id": "c25d04fa-0ddf-4d8d-9eea-d0027a966074",
   "metadata": {},
   "source": [
    "# 064\r\n",
    "슬라이싱을 사용해서 리스트의 숫자를 역 방향으로 출력하라."
   ]
  },
  {
   "cell_type": "code",
   "execution_count": 23,
   "id": "049fd2cd-5254-4f32-a719-b999effc1c84",
   "metadata": {},
   "outputs": [],
   "source": [
    "nums = [1, 2, 3, 4, 5]"
   ]
  },
  {
   "cell_type": "code",
   "execution_count": 24,
   "id": "b269dfb8-b359-45f0-8bdb-d834102d7391",
   "metadata": {},
   "outputs": [
    {
     "data": {
      "text/plain": [
       "[5, 4, 3, 2, 1]"
      ]
     },
     "execution_count": 24,
     "metadata": {},
     "output_type": "execute_result"
    }
   ],
   "source": [
    "nums[::-1]"
   ]
  },
  {
   "cell_type": "markdown",
   "id": "78316668-b7a9-46aa-a5e6-061c37f53410",
   "metadata": {},
   "source": [
    "# 065\n",
    "interest 리스트에는 아래의 데이터가 바인딩되어 있다."
   ]
  },
  {
   "cell_type": "code",
   "execution_count": 25,
   "id": "3ef71f06-38bc-44ba-8e0f-2ae9c09e129c",
   "metadata": {},
   "outputs": [],
   "source": [
    "interest = ['삼성전자', 'LG전자', 'Naver']"
   ]
  },
  {
   "cell_type": "markdown",
   "id": "9c493204-f978-483a-96f3-d3c1909b0fef",
   "metadata": {},
   "source": [
    "interest 리스트를 사용하여 아래와 같이 화면에 출력하라.\n",
    "> 출력 예시:  \n",
    "> 삼성전자 Naver"
   ]
  },
  {
   "cell_type": "code",
   "execution_count": 26,
   "id": "9021fcc3-42f5-4a29-bc60-3373eace955f",
   "metadata": {},
   "outputs": [
    {
     "name": "stdout",
     "output_type": "stream",
     "text": [
      "삼성전자 Naver\n"
     ]
    }
   ],
   "source": [
    "print(interest[0], interest[2])"
   ]
  },
  {
   "cell_type": "markdown",
   "id": "e0532154-6cda-4356-95ac-0632e758e590",
   "metadata": {},
   "source": [
    "# 066 join 메서드\n",
    "interest 리스트에는 아래의 데이터가 바인딩되어 있다."
   ]
  },
  {
   "cell_type": "code",
   "execution_count": 27,
   "id": "95b0d4f8-a15a-4026-a045-6064f681b8f2",
   "metadata": {},
   "outputs": [],
   "source": [
    "interest = ['삼성전자', 'LG전자', 'Naver', 'SK하이닉스', '미래에셋대우']"
   ]
  },
  {
   "cell_type": "markdown",
   "id": "0ff01845-8a42-445f-95ac-56c0d423a6e3",
   "metadata": {},
   "source": [
    "interest 리스트를 사용하여 아래와 같이 화면에 출력하라.\n",
    "> 출력 예시:  \n",
    "> 삼성전자 LG전자 Naver SK하이닉스 미래에셋대우"
   ]
  },
  {
   "cell_type": "code",
   "execution_count": 28,
   "id": "c54dbfe9-8906-41e9-9bb1-a5f560d24a9d",
   "metadata": {},
   "outputs": [
    {
     "data": {
      "text/plain": [
       "'삼성전자 LG전자 Naver SK하이닉스 미래에셋대우'"
      ]
     },
     "execution_count": 28,
     "metadata": {},
     "output_type": "execute_result"
    }
   ],
   "source": [
    "\" \".join(interest)"
   ]
  },
  {
   "cell_type": "markdown",
   "id": "bf4c4b8a-ea1c-4452-b3a7-db1bff2a5a1c",
   "metadata": {},
   "source": [
    "# 067 join 메서드\n",
    "interest 리스트에는 아래의 데이터가 바인딩되어 있다."
   ]
  },
  {
   "cell_type": "code",
   "execution_count": 29,
   "id": "7f06fcac-6ee7-4bfc-a448-b1aaa5dc3a55",
   "metadata": {},
   "outputs": [],
   "source": [
    "interest = ['삼성전자', 'LG전자', 'Naver', 'SK하이닉스', '미래에셋대우']"
   ]
  },
  {
   "cell_type": "markdown",
   "id": "ef98d1f4-759e-4dbd-82f4-1232e50f5885",
   "metadata": {},
   "source": [
    "interest 리스트를 사용하여 아래와 같이 화면에 출력하라.\n",
    "> 출력 예시:  \n",
    "> 삼성전자/LG전자/Naver/SK하이닉스/미래에셋대우"
   ]
  },
  {
   "cell_type": "code",
   "execution_count": 30,
   "id": "ad3d2257-c936-412e-89d3-79d45e769195",
   "metadata": {},
   "outputs": [
    {
     "data": {
      "text/plain": [
       "'삼성전자/LG전자/Naver/SK하이닉스/미래에셋대우'"
      ]
     },
     "execution_count": 30,
     "metadata": {},
     "output_type": "execute_result"
    }
   ],
   "source": [
    "\"/\".join(interest)"
   ]
  },
  {
   "cell_type": "markdown",
   "id": "68913dbc-b36e-4fd2-8b71-03ac5eb18e8b",
   "metadata": {},
   "source": [
    "# 068 join 메서드\r\n",
    "interest 리스트에는 아래의 데이터가 바인딩되어 있다."
   ]
  },
  {
   "cell_type": "code",
   "execution_count": 31,
   "id": "b8e0cd06-b8af-44be-b715-2dee1fb5a63d",
   "metadata": {},
   "outputs": [],
   "source": [
    "interest = ['삼성전자', 'LG전자', 'Naver', 'SK하이닉스', '미래에셋대우']"
   ]
  },
  {
   "cell_type": "markdown",
   "id": "b8c3dcbd-f818-4799-b1d4-4bdc0dc868d8",
   "metadata": {},
   "source": [
    "join() 메서드를 사용해서 interest 리스트를 아래와 같이 화면에 출력하라.\n",
    "```\n",
    "출력 예시:\n",
    "삼성전자\n",
    "LG전자\n",
    "Naver\n",
    "SK하이닉스\n",
    "미래에셋대우\n",
    "```"
   ]
  },
  {
   "cell_type": "code",
   "execution_count": 32,
   "id": "387b230a-3fdc-4005-b055-a1589eb24358",
   "metadata": {},
   "outputs": [
    {
     "name": "stdout",
     "output_type": "stream",
     "text": [
      "삼성전자\n",
      "LG전자\n",
      "Naver\n",
      "SK하이닉스\n",
      "미래에셋대우\n"
     ]
    }
   ],
   "source": [
    "print(\"\\n\".join(interest))"
   ]
  },
  {
   "cell_type": "markdown",
   "id": "261a6a24-d23b-4294-868d-968e3ceb3b32",
   "metadata": {},
   "source": [
    "# 069 문자열 split 메서드\r\n",
    "회사 이름이 슬래시 ('/')로 구분되어 하나의 문자열로 저장되어 있다."
   ]
  },
  {
   "cell_type": "code",
   "execution_count": 33,
   "id": "097d3e64-3810-45bf-bb90-b95178e1f4a3",
   "metadata": {},
   "outputs": [],
   "source": [
    "string = \"삼성전자/LG전자/Naver\""
   ]
  },
  {
   "cell_type": "markdown",
   "id": "ae7546f1-7b03-4d93-9c0e-25ddc917943c",
   "metadata": {},
   "source": [
    "이를 interest 이름의 리스트로 분리 저장하라.\n",
    "```\n",
    "실행 예시\r\n",
    ">> print(interest)\r\n",
    "['삼성전자', 'LG전자', 'Naver']\n",
    "\n",
    "\n",
    "```"
   ]
  },
  {
   "cell_type": "code",
   "execution_count": 34,
   "id": "5cb45c34-b058-4152-a8ea-64a699e0e8dc",
   "metadata": {},
   "outputs": [
    {
     "name": "stdout",
     "output_type": "stream",
     "text": [
      "['삼성전자', 'LG전자', 'Naver']\n"
     ]
    }
   ],
   "source": [
    "interest = string.split('/')\n",
    "print(interest)"
   ]
  },
  {
   "cell_type": "markdown",
   "id": "6d7c4033-cb5d-49fd-a2f4-9f999005dd10",
   "metadata": {},
   "source": [
    "# 070 리스트 정렬\n",
    "리스트에 있는 값을 오름차순으로 정렬하세요."
   ]
  },
  {
   "cell_type": "code",
   "execution_count": 35,
   "id": "bc2e46cb-8be7-4043-b3c1-efcbc68a3adc",
   "metadata": {},
   "outputs": [],
   "source": [
    "data = [2, 4, 3, 1, 5, 10, 9]"
   ]
  },
  {
   "cell_type": "code",
   "execution_count": 36,
   "id": "e9d791f0-b660-43a1-8e7e-98cee176f026",
   "metadata": {},
   "outputs": [
    {
     "data": {
      "text/plain": [
       "[1, 2, 3, 4, 5, 9, 10]"
      ]
     },
     "execution_count": 36,
     "metadata": {},
     "output_type": "execute_result"
    }
   ],
   "source": [
    "data.sort()\n",
    "data"
   ]
  },
  {
   "cell_type": "markdown",
   "id": "0af0475f-4b97-4072-81a5-2f3e4d78103a",
   "metadata": {},
   "source": [
    "# 심화문제 1\n",
    "다음의 코드를 사용하여 스택(LIFO, Last In First Out)를 구현하라"
   ]
  },
  {
   "cell_type": "code",
   "execution_count": 37,
   "id": "590ad6e3-7b31-47bf-bd0d-c0aa21a3f7de",
   "metadata": {},
   "outputs": [
    {
     "name": "stdin",
     "output_type": "stream",
     "text": [
      "데이터를 입력하세요 A\n"
     ]
    },
    {
     "name": "stdout",
     "output_type": "stream",
     "text": [
      "[0]: ['A']\n"
     ]
    },
    {
     "name": "stdin",
     "output_type": "stream",
     "text": [
      "데이터를 입력하세요 B\n"
     ]
    },
    {
     "name": "stdout",
     "output_type": "stream",
     "text": [
      "[1]: ['A', 'B']\n"
     ]
    },
    {
     "name": "stdin",
     "output_type": "stream",
     "text": [
      "데이터를 입력하세요 C\n"
     ]
    },
    {
     "name": "stdout",
     "output_type": "stream",
     "text": [
      "[2]: ['A', 'B', 'C']\n",
      "[0]: stack-['A', 'B']\n",
      "[0]: pop_data-['C']\n",
      "[1]: stack-['A']\n",
      "[1]: pop_data-['C', 'B']\n",
      "['A']\n",
      "['C', 'B']\n"
     ]
    }
   ],
   "source": [
    "stack = []\n",
    "pop_data = []\n",
    "\n",
    "for i in range(3):\n",
    "    data = input(\"데이터를 입력하세요\")\n",
    "    # 여기에 data를 stack 변수에 push하는 명령을 작성하세요.\n",
    "    stack.append(data)\n",
    "    print(\"[{}]: {}\".format(i, stack))\n",
    "\n",
    "for i in range(2):\n",
    "    # 여기에 stack으로부터 데이터를 pop하는 명령을 작성하세요.\n",
    "    temp_data = stack.pop()\n",
    "    # 여기에 pop을 통해 추출한 데이터를 pop_data에 추가하는 명령을 작성하세요.\n",
    "    pop_data.append(temp_data)\n",
    "    print(\"[{}]: stack-{}\".format(i, stack))\n",
    "    print(\"[{}]: pop_data-{}\".format(i, pop_data))\n",
    "\n",
    "print(stack) # stack의 결과는 처음 입력한 데이터만 남습니다.\n",
    "print(pop_data) # pop_data의 결과는 마지막으로 입력한 2개의 데이터만 남습니다."
   ]
  },
  {
   "cell_type": "markdown",
   "id": "62d9be6b-13f3-43d2-8380-c51f7298a869",
   "metadata": {},
   "source": [
    "# 심화문제 2\n",
    "다음의 코드를 사용하여 큐(FIFO, Last In First Out)를 구현하라"
   ]
  },
  {
   "cell_type": "code",
   "execution_count": 38,
   "id": "7151889c-b859-4aa2-bf4a-1dc3202ecb33",
   "metadata": {},
   "outputs": [
    {
     "name": "stdin",
     "output_type": "stream",
     "text": [
      "데이터를 입력하세요 A\n"
     ]
    },
    {
     "name": "stdout",
     "output_type": "stream",
     "text": [
      "[0]: ['A']\n"
     ]
    },
    {
     "name": "stdin",
     "output_type": "stream",
     "text": [
      "데이터를 입력하세요 B\n"
     ]
    },
    {
     "name": "stdout",
     "output_type": "stream",
     "text": [
      "[1]: ['A', 'B']\n"
     ]
    },
    {
     "name": "stdin",
     "output_type": "stream",
     "text": [
      "데이터를 입력하세요 C\n"
     ]
    },
    {
     "name": "stdout",
     "output_type": "stream",
     "text": [
      "[2]: ['A', 'B', 'C']\n",
      "[0]: queue-['B', 'C']\n",
      "[0]: pop_data-['A']\n",
      "[1]: queue-['C']\n",
      "[1]: pop_data-['A', 'B']\n",
      "['C']\n",
      "['A', 'B']\n"
     ]
    }
   ],
   "source": [
    "queue = []\n",
    "pop_data = []\n",
    "\n",
    "for i in range(3):\n",
    "    data = input(\"데이터를 입력하세요\")\n",
    "    # 여기에 data를 queue 변수에 push하는 명령을 작성하세요.\n",
    "    queue.append(data)\n",
    "    print(\"[{}]: {}\".format(i, queue))\n",
    "\n",
    "for i in range(2):\n",
    "    # 여기에 queue 데이터를 pop하는 명령을 작성하세요.\n",
    "    temp_data = queue.pop(0)\n",
    "    # 여기에 pop을 통해 추출한 데이터를 pop_data에 추가하는 명령을 작성하세요.\n",
    "    pop_data.append(temp_data)\n",
    "    print(\"[{}]: queue-{}\".format(i, queue))\n",
    "    print(\"[{}]: pop_data-{}\".format(i, pop_data))\n",
    "\n",
    "print(queue) # queue의 결과는 마지막으로 입력한 데이터만 남습니다.\n",
    "print(pop_data) # pop_data의 결과는 처음 입력한 2개의 데이터만 남습니다."
   ]
  },
  {
   "cell_type": "markdown",
   "id": "a82dba24-a3b1-4c41-aa52-013e748c3e49",
   "metadata": {},
   "source": [
    "# 심화문제 3"
   ]
  },
  {
   "cell_type": "markdown",
   "id": "702b1167-40e0-4e18-9bc4-94617a7be5d9",
   "metadata": {},
   "source": [
    "다음의 csv_data를 파싱해서 각 데이터를 \"번호\", \"이름\", \"나이\", \"성별\" 리스트 변수에 저장하세요\n",
    "\n",
    "```\n",
    "출력예시:\n",
    "[1, 2, 3, 4, 5]\n",
    "[' 홍길동', ' 철수', ' 영희', ' 짱구', ' 수진']\n",
    "[90, 10, 13, 14, 23]\n",
    "[' 남', ' 남', ' 여', ' 남', ' 여']\n",
    "```\n",
    "\n",
    "힌트1: split  \n",
    "힌트2: for line in split_lines_data[1:]:"
   ]
  },
  {
   "cell_type": "code",
   "execution_count": 39,
   "id": "e28ff10b-f0de-4f31-a201-136c2eff16b9",
   "metadata": {},
   "outputs": [
    {
     "name": "stdout",
     "output_type": "stream",
     "text": [
      "번호, 이름, 나이, 성별\n",
      "1, 홍길동, 90, 남\n",
      "2, 철수, 10, 남\n",
      "3, 영희, 13, 여\n",
      "4, 짱구, 14, 남\n",
      "5, 수진, 23, 여\n",
      "['번호, 이름, 나이, 성별', '1, 홍길동, 90, 남', '2, 철수, 10, 남', '3, 영희, 13, 여', '4, 짱구, 14, 남', '5, 수진, 23, 여']\n",
      "[1, 2, 3, 4, 5]\n",
      "['홍길동', '철수', '영희', '짱구', '수진']\n",
      "[90, 10, 13, 14, 23]\n",
      "['남', '남', '여', '남', '여']\n"
     ]
    }
   ],
   "source": [
    "csv_data = \\\n",
    "\"\"\"번호, 이름, 나이, 성별\n",
    "1, 홍길동, 90, 남\n",
    "2, 철수, 10, 남\n",
    "3, 영희, 13, 여\n",
    "4, 짱구, 14, 남\n",
    "5, 수진, 23, 여\"\"\"\n",
    "print(csv_data)\n",
    "\n",
    "번호 = []\n",
    "이름 = []\n",
    "나이 = []\n",
    "성별 = []\n",
    "\n",
    "# 여기에 코드를 작성하세요\n",
    "split_lines_data = csv_data.split('\\n')\n",
    "print(split_lines_data)\n",
    "for line in split_lines_data[1:]:\n",
    "    data = line.split(',')\n",
    "    번호.append(int(data[0].strip()))\n",
    "    이름.append(data[1].strip())\n",
    "    나이.append(int(data[2].strip()))\n",
    "    성별.append(data[3].strip())\n",
    "\n",
    "print(번호)\n",
    "print(이름)\n",
    "print(나이)\n",
    "print(성별)"
   ]
  },
  {
   "cell_type": "markdown",
   "id": "0ead3a33-27e0-4640-81da-5f23cc9c7a7f",
   "metadata": {},
   "source": [
    "# 071\r\n",
    "my_variable 이름의 비어있는 튜플을 만들라."
   ]
  },
  {
   "cell_type": "code",
   "execution_count": 40,
   "id": "d767b86e-fdd6-43e1-a643-441a55fdb99a",
   "metadata": {},
   "outputs": [
    {
     "data": {
      "text/plain": [
       "()"
      ]
     },
     "execution_count": 40,
     "metadata": {},
     "output_type": "execute_result"
    }
   ],
   "source": [
    "my_variable = ()\n",
    "my_variable"
   ]
  },
  {
   "cell_type": "markdown",
   "id": "21b7c30f-8018-4f70-b0b8-58bbd5b18397",
   "metadata": {},
   "source": [
    "# 072\n",
    "2016년 11월 영화 예매 순위 기준 top3는 다음과 같다.  \n",
    "영화 제목을 movie_rank 이름의 튜플에 저장하라. (순위 정보는 저장하지 않는다.)  \n",
    "\n",
    "|순위|영화|\n",
    "|---|---|\n",
    "|1|닥터 스트레인지|\n",
    "|2|스플릿|\n",
    "|3|럭키|"
   ]
  },
  {
   "cell_type": "code",
   "execution_count": 41,
   "id": "dbca53f7-f39b-4dc4-b1c8-476775edf930",
   "metadata": {},
   "outputs": [
    {
     "data": {
      "text/plain": [
       "('닥터 스트레인지', '스플릿', '럭키')"
      ]
     },
     "execution_count": 41,
     "metadata": {},
     "output_type": "execute_result"
    }
   ],
   "source": [
    "movie_rank = (\"닥터 스트레인지\", \"스플릿\", \"럭키\")\n",
    "movie_rank"
   ]
  },
  {
   "cell_type": "markdown",
   "id": "7e1c5c51-0548-4a21-befa-db1aaa4536aa",
   "metadata": {},
   "source": [
    "# 073\r\n",
    "숫자 1 이 저장된 튜플을 생성하라."
   ]
  },
  {
   "cell_type": "code",
   "execution_count": 42,
   "id": "27e95078-534a-4b5a-b1bc-0571cce1df60",
   "metadata": {},
   "outputs": [
    {
     "data": {
      "text/plain": [
       "(1,)"
      ]
     },
     "execution_count": 42,
     "metadata": {},
     "output_type": "execute_result"
    }
   ],
   "source": [
    "tuple_var = (1,)\n",
    "tuple_var"
   ]
  },
  {
   "cell_type": "markdown",
   "id": "b75e94e1-8ccc-4baa-8f1d-4e60c985aa58",
   "metadata": {},
   "source": [
    "# 074\n",
    "다음 코드를 실행해보고 오류가 발생하는 원인을 설명하라."
   ]
  },
  {
   "cell_type": "code",
   "execution_count": 43,
   "id": "78497efb-3287-4464-9f95-cd231829cb2c",
   "metadata": {},
   "outputs": [
    {
     "ename": "TypeError",
     "evalue": "'tuple' object does not support item assignment",
     "output_type": "error",
     "traceback": [
      "\u001b[1;31m---------------------------------------------------------------------------\u001b[0m",
      "\u001b[1;31mTypeError\u001b[0m                                 Traceback (most recent call last)",
      "Cell \u001b[1;32mIn[43], line 2\u001b[0m\n\u001b[0;32m      1\u001b[0m t \u001b[38;5;241m=\u001b[39m (\u001b[38;5;241m1\u001b[39m, \u001b[38;5;241m2\u001b[39m, \u001b[38;5;241m3\u001b[39m)\n\u001b[1;32m----> 2\u001b[0m \u001b[43mt\u001b[49m\u001b[43m[\u001b[49m\u001b[38;5;241;43m0\u001b[39;49m\u001b[43m]\u001b[49m \u001b[38;5;241m=\u001b[39m \u001b[38;5;124m'\u001b[39m\u001b[38;5;124ma\u001b[39m\u001b[38;5;124m'\u001b[39m\n",
      "\u001b[1;31mTypeError\u001b[0m: 'tuple' object does not support item assignment"
     ]
    }
   ],
   "source": [
    "t = (1, 2, 3)\n",
    "t[0] = 'a'"
   ]
  },
  {
   "cell_type": "markdown",
   "id": "7f56261b-5a75-4411-84d5-e148f7f97173",
   "metadata": {},
   "source": [
    "# 075\r\n",
    "아래와 같이 t에는 1, 2, 3, 4 데이터가 바인딩되어 있다 .\n",
    " t가 바인딩하는 데이터 타입은 무엇인가?"
   ]
  },
  {
   "cell_type": "code",
   "execution_count": 44,
   "id": "801ab25f-680b-4572-836a-870fc80c7f7d",
   "metadata": {},
   "outputs": [
    {
     "data": {
      "text/plain": [
       "tuple"
      ]
     },
     "execution_count": 44,
     "metadata": {},
     "output_type": "execute_result"
    }
   ],
   "source": [
    "t = 1, 2, 3, 4\n",
    "type(t)"
   ]
  },
  {
   "cell_type": "markdown",
   "id": "8768f782-2ccf-4759-8567-a5016b73328b",
   "metadata": {},
   "source": [
    "# 076\n",
    "변수 t에는 아래와 같은 값이 저장되어 있다.  \n",
    "변수 t가 ('A', 'b', 'c') 튜플을 가리키도록 수정 하라."
   ]
  },
  {
   "cell_type": "code",
   "execution_count": 45,
   "id": "c63ff3b6-ed8d-4f12-899f-0e4d513bc6b1",
   "metadata": {},
   "outputs": [],
   "source": [
    "t = ('a', 'b', 'c')"
   ]
  },
  {
   "cell_type": "code",
   "execution_count": 46,
   "id": "71d9152a-e969-498d-bfd9-f24f5c74e6d3",
   "metadata": {},
   "outputs": [],
   "source": [
    "t = ('A', 'b', 'c')"
   ]
  },
  {
   "cell_type": "markdown",
   "id": "7a0fda63-537a-4797-a876-3164ae322e71",
   "metadata": {},
   "source": [
    "# 077\n",
    "다음 튜플을 리스트로 변환하라."
   ]
  },
  {
   "cell_type": "code",
   "execution_count": 47,
   "id": "5a0feddf-1dc5-484d-a5e9-146e66508e19",
   "metadata": {},
   "outputs": [],
   "source": [
    "interest = ('삼성전자', 'LG전자', 'SK Hynix')"
   ]
  },
  {
   "cell_type": "code",
   "execution_count": 48,
   "id": "29f59179-3803-4e34-96d2-5fbf43e91ce3",
   "metadata": {},
   "outputs": [
    {
     "data": {
      "text/plain": [
       "list"
      ]
     },
     "execution_count": 48,
     "metadata": {},
     "output_type": "execute_result"
    }
   ],
   "source": [
    "interest = list(interest)\n",
    "type(interest)"
   ]
  },
  {
   "cell_type": "markdown",
   "id": "ef8fc874-c618-46f4-afca-b30341aefa16",
   "metadata": {},
   "source": [
    "# 078\n",
    "다음 리스트를 튜플로 변경하라."
   ]
  },
  {
   "cell_type": "code",
   "execution_count": 49,
   "id": "bfb7be04-44e1-414a-87f0-2be785cf9135",
   "metadata": {},
   "outputs": [],
   "source": [
    "interest = ['삼성전자', 'LG전자', 'SK Hynix']"
   ]
  },
  {
   "cell_type": "code",
   "execution_count": 50,
   "id": "01324538-20ac-4d8e-9ad0-925eb64b1b1c",
   "metadata": {},
   "outputs": [
    {
     "data": {
      "text/plain": [
       "tuple"
      ]
     },
     "execution_count": 50,
     "metadata": {},
     "output_type": "execute_result"
    }
   ],
   "source": [
    "interest = tuple(interest)\n",
    "type(interest)"
   ]
  },
  {
   "cell_type": "markdown",
   "id": "62a1168c-1dc8-4a9d-9154-8c5571308b01",
   "metadata": {},
   "source": [
    "# 079 튜플 언팩킹\n",
    "다음 코드의 실행 결과를 예상하라."
   ]
  },
  {
   "cell_type": "code",
   "execution_count": 51,
   "id": "0bd0428d-d664-4b47-bf5a-1887505b5334",
   "metadata": {},
   "outputs": [
    {
     "name": "stdout",
     "output_type": "stream",
     "text": [
      "apple banana cake\n"
     ]
    }
   ],
   "source": [
    "temp = ('apple', 'banana', 'cake')\n",
    "a, b, c = temp\n",
    "print(a, b, c)"
   ]
  },
  {
   "cell_type": "markdown",
   "id": "f6345a99-802c-4d16-8484-1f19f17af230",
   "metadata": {},
   "source": [
    "# 080 range 함수\n",
    "1 부터 99까지의 정수 중 짝수만 저장된 튜플을 생성하라."
   ]
  },
  {
   "cell_type": "code",
   "execution_count": 52,
   "id": "fb43d81d-1d81-47d1-9b05-992af57eef08",
   "metadata": {
    "scrolled": true
   },
   "outputs": [
    {
     "data": {
      "text/plain": [
       "(2,\n",
       " 4,\n",
       " 6,\n",
       " 8,\n",
       " 10,\n",
       " 12,\n",
       " 14,\n",
       " 16,\n",
       " 18,\n",
       " 20,\n",
       " 22,\n",
       " 24,\n",
       " 26,\n",
       " 28,\n",
       " 30,\n",
       " 32,\n",
       " 34,\n",
       " 36,\n",
       " 38,\n",
       " 40,\n",
       " 42,\n",
       " 44,\n",
       " 46,\n",
       " 48,\n",
       " 50,\n",
       " 52,\n",
       " 54,\n",
       " 56,\n",
       " 58,\n",
       " 60,\n",
       " 62,\n",
       " 64,\n",
       " 66,\n",
       " 68,\n",
       " 70,\n",
       " 72,\n",
       " 74,\n",
       " 76,\n",
       " 78,\n",
       " 80,\n",
       " 82,\n",
       " 84,\n",
       " 86,\n",
       " 88,\n",
       " 90,\n",
       " 92,\n",
       " 94,\n",
       " 96,\n",
       " 98)"
      ]
     },
     "execution_count": 52,
     "metadata": {},
     "output_type": "execute_result"
    }
   ],
   "source": [
    "tuple_range = tuple(range(2, 100, 2))\n",
    "tuple_range"
   ]
  },
  {
   "cell_type": "markdown",
   "id": "6f3f5712-e834-4cd7-b6c1-b6decfc98fb7",
   "metadata": {},
   "source": [
    "# 081 별 표현식\n",
    "\n",
    "기본적으로 데이터 언패킹은 좌변의 변수와 우변 데이터 개수가 같아야 합니다.  \n",
    "하지만 star expression을 사용하면 변수의 개수가 달라도 데이터 언패킹을 할 수 있습니다.  \n",
    "튜플에 저장된 데이터 중에서 앞에 있는 두 개의 데이터만 필요할 경우 나머지 데이터의 언패킹 코드를 작성할 필요가 없습니다."
   ]
  },
  {
   "cell_type": "code",
   "execution_count": 53,
   "id": "5d49a249-1c22-4112-945b-311b5f3cdbb3",
   "metadata": {},
   "outputs": [],
   "source": [
    "a, b, *c = (0, 1, 2, 3, 4, 5)"
   ]
  },
  {
   "cell_type": "code",
   "execution_count": 54,
   "id": "7725af98-4005-4bb8-b3eb-634e2382ae4f",
   "metadata": {},
   "outputs": [
    {
     "data": {
      "text/plain": [
       "0"
      ]
     },
     "execution_count": 54,
     "metadata": {},
     "output_type": "execute_result"
    }
   ],
   "source": [
    "a"
   ]
  },
  {
   "cell_type": "code",
   "execution_count": 55,
   "id": "fb28b72d-ab75-4b5b-af1a-dcf742957511",
   "metadata": {},
   "outputs": [
    {
     "data": {
      "text/plain": [
       "1"
      ]
     },
     "execution_count": 55,
     "metadata": {},
     "output_type": "execute_result"
    }
   ],
   "source": [
    "b"
   ]
  },
  {
   "cell_type": "code",
   "execution_count": 56,
   "id": "3d4d3009-b165-41bb-aafc-554788209b04",
   "metadata": {},
   "outputs": [
    {
     "data": {
      "text/plain": [
       "[2, 3, 4, 5]"
      ]
     },
     "execution_count": 56,
     "metadata": {},
     "output_type": "execute_result"
    }
   ],
   "source": [
    "c"
   ]
  },
  {
   "cell_type": "markdown",
   "id": "24cc2c9e-a177-41db-b8d0-fdb3f3464908",
   "metadata": {},
   "source": [
    "다음과 같이 10개의 값이 저장된 scores 리스트가 있을 때, start expression을 사용하여 좌측 8개의 값을 valid_score 변수에 바인딩하여라."
   ]
  },
  {
   "cell_type": "code",
   "execution_count": 57,
   "id": "adf22988-3f99-453a-9f07-4ce8c8382f0f",
   "metadata": {},
   "outputs": [],
   "source": [
    "scores = [8.8, 8.9, 8.7, 9.2, 9.3, 9.7, 9.9, 9.5, 7.8, 9.4]\n",
    "*valid_score, _, _ = scores"
   ]
  },
  {
   "cell_type": "code",
   "execution_count": 58,
   "id": "cb8960d1-1356-4698-91b4-353af6337aa2",
   "metadata": {},
   "outputs": [
    {
     "data": {
      "text/plain": [
       "[8.8, 8.9, 8.7, 9.2, 9.3, 9.7, 9.9, 9.5]"
      ]
     },
     "execution_count": 58,
     "metadata": {},
     "output_type": "execute_result"
    }
   ],
   "source": [
    "valid_score"
   ]
  },
  {
   "cell_type": "markdown",
   "id": "443e3f8b-7da4-429a-972b-d44b5160c6f0",
   "metadata": {},
   "source": [
    "# 082\n",
    "다음과 같이 10개의 값이 저장된 scores 리스트가 있을 때, start expression을 사용하여 우측 8개의 값을 valid_score 변수에 바인딩하여라."
   ]
  },
  {
   "cell_type": "code",
   "execution_count": 59,
   "id": "e271ff73-e5fc-4bc5-99ad-7294c6903136",
   "metadata": {},
   "outputs": [],
   "source": [
    "scores = [8.8, 8.9, 8.7, 9.2, 9.3, 9.7, 9.9, 9.5, 7.8, 9.4]\n",
    "_, _, *valid_score = scores"
   ]
  },
  {
   "cell_type": "code",
   "execution_count": 60,
   "id": "b9b49cd2-a846-4733-a2ce-df8988577ff3",
   "metadata": {},
   "outputs": [
    {
     "data": {
      "text/plain": [
       "[8.7, 9.2, 9.3, 9.7, 9.9, 9.5, 7.8, 9.4]"
      ]
     },
     "execution_count": 60,
     "metadata": {},
     "output_type": "execute_result"
    }
   ],
   "source": [
    "valid_score"
   ]
  },
  {
   "cell_type": "markdown",
   "id": "fb39b9bf-6ac5-4873-9bba-3b18787d21c4",
   "metadata": {},
   "source": [
    "# 083\n",
    "다음과 같이 10개의 값이 저장된 scores 리스트가 있을 때, start expression을 사용하여 가운데 있는 8개의 값을 valid_score 변수에 바인딩하여라."
   ]
  },
  {
   "cell_type": "code",
   "execution_count": 61,
   "id": "92d5d735-406d-4b8e-b79c-d82f36f37f6c",
   "metadata": {},
   "outputs": [],
   "source": [
    "scores = [8.8, 8.9, 8.7, 9.2, 9.3, 9.7, 9.9, 9.5, 7.8, 9.4]\n",
    "_, *valid_score, _ = scores"
   ]
  },
  {
   "cell_type": "code",
   "execution_count": 62,
   "id": "daef920d-8601-4950-9546-2ece3a34ea0e",
   "metadata": {},
   "outputs": [
    {
     "data": {
      "text/plain": [
       "[8.9, 8.7, 9.2, 9.3, 9.7, 9.9, 9.5, 7.8]"
      ]
     },
     "execution_count": 62,
     "metadata": {},
     "output_type": "execute_result"
    }
   ],
   "source": [
    "valid_score"
   ]
  },
  {
   "cell_type": "markdown",
   "id": "3244653a-cf44-4994-82c1-14ccaa7b6149",
   "metadata": {},
   "source": [
    "# 084 비어있는 딕셔너리\n",
    "temp 이름의 비어있는 딕셔너리를 만들라."
   ]
  },
  {
   "cell_type": "code",
   "execution_count": 63,
   "id": "29672e02-ea06-413a-842e-483354f3747a",
   "metadata": {},
   "outputs": [
    {
     "data": {
      "text/plain": [
       "{}"
      ]
     },
     "execution_count": 63,
     "metadata": {},
     "output_type": "execute_result"
    }
   ],
   "source": [
    "temp = {}\n",
    "temp"
   ]
  },
  {
   "cell_type": "markdown",
   "id": "e80b4c42-5999-4db6-b3dc-480e15d21bf2",
   "metadata": {},
   "source": [
    "# 085\n",
    "다음 아이스크림 이름과 희망 가격을 딕셔너리로 구성하라.\n",
    "\n",
    "|이름|희망 가격|\n",
    "|---|---|\n",
    "|메로나|1000|\n",
    "|폴라포|1200|\n",
    "|빵빠레|1800|"
   ]
  },
  {
   "cell_type": "code",
   "execution_count": 64,
   "id": "8b368d3b-fadc-4a54-b255-6536bac19188",
   "metadata": {},
   "outputs": [],
   "source": [
    "icecream = {\n",
    "    \"메로나\": 1000,\n",
    "    \"폴라포\": 1200,\n",
    "    \"빵빠레\": 1800\n",
    "}"
   ]
  },
  {
   "cell_type": "code",
   "execution_count": 65,
   "id": "37f49efa-7775-4f60-9220-89b24ce63d49",
   "metadata": {},
   "outputs": [
    {
     "data": {
      "text/plain": [
       "{'메로나': 1000, '폴라포': 1200, '빵빠레': 1800}"
      ]
     },
     "execution_count": 65,
     "metadata": {},
     "output_type": "execute_result"
    }
   ],
   "source": [
    "icecream"
   ]
  },
  {
   "cell_type": "markdown",
   "id": "3f476535-934a-474a-9bec-30d3fffa9132",
   "metadata": {},
   "source": [
    "# 086\n",
    "085 번의 딕셔너리에 아래 아이스크림 가격정보를 추가하라.\n",
    "\n",
    "|이름|\t희망 가격|\n",
    "|---|---|\n",
    "|죠스바|\t1200|\n",
    "|월드콘|\t1500|"
   ]
  },
  {
   "cell_type": "code",
   "execution_count": 66,
   "id": "6ec5379a-601e-4ec9-8864-be0f75be10fa",
   "metadata": {},
   "outputs": [
    {
     "data": {
      "text/plain": [
       "{'메로나': 1000, '폴라포': 1200, '빵빠레': 1800, '죠스바': 1200, '월드콘': 1200}"
      ]
     },
     "execution_count": 66,
     "metadata": {},
     "output_type": "execute_result"
    }
   ],
   "source": [
    "icecream[\"죠스바\"] = 1200\n",
    "icecream[\"월드콘\"] = 1200\n",
    "icecream"
   ]
  },
  {
   "cell_type": "markdown",
   "id": "3f03422b-2e33-4891-98d9-7f4631aa87be",
   "metadata": {},
   "source": [
    "# 087\r\n",
    "다음 딕셔너리를 사용하여 메로나 가격을 출력하라."
   ]
  },
  {
   "cell_type": "code",
   "execution_count": 67,
   "id": "dbfe1a1c-ba1c-44cf-b6cf-4ecfc7c7a3f3",
   "metadata": {},
   "outputs": [],
   "source": [
    "ice = {'메로나': 1000,\n",
    "       '폴로포': 1200,\n",
    "       '빵빠레': 1800,\n",
    "       '죠스바': 1200,\n",
    "       '월드콘': 1500}"
   ]
  },
  {
   "cell_type": "code",
   "execution_count": 68,
   "id": "7f79f5bc-b4e8-45a1-ac70-c9d37d6c646b",
   "metadata": {},
   "outputs": [
    {
     "name": "stdout",
     "output_type": "stream",
     "text": [
      "메로나 가격: 1000\n"
     ]
    }
   ],
   "source": [
    "print(\"메로나 가격: {}\".format(ice['메로나']))"
   ]
  },
  {
   "cell_type": "markdown",
   "id": "f6fa48e1-45ef-456c-8546-76f8fc1b5dc4",
   "metadata": {},
   "source": [
    "# 088\n",
    "다음 딕셔너리에서 메로나의 가격을 1300으로 수정하라."
   ]
  },
  {
   "cell_type": "code",
   "execution_count": 69,
   "id": "b8ad0911-1923-4e0c-bc3d-606736394cbd",
   "metadata": {},
   "outputs": [],
   "source": [
    "ice = {'메로나': 1000,\n",
    "       '폴로포': 1200,\n",
    "       '빵빠레': 1800,\n",
    "       '죠스바': 1200,\n",
    "       '월드콘': 1500}"
   ]
  },
  {
   "cell_type": "code",
   "execution_count": 70,
   "id": "13c4f043-f75c-4904-beb0-4e3f6c073bf3",
   "metadata": {},
   "outputs": [
    {
     "data": {
      "text/plain": [
       "{'메로나': 1300, '폴로포': 1200, '빵빠레': 1800, '죠스바': 1200, '월드콘': 1500}"
      ]
     },
     "execution_count": 70,
     "metadata": {},
     "output_type": "execute_result"
    }
   ],
   "source": [
    "ice[\"메로나\"] = 1300\n",
    "ice"
   ]
  },
  {
   "cell_type": "markdown",
   "id": "c46db6d5-db06-402f-a117-672be7a41abc",
   "metadata": {},
   "source": [
    "# 089\n",
    "다음 딕셔너리에서 메로나를 삭제하라."
   ]
  },
  {
   "cell_type": "code",
   "execution_count": 71,
   "id": "e8f5f6ca-d627-4011-84c5-98ad0b9998dd",
   "metadata": {},
   "outputs": [],
   "source": [
    "ice = {'메로나': 1000,\n",
    "       '폴로포': 1200,\n",
    "       '빵빠레': 1800,\n",
    "       '죠스바': 1200,\n",
    "       '월드콘': 1500}"
   ]
  },
  {
   "cell_type": "code",
   "execution_count": 72,
   "id": "e911554b-693d-47c4-a10f-18fc2c369c02",
   "metadata": {},
   "outputs": [
    {
     "data": {
      "text/plain": [
       "{'폴로포': 1200, '빵빠레': 1800, '죠스바': 1200, '월드콘': 1500}"
      ]
     },
     "execution_count": 72,
     "metadata": {},
     "output_type": "execute_result"
    }
   ],
   "source": [
    "del(ice[\"메로나\"])\n",
    "ice"
   ]
  },
  {
   "cell_type": "markdown",
   "id": "cabf2205-681f-48f6-be07-4f95be8f71c4",
   "metadata": {},
   "source": [
    "# 090\n",
    "다음 코드에서 에러가 발생한 원인을 설명하라."
   ]
  },
  {
   "cell_type": "code",
   "execution_count": 73,
   "id": "a6b4029e-1ddc-48ba-b008-d3d362232fc1",
   "metadata": {},
   "outputs": [
    {
     "ename": "KeyError",
     "evalue": "'누가바'",
     "output_type": "error",
     "traceback": [
      "\u001b[1;31m---------------------------------------------------------------------------\u001b[0m",
      "\u001b[1;31mKeyError\u001b[0m                                  Traceback (most recent call last)",
      "Cell \u001b[1;32mIn[73], line 2\u001b[0m\n\u001b[0;32m      1\u001b[0m icecream \u001b[38;5;241m=\u001b[39m {\u001b[38;5;124m'\u001b[39m\u001b[38;5;124m폴라포\u001b[39m\u001b[38;5;124m'\u001b[39m: \u001b[38;5;241m1200\u001b[39m, \u001b[38;5;124m'\u001b[39m\u001b[38;5;124m빵빠레\u001b[39m\u001b[38;5;124m'\u001b[39m: \u001b[38;5;241m1800\u001b[39m, \u001b[38;5;124m'\u001b[39m\u001b[38;5;124m월드콘\u001b[39m\u001b[38;5;124m'\u001b[39m: \u001b[38;5;241m1500\u001b[39m, \u001b[38;5;124m'\u001b[39m\u001b[38;5;124m메로나\u001b[39m\u001b[38;5;124m'\u001b[39m: \u001b[38;5;241m1000\u001b[39m}\n\u001b[1;32m----> 2\u001b[0m \u001b[43micecream\u001b[49m\u001b[43m[\u001b[49m\u001b[38;5;124;43m'\u001b[39;49m\u001b[38;5;124;43m누가바\u001b[39;49m\u001b[38;5;124;43m'\u001b[39;49m\u001b[43m]\u001b[49m\n",
      "\u001b[1;31mKeyError\u001b[0m: '누가바'"
     ]
    }
   ],
   "source": [
    "icecream = {'폴라포': 1200, '빵빠레': 1800, '월드콘': 1500, '메로나': 1000}\n",
    "icecream['누가바']"
   ]
  },
  {
   "cell_type": "code",
   "execution_count": 74,
   "id": "096f8f71-4eed-4d6a-8fed-e44d9d74120c",
   "metadata": {},
   "outputs": [
    {
     "name": "stdout",
     "output_type": "stream",
     "text": [
      "None\n"
     ]
    }
   ],
   "source": [
    "print(icecream.get('누가바'))"
   ]
  },
  {
   "cell_type": "markdown",
   "id": "2d8ef8e3-569f-4888-abe9-51d529392760",
   "metadata": {},
   "source": [
    "# 091 딕셔너리 생성\n",
    "아래의 표에서, 아이스크림 이름을 키값으로, (가격, 재고) 리스트를 딕셔너리의 값으로 저장하라. 딕셔너리의 이름은 inventory로 한다.\n",
    "\n",
    "|이름|\t가격|\t재고|\n",
    "|---|---|---|\n",
    "|메로나|\t300|\t20|\n",
    "|비비빅|\t400|\t3|\n",
    "|죠스바|\t250|\t100|"
   ]
  },
  {
   "cell_type": "code",
   "execution_count": 75,
   "id": "c38f2ed1-8880-40e9-93a0-29832ffc48c9",
   "metadata": {},
   "outputs": [
    {
     "data": {
      "text/plain": [
       "{'메로나': (300, 20), '비비빅': (400, 3), '죠스바': (250, 100)}"
      ]
     },
     "execution_count": 75,
     "metadata": {},
     "output_type": "execute_result"
    }
   ],
   "source": [
    "inventory = {\n",
    "    \"메로나\": (300, 20),\n",
    "    \"비비빅\": (400, 3),\n",
    "    \"죠스바\": (250, 100),\n",
    "}\n",
    "inventory"
   ]
  },
  {
   "cell_type": "markdown",
   "id": "8f3c6e5d-712a-4824-968e-152f8ac6b732",
   "metadata": {},
   "source": [
    "# 092 딕셔너리 인덱싱\n",
    "inventory 딕셔너리에서 메로나의 가격을 화면에 출력하라."
   ]
  },
  {
   "cell_type": "code",
   "execution_count": 76,
   "id": "0c5d5b0f-31f9-421a-a759-36d40600393a",
   "metadata": {},
   "outputs": [],
   "source": [
    "inventory = {\"메로나\": [300, 20],\n",
    "              \"비비빅\": [400, 3],\n",
    "              \"죠스바\": [250, 100]}"
   ]
  },
  {
   "cell_type": "code",
   "execution_count": 77,
   "id": "7a74f948-ecb3-45cd-a2a0-2b0747e7b3c7",
   "metadata": {},
   "outputs": [
    {
     "name": "stdout",
     "output_type": "stream",
     "text": [
      "300 원\n"
     ]
    }
   ],
   "source": [
    "print(\"{} 원\".format(inventory[\"메로나\"][0]))"
   ]
  },
  {
   "cell_type": "markdown",
   "id": "12d9df62-592e-40fa-8598-f1b6173fd0d9",
   "metadata": {},
   "source": [
    "# 093 딕셔너리 인덱싱\n",
    "inventory 딕셔너리에서 메로나의 재고를 화면에 출력하라."
   ]
  },
  {
   "cell_type": "code",
   "execution_count": 78,
   "id": "ed40fe12-8867-4b4e-891b-b61ba43dec8b",
   "metadata": {},
   "outputs": [],
   "source": [
    "inventory = {\"메로나\": [300, 20],\n",
    "              \"비비빅\": [400, 3],\n",
    "              \"죠스바\": [250, 100]}"
   ]
  },
  {
   "cell_type": "code",
   "execution_count": 79,
   "id": "73ebdf4b-4699-4fc6-a395-b467655c5313",
   "metadata": {},
   "outputs": [
    {
     "name": "stdout",
     "output_type": "stream",
     "text": [
      "20 개\n"
     ]
    }
   ],
   "source": [
    "print(\"{} 개\".format(inventory[\"메로나\"][1]))"
   ]
  },
  {
   "cell_type": "markdown",
   "id": "a40bb52f-88a9-4084-939e-7677797d84ad",
   "metadata": {},
   "source": [
    "# 094 딕셔너리 추가\n",
    "inventory 딕셔너리에 아래 데이터를 추가하라."
   ]
  },
  {
   "cell_type": "code",
   "execution_count": 80,
   "id": "38dbf298-cb26-4885-94d7-6dbfbac4e093",
   "metadata": {},
   "outputs": [],
   "source": [
    "inventory = {\"메로나\": [300, 20],\n",
    "              \"비비빅\": [400, 3],\n",
    "              \"죠스바\": [250, 100]}"
   ]
  },
  {
   "cell_type": "markdown",
   "id": "887ac52f-de9f-431a-bdc1-6aacd1c04239",
   "metadata": {},
   "source": [
    "|이름|\t가격|\t재고|\n",
    "|---|---|---|\n",
    "|월드콘|\t500|\t7|"
   ]
  },
  {
   "cell_type": "code",
   "execution_count": 81,
   "id": "d557404c-2464-4297-9f5c-f7175779b9b5",
   "metadata": {},
   "outputs": [
    {
     "name": "stdout",
     "output_type": "stream",
     "text": [
      "{'메로나': [300, 20], '비비빅': [400, 3], '죠스바': [250, 100], '월드콘': [500, 7]}\n"
     ]
    }
   ],
   "source": [
    "inventory[\"월드콘\"] = [500, 7]\n",
    "print(inventory)"
   ]
  },
  {
   "cell_type": "markdown",
   "id": "d1c4074d-6d9f-4122-983a-8fa4e82c6500",
   "metadata": {},
   "source": [
    "# 095 딕셔너리 keys() 메서드\n",
    "다음의 딕셔너리로부터 key 값으로만 구성된 리스트를 생성하라."
   ]
  },
  {
   "cell_type": "code",
   "execution_count": 82,
   "id": "65942a1c-3759-47c5-8b36-a8f2c98ab3f6",
   "metadata": {},
   "outputs": [],
   "source": [
    "icecream = {'탱크보이': 1200, '폴라포': 1200, '빵빠레': 1800, '월드콘': 1500, '메로나': 1000}"
   ]
  },
  {
   "cell_type": "code",
   "execution_count": 83,
   "id": "2752dc51-53c4-4dd4-ac08-d761963f181e",
   "metadata": {},
   "outputs": [
    {
     "data": {
      "text/plain": [
       "['탱크보이', '폴라포', '빵빠레', '월드콘', '메로나']"
      ]
     },
     "execution_count": 83,
     "metadata": {},
     "output_type": "execute_result"
    }
   ],
   "source": [
    "list(icecream.keys())"
   ]
  },
  {
   "cell_type": "markdown",
   "id": "83e3bf3d-d996-4481-8361-a24c2bb8170a",
   "metadata": {},
   "source": [
    "# 096 딕셔너리 values() 메서드\n",
    "다음의 딕셔너리에서 values 값으로만 구성된 리스트를 생성하라."
   ]
  },
  {
   "cell_type": "code",
   "execution_count": 84,
   "id": "5a5ff763-7040-4ee5-b359-daa507740003",
   "metadata": {},
   "outputs": [],
   "source": [
    "icecream = {'탱크보이': 1200, '폴라포': 1200, '빵빠레': 1800, '월드콘': 1500, '메로나': 1000}"
   ]
  },
  {
   "cell_type": "code",
   "execution_count": 85,
   "id": "fb4452d1-b228-4ffb-9c47-8cd39b942e3b",
   "metadata": {},
   "outputs": [
    {
     "data": {
      "text/plain": [
       "[1200, 1200, 1800, 1500, 1000]"
      ]
     },
     "execution_count": 85,
     "metadata": {},
     "output_type": "execute_result"
    }
   ],
   "source": [
    "list(icecream.values())"
   ]
  },
  {
   "cell_type": "markdown",
   "id": "42a82bab-11fc-44aa-af03-3836783d4613",
   "metadata": {},
   "source": [
    "# 097 딕셔너리 values() 메서드\r\n",
    "icecream 딕셔너리에서 아이스크림 판매 금액의 총합을 출력하라."
   ]
  },
  {
   "cell_type": "code",
   "execution_count": 86,
   "id": "175bfb0d-96ef-4db4-b6ea-4e43157bab7f",
   "metadata": {},
   "outputs": [],
   "source": [
    "icecream = {'탱크보이': 1200, '폴라포': 1200, '빵빠레': 1800, '월드콘': 1500, '메로나': 1000}"
   ]
  },
  {
   "cell_type": "code",
   "execution_count": 87,
   "id": "c2ce29e3-f84c-47d7-b99d-6a470303c451",
   "metadata": {},
   "outputs": [
    {
     "data": {
      "text/plain": [
       "6700"
      ]
     },
     "execution_count": 87,
     "metadata": {},
     "output_type": "execute_result"
    }
   ],
   "source": [
    "sum(icecream.values())"
   ]
  },
  {
   "cell_type": "markdown",
   "id": "18eb9056-79f2-4a8a-8cba-fe8db206cc41",
   "metadata": {},
   "source": [
    "# 098 딕셔너리 update 메서드\n",
    "아래의 new_product 딕셔너리를 다음 icecream 딕셔너리에 추가하라."
   ]
  },
  {
   "cell_type": "code",
   "execution_count": 88,
   "id": "0679a7ab-3071-4e5f-adf0-ff480841bd90",
   "metadata": {},
   "outputs": [],
   "source": [
    "icecream = {'탱크보이': 1200, '폴라포': 1200, '빵빠레': 1800, '월드콘': 1500, '메로나': 1000}\n",
    "new_product = {'팥빙수':2700, '아맛나':1000}"
   ]
  },
  {
   "cell_type": "code",
   "execution_count": 89,
   "id": "1a42b2b1-048e-433c-8974-516e58152760",
   "metadata": {},
   "outputs": [
    {
     "name": "stdout",
     "output_type": "stream",
     "text": [
      "{'탱크보이': 1200, '폴라포': 1200, '빵빠레': 1800, '월드콘': 1500, '메로나': 1000, '팥빙수': 2700, '아맛나': 1000}\n"
     ]
    }
   ],
   "source": [
    "icecream.update(new_product)\n",
    "print(icecream)"
   ]
  },
  {
   "cell_type": "markdown",
   "id": "14ff62ef-9a64-41e6-ae94-b2f48ffa67ec",
   "metadata": {},
   "source": [
    "# 099 zip과 dict\n",
    "아래 두 개의 튜플을 하나의 딕셔너리로 변환하라. keys를 키로, vals를 값으로 result 이름의 딕셔너리로 저장한다."
   ]
  },
  {
   "cell_type": "code",
   "execution_count": 90,
   "id": "cd377256-8951-4f88-9922-11d8e18387fd",
   "metadata": {},
   "outputs": [],
   "source": [
    "keys = (\"apple\", \"pear\", \"peach\")\n",
    "vals = (300, 250, 400)"
   ]
  },
  {
   "cell_type": "code",
   "execution_count": 92,
   "id": "cd4ac3ee-061e-4564-bd75-67196d7cf323",
   "metadata": {},
   "outputs": [
    {
     "name": "stdout",
     "output_type": "stream",
     "text": [
      "{'apple': 300, 'pear': 250, 'peach': 400}\n"
     ]
    }
   ],
   "source": [
    "result = dict(zip(keys, vals))\n",
    "print(result)"
   ]
  },
  {
   "cell_type": "markdown",
   "id": "4f26e252-4e71-413d-ac80-a46fa8a1f5dd",
   "metadata": {},
   "source": [
    "# 100 zip과 dict\r\n",
    "date와 close_price 두 개의 리스트를 close_table 이름의 딕셔너리로 생성하라."
   ]
  },
  {
   "cell_type": "code",
   "execution_count": 93,
   "id": "7a0b9a97-9e48-4853-8a00-7e6992f1dbce",
   "metadata": {},
   "outputs": [],
   "source": [
    "date = ['09/05', '09/06', '09/07', '09/08', '09/09']\n",
    "close_price = [10500, 10300, 10100, 10800, 11000]"
   ]
  },
  {
   "cell_type": "code",
   "execution_count": 94,
   "id": "94d6bec4-9215-4fb6-9bc5-f4dcad6a854d",
   "metadata": {},
   "outputs": [
    {
     "name": "stdout",
     "output_type": "stream",
     "text": [
      "{'09/05': 10500, '09/06': 10300, '09/07': 10100, '09/08': 10800, '09/09': 11000}\n"
     ]
    }
   ],
   "source": [
    "close_table = dict(zip(date, close_price))\n",
    "print(close_table)"
   ]
  }
 ],
 "metadata": {
  "kernelspec": {
   "display_name": "Python 3 (ipykernel)",
   "language": "python",
   "name": "python3"
  },
  "language_info": {
   "codemirror_mode": {
    "name": "ipython",
    "version": 3
   },
   "file_extension": ".py",
   "mimetype": "text/x-python",
   "name": "python",
   "nbconvert_exporter": "python",
   "pygments_lexer": "ipython3",
   "version": "3.11.7"
  }
 },
 "nbformat": 4,
 "nbformat_minor": 5
}
