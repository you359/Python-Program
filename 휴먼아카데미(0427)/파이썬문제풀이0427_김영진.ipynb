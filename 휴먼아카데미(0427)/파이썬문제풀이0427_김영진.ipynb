{
 "cells": [
  {
   "cell_type": "markdown",
   "id": "f7dccef4-c0a8-41f0-b144-5f6b2815a953",
   "metadata": {},
   "source": [
    "# 201\r\n",
    "\"비트코인\" 문자열을 화면에 출력하는 print_coin() 함수를 정의하라."
   ]
  },
  {
   "cell_type": "code",
   "execution_count": 3,
   "id": "b5d9ceb4-c414-4fb5-bb18-7799180b2e03",
   "metadata": {},
   "outputs": [],
   "source": [
    "def print_coin():\n",
    "    print(\"비트코인\")"
   ]
  },
  {
   "cell_type": "markdown",
   "id": "fbb47073-8199-4616-9abe-0c486df9cd0c",
   "metadata": {},
   "source": [
    "# 202\n",
    "201번에서 정의한 함수를 호출하라."
   ]
  },
  {
   "cell_type": "code",
   "execution_count": 4,
   "id": "dd92066a-9eb3-4341-b1b3-624a0e2000df",
   "metadata": {},
   "outputs": [
    {
     "name": "stdout",
     "output_type": "stream",
     "text": [
      "비트코인\n"
     ]
    }
   ],
   "source": [
    "print_coin()"
   ]
  },
  {
   "cell_type": "markdown",
   "id": "076e10f2-f581-4aa2-a4d2-4f0822f7466b",
   "metadata": {},
   "source": [
    "# 203\n",
    "201번에서 정의한 print_coin 함수를 100번호출하라."
   ]
  },
  {
   "cell_type": "code",
   "execution_count": 5,
   "id": "9ae5d42a-2b11-4b50-af93-70d662b0bf1f",
   "metadata": {},
   "outputs": [
    {
     "name": "stdout",
     "output_type": "stream",
     "text": [
      "비트코인\n",
      "비트코인\n",
      "비트코인\n",
      "비트코인\n",
      "비트코인\n",
      "비트코인\n",
      "비트코인\n",
      "비트코인\n",
      "비트코인\n",
      "비트코인\n",
      "비트코인\n",
      "비트코인\n",
      "비트코인\n",
      "비트코인\n",
      "비트코인\n",
      "비트코인\n",
      "비트코인\n",
      "비트코인\n",
      "비트코인\n",
      "비트코인\n",
      "비트코인\n",
      "비트코인\n",
      "비트코인\n",
      "비트코인\n",
      "비트코인\n",
      "비트코인\n",
      "비트코인\n",
      "비트코인\n",
      "비트코인\n",
      "비트코인\n",
      "비트코인\n",
      "비트코인\n",
      "비트코인\n",
      "비트코인\n",
      "비트코인\n",
      "비트코인\n",
      "비트코인\n",
      "비트코인\n",
      "비트코인\n",
      "비트코인\n",
      "비트코인\n",
      "비트코인\n",
      "비트코인\n",
      "비트코인\n",
      "비트코인\n",
      "비트코인\n",
      "비트코인\n",
      "비트코인\n",
      "비트코인\n",
      "비트코인\n",
      "비트코인\n",
      "비트코인\n",
      "비트코인\n",
      "비트코인\n",
      "비트코인\n",
      "비트코인\n",
      "비트코인\n",
      "비트코인\n",
      "비트코인\n",
      "비트코인\n",
      "비트코인\n",
      "비트코인\n",
      "비트코인\n",
      "비트코인\n",
      "비트코인\n",
      "비트코인\n",
      "비트코인\n",
      "비트코인\n",
      "비트코인\n",
      "비트코인\n",
      "비트코인\n",
      "비트코인\n",
      "비트코인\n",
      "비트코인\n",
      "비트코인\n",
      "비트코인\n",
      "비트코인\n",
      "비트코인\n",
      "비트코인\n",
      "비트코인\n",
      "비트코인\n",
      "비트코인\n",
      "비트코인\n",
      "비트코인\n",
      "비트코인\n",
      "비트코인\n",
      "비트코인\n",
      "비트코인\n",
      "비트코인\n",
      "비트코인\n",
      "비트코인\n",
      "비트코인\n",
      "비트코인\n",
      "비트코인\n",
      "비트코인\n",
      "비트코인\n",
      "비트코인\n",
      "비트코인\n",
      "비트코인\n",
      "비트코인\n"
     ]
    }
   ],
   "source": [
    "for i in range(100):\n",
    "    print_coin()"
   ]
  },
  {
   "cell_type": "markdown",
   "id": "b236a7eb-ea17-4834-a68f-31fd1a1390fa",
   "metadata": {},
   "source": [
    "# 204\n",
    "\"비트코인\" 문자열을 100번 화면에 출력하는 print_coins() 함수를 정의하라."
   ]
  },
  {
   "cell_type": "code",
   "execution_count": 7,
   "id": "2c9dc188-8300-4888-ba53-485db018873b",
   "metadata": {},
   "outputs": [
    {
     "name": "stdout",
     "output_type": "stream",
     "text": [
      "비트코인\n",
      "비트코인\n",
      "비트코인\n",
      "비트코인\n",
      "비트코인\n",
      "비트코인\n",
      "비트코인\n",
      "비트코인\n",
      "비트코인\n",
      "비트코인\n",
      "비트코인\n",
      "비트코인\n",
      "비트코인\n",
      "비트코인\n",
      "비트코인\n",
      "비트코인\n",
      "비트코인\n",
      "비트코인\n",
      "비트코인\n",
      "비트코인\n",
      "비트코인\n",
      "비트코인\n",
      "비트코인\n",
      "비트코인\n",
      "비트코인\n",
      "비트코인\n",
      "비트코인\n",
      "비트코인\n",
      "비트코인\n",
      "비트코인\n",
      "비트코인\n",
      "비트코인\n",
      "비트코인\n",
      "비트코인\n",
      "비트코인\n",
      "비트코인\n",
      "비트코인\n",
      "비트코인\n",
      "비트코인\n",
      "비트코인\n",
      "비트코인\n",
      "비트코인\n",
      "비트코인\n",
      "비트코인\n",
      "비트코인\n",
      "비트코인\n",
      "비트코인\n",
      "비트코인\n",
      "비트코인\n",
      "비트코인\n",
      "비트코인\n",
      "비트코인\n",
      "비트코인\n",
      "비트코인\n",
      "비트코인\n",
      "비트코인\n",
      "비트코인\n",
      "비트코인\n",
      "비트코인\n",
      "비트코인\n",
      "비트코인\n",
      "비트코인\n",
      "비트코인\n",
      "비트코인\n",
      "비트코인\n",
      "비트코인\n",
      "비트코인\n",
      "비트코인\n",
      "비트코인\n",
      "비트코인\n",
      "비트코인\n",
      "비트코인\n",
      "비트코인\n",
      "비트코인\n",
      "비트코인\n",
      "비트코인\n",
      "비트코인\n",
      "비트코인\n",
      "비트코인\n",
      "비트코인\n",
      "비트코인\n",
      "비트코인\n",
      "비트코인\n",
      "비트코인\n",
      "비트코인\n",
      "비트코인\n",
      "비트코인\n",
      "비트코인\n",
      "비트코인\n",
      "비트코인\n",
      "비트코인\n",
      "비트코인\n",
      "비트코인\n",
      "비트코인\n",
      "비트코인\n",
      "비트코인\n",
      "비트코인\n",
      "비트코인\n",
      "비트코인\n",
      "비트코인\n"
     ]
    }
   ],
   "source": [
    "def print_coins():\n",
    "    for i in range(100):\n",
    "        print(\"비트코인\")\n",
    "\n",
    "print_coins()"
   ]
  },
  {
   "cell_type": "markdown",
   "id": "d2fd71a9-c10d-4e0b-b1b0-a5b83c8e497a",
   "metadata": {},
   "source": [
    "# 205\n",
    "아래의 에러가 발생하는 이유에 대해 설명하라."
   ]
  },
  {
   "cell_type": "code",
   "execution_count": 8,
   "id": "e3264483-c599-48a7-bc07-793c286d11c0",
   "metadata": {},
   "outputs": [
    {
     "ename": "NameError",
     "evalue": "name 'hello' is not defined",
     "output_type": "error",
     "traceback": [
      "\u001b[1;31m---------------------------------------------------------------------------\u001b[0m",
      "\u001b[1;31mNameError\u001b[0m                                 Traceback (most recent call last)",
      "Cell \u001b[1;32mIn[8], line 1\u001b[0m\n\u001b[1;32m----> 1\u001b[0m \u001b[43mhello\u001b[49m()\n\u001b[0;32m      2\u001b[0m \u001b[38;5;28;01mdef\u001b[39;00m \u001b[38;5;21mhello\u001b[39m():\n\u001b[0;32m      3\u001b[0m     \u001b[38;5;28mprint\u001b[39m(\u001b[38;5;124m\"\u001b[39m\u001b[38;5;124mHi\u001b[39m\u001b[38;5;124m\"\u001b[39m)\n",
      "\u001b[1;31mNameError\u001b[0m: name 'hello' is not defined"
     ]
    }
   ],
   "source": [
    "hello()\n",
    "def hello():\n",
    "    print(\"Hi\")"
   ]
  },
  {
   "cell_type": "raw",
   "id": "1181fb97-de03-402a-88b0-c01d09bf5131",
   "metadata": {},
   "source": [
    "이유: 함수가 정의되지 않은 상태에서 호출했기 때문"
   ]
  },
  {
   "cell_type": "markdown",
   "id": "08e37e4a-bd31-453a-8dec-4ba14ce19906",
   "metadata": {},
   "source": [
    "# 206\n",
    "아래 코드의 실행 결과를 예측하라."
   ]
  },
  {
   "cell_type": "code",
   "execution_count": 9,
   "id": "29ff4f31-2c8f-46fc-90de-aafbb8c07ced",
   "metadata": {},
   "outputs": [
    {
     "name": "stdout",
     "output_type": "stream",
     "text": [
      "A\n",
      "B\n",
      "C\n",
      "A\n",
      "B\n"
     ]
    }
   ],
   "source": [
    "def message() :\n",
    "    print(\"A\")\n",
    "    print(\"B\")\n",
    "\n",
    "message()\n",
    "print(\"C\")\n",
    "message()"
   ]
  },
  {
   "cell_type": "markdown",
   "id": "250d34cf-151f-4e9b-99e4-79b3942c9412",
   "metadata": {},
   "source": [
    "# 207\n",
    "아래 코드의 실행 결과를 예측하라. (읽기 어려운 코드의 예입니다.)"
   ]
  },
  {
   "cell_type": "code",
   "execution_count": 10,
   "id": "d5f4934d-db10-4de4-bb6a-e27d332c1c52",
   "metadata": {},
   "outputs": [
    {
     "name": "stdout",
     "output_type": "stream",
     "text": [
      "A\n",
      "C\n",
      "B\n"
     ]
    }
   ],
   "source": [
    "print(\"A\")\n",
    "\n",
    "def message() :\n",
    "    print(\"B\")\n",
    "\n",
    "print(\"C\")\n",
    "message()"
   ]
  },
  {
   "cell_type": "markdown",
   "id": "29247ed1-0c3f-4f6a-b229-e0270f1f9d76",
   "metadata": {},
   "source": [
    "# 208\n",
    "아래 코드의 실행 결과를 예측하라. (읽기 어려운 코드의 예입니다.)"
   ]
  },
  {
   "cell_type": "code",
   "execution_count": 11,
   "id": "9d0fcac7-a811-4fba-bea0-4e6f63ed1154",
   "metadata": {},
   "outputs": [
    {
     "name": "stdout",
     "output_type": "stream",
     "text": [
      "A\n",
      "C\n",
      "B\n",
      "E\n",
      "D\n"
     ]
    }
   ],
   "source": [
    "print(\"A\")\n",
    "def message1() :\n",
    "    print(\"B\")\n",
    "print(\"C\")\n",
    "def message2() :\n",
    "    print(\"D\")\n",
    "message1()\n",
    "print(\"E\")\n",
    "message2()"
   ]
  },
  {
   "cell_type": "markdown",
   "id": "12cf6b1a-aae4-4508-979a-1e193dfd2238",
   "metadata": {},
   "source": [
    "# 209\n",
    "아래 코드의 실행 결과를 예측하라."
   ]
  },
  {
   "cell_type": "code",
   "execution_count": 12,
   "id": "d1a5105f-f888-4d7c-95ab-ebb4085fb17b",
   "metadata": {},
   "outputs": [
    {
     "name": "stdout",
     "output_type": "stream",
     "text": [
      "B\n",
      "A\n"
     ]
    }
   ],
   "source": [
    "def message1():\n",
    "    print(\"A\")\n",
    "\n",
    "def message2():\n",
    "    print(\"B\")\n",
    "    message1()\n",
    "\n",
    "message2()"
   ]
  },
  {
   "cell_type": "markdown",
   "id": "6d9288ae-7a15-4b29-ae65-5d8f43053064",
   "metadata": {},
   "source": [
    "# 210\n",
    "아래 코드의 실행 결과를 예측하라."
   ]
  },
  {
   "cell_type": "code",
   "execution_count": 13,
   "id": "2e84ae76-4119-4605-a581-f426c51444fb",
   "metadata": {},
   "outputs": [
    {
     "name": "stdout",
     "output_type": "stream",
     "text": [
      "B\n",
      "C\n",
      "B\n",
      "C\n",
      "B\n",
      "C\n",
      "A\n"
     ]
    }
   ],
   "source": [
    "def message1():\n",
    "    print(\"A\")\n",
    "\n",
    "def message2():\n",
    "    print(\"B\")\n",
    "\n",
    "def message3():\n",
    "    for i in range (3) :\n",
    "        message2()\n",
    "        print(\"C\")\n",
    "    message1()\n",
    "\n",
    "message3()"
   ]
  },
  {
   "cell_type": "markdown",
   "id": "19518135-e1a2-4703-afc0-2d4699e60c15",
   "metadata": {},
   "source": [
    "# 211\n",
    "함수의 호출 결과를 예측하라."
   ]
  },
  {
   "cell_type": "code",
   "execution_count": 14,
   "id": "1e879f32-8ecf-46ce-8b57-8fbd1bdbb6f7",
   "metadata": {},
   "outputs": [
    {
     "name": "stdout",
     "output_type": "stream",
     "text": [
      "안녕\n",
      "Hi\n"
     ]
    }
   ],
   "source": [
    "def 함수(문자열) :\n",
    "    print(문자열)\n",
    "\n",
    "함수(\"안녕\")\n",
    "함수(\"Hi\")"
   ]
  },
  {
   "cell_type": "markdown",
   "id": "9095067f-f12a-4352-a795-a682544c5513",
   "metadata": {},
   "source": [
    "# 212\n",
    "함수의 호출 결과를 예측하라."
   ]
  },
  {
   "cell_type": "code",
   "execution_count": 15,
   "id": "b6a99981-209e-405c-a737-b57776a33037",
   "metadata": {},
   "outputs": [
    {
     "name": "stdout",
     "output_type": "stream",
     "text": [
      "7\n",
      "15\n"
     ]
    }
   ],
   "source": [
    "def 함수(a, b) :\n",
    "    print(a + b)\n",
    "\n",
    "함수(3, 4)\n",
    "함수(7, 8)"
   ]
  },
  {
   "cell_type": "markdown",
   "id": "8f925e55-80d2-4436-8d5d-23a53cb6ff1b",
   "metadata": {},
   "source": [
    "# 213\n",
    "아래와 같은 에러가 발생하는 원인을 설명하라."
   ]
  },
  {
   "cell_type": "code",
   "execution_count": 16,
   "id": "35128b1d-d7fc-4ff3-aaf5-b77e3efcfff1",
   "metadata": {},
   "outputs": [],
   "source": [
    "def 함수(문자열) :\n",
    "    print(문자열)"
   ]
  },
  {
   "cell_type": "code",
   "execution_count": 17,
   "id": "122727e2-bb33-42e2-8d19-7b5e52a63ce5",
   "metadata": {},
   "outputs": [
    {
     "ename": "TypeError",
     "evalue": "함수() missing 1 required positional argument: '문자열'",
     "output_type": "error",
     "traceback": [
      "\u001b[1;31m---------------------------------------------------------------------------\u001b[0m",
      "\u001b[1;31mTypeError\u001b[0m                                 Traceback (most recent call last)",
      "Cell \u001b[1;32mIn[17], line 1\u001b[0m\n\u001b[1;32m----> 1\u001b[0m \u001b[43m함수\u001b[49m\u001b[43m(\u001b[49m\u001b[43m)\u001b[49m\n",
      "\u001b[1;31mTypeError\u001b[0m: 함수() missing 1 required positional argument: '문자열'"
     ]
    }
   ],
   "source": [
    "함수()"
   ]
  },
  {
   "cell_type": "raw",
   "id": "f595a2b9-6826-4e6d-9020-88726534b062",
   "metadata": {},
   "source": [
    "이유 함수는 문자열 매개변수를 필요로 하는데, 호출 시 해당 매개변수를 전달하지 않아서"
   ]
  },
  {
   "cell_type": "markdown",
   "id": "ff49a0e7-cbd7-44d3-a916-1d19bfb858d9",
   "metadata": {},
   "source": [
    "# 214\n",
    "아래와 같은 에러가 발생하는 원인을 설명하라."
   ]
  },
  {
   "cell_type": "code",
   "execution_count": 18,
   "id": "ecfde8a9-04e3-43c2-9e87-34585d80524f",
   "metadata": {},
   "outputs": [
    {
     "ename": "TypeError",
     "evalue": "can only concatenate str (not \"int\") to str",
     "output_type": "error",
     "traceback": [
      "\u001b[1;31m---------------------------------------------------------------------------\u001b[0m",
      "\u001b[1;31mTypeError\u001b[0m                                 Traceback (most recent call last)",
      "Cell \u001b[1;32mIn[18], line 4\u001b[0m\n\u001b[0;32m      1\u001b[0m \u001b[38;5;28;01mdef\u001b[39;00m \u001b[38;5;21m함수\u001b[39m(a, b) :\n\u001b[0;32m      2\u001b[0m     \u001b[38;5;28mprint\u001b[39m(a \u001b[38;5;241m+\u001b[39m b)\n\u001b[1;32m----> 4\u001b[0m \u001b[43m함수\u001b[49m\u001b[43m(\u001b[49m\u001b[38;5;124;43m\"\u001b[39;49m\u001b[38;5;124;43m안녕\u001b[39;49m\u001b[38;5;124;43m\"\u001b[39;49m\u001b[43m,\u001b[49m\u001b[43m \u001b[49m\u001b[38;5;241;43m3\u001b[39;49m\u001b[43m)\u001b[49m\n",
      "Cell \u001b[1;32mIn[18], line 2\u001b[0m, in \u001b[0;36m함수\u001b[1;34m(a, b)\u001b[0m\n\u001b[0;32m      1\u001b[0m \u001b[38;5;28;01mdef\u001b[39;00m \u001b[38;5;21m함수\u001b[39m(a, b) :\n\u001b[1;32m----> 2\u001b[0m     \u001b[38;5;28mprint\u001b[39m(\u001b[43ma\u001b[49m\u001b[43m \u001b[49m\u001b[38;5;241;43m+\u001b[39;49m\u001b[43m \u001b[49m\u001b[43mb\u001b[49m)\n",
      "\u001b[1;31mTypeError\u001b[0m: can only concatenate str (not \"int\") to str"
     ]
    }
   ],
   "source": [
    "def 함수(a, b) :\n",
    "    print(a + b)\n",
    "\n",
    "함수(\"안녕\", 3)"
   ]
  },
  {
   "cell_type": "raw",
   "id": "dd303829-74c5-4d27-b01f-ff71bbcc48c4",
   "metadata": {},
   "source": [
    "이유: 함수 호출 시 인수 a와 b에 전달된 값은 \"안녕\"이라는 문자열과 숫자 3인데, 함수 내부에서 서로 다른 자료형의 두 변수를 더하는 연산을 수행했기 때문 (따라서, 형변환이 필요)"
   ]
  },
  {
   "cell_type": "markdown",
   "id": "b5442e9b-8ae0-414d-b271-383570736d8a",
   "metadata": {},
   "source": [
    "# 215\n",
    "하나의 문자를 입력받아 문자열 끝에 \":D\" 스마일 문자열을 이어 붙여 출력하는 print_with_smile 함수를 정의하라."
   ]
  },
  {
   "cell_type": "code",
   "execution_count": 21,
   "id": "a4314f27-5389-40ec-8b7e-557fd690b2a5",
   "metadata": {},
   "outputs": [],
   "source": [
    "def print_with_smile(param_str):\n",
    "    print(param_str + \":D\")"
   ]
  },
  {
   "cell_type": "markdown",
   "id": "6c5cd2c6-2ed0-4bb9-bd0f-b2ed4c2d136a",
   "metadata": {},
   "source": [
    "# 216\n",
    "215에서 정의한 함수를 호출하라. 파라미터는 \"안녕하세요\"로 입력하라."
   ]
  },
  {
   "cell_type": "code",
   "execution_count": 22,
   "id": "acb9e611-cde5-4c82-a082-a857c6c14a66",
   "metadata": {},
   "outputs": [
    {
     "name": "stdout",
     "output_type": "stream",
     "text": [
      "안녕하세요:D\n"
     ]
    }
   ],
   "source": [
    "print_with_smile(\"안녕하세요\")"
   ]
  },
  {
   "cell_type": "markdown",
   "id": "a2cf01cb-42e7-4705-8d95-7d962d0abde5",
   "metadata": {},
   "source": [
    "# 217\n",
    "현재 가격을 입력 받아 상한가 (30%)를 출력하는 print_upper_price 함수를 정의하라."
   ]
  },
  {
   "cell_type": "code",
   "execution_count": 23,
   "id": "acbc9e4a-1bd1-4cdb-a731-1e16ffc7920f",
   "metadata": {},
   "outputs": [
    {
     "name": "stdout",
     "output_type": "stream",
     "text": [
      "13000.0\n"
     ]
    }
   ],
   "source": [
    "def print_upper_price(price):\n",
    "    print(price * 1.3)\n",
    "\n",
    "print_upper_price(10000)"
   ]
  },
  {
   "cell_type": "markdown",
   "id": "c613e86d-f553-4c28-8641-da24fff26190",
   "metadata": {},
   "source": [
    "# 218\n",
    "두 개의 숫자를 입력받아 두 수의 합을 출력하는 print_sum 함수를 정의하라."
   ]
  },
  {
   "cell_type": "code",
   "execution_count": 24,
   "id": "7150617f-5729-4708-9db3-ae090f7fe58e",
   "metadata": {},
   "outputs": [
    {
     "name": "stdout",
     "output_type": "stream",
     "text": [
      "40\n"
     ]
    }
   ],
   "source": [
    "def print_sum(a, b):\n",
    "    print(a + b)\n",
    "\n",
    "print_sum(10, 30)"
   ]
  },
  {
   "cell_type": "markdown",
   "id": "346d73f1-d152-4232-a77d-2519ca0e70d2",
   "metadata": {},
   "source": [
    "# 219\n",
    "두 개의 숫자를 입력받아 합/차/곱/나눗셈을 출력하는 print_arithmetic_operation 함수를 작성하라."
   ]
  },
  {
   "cell_type": "code",
   "execution_count": 28,
   "id": "d57e5126-be8e-496e-8096-9174e962391a",
   "metadata": {},
   "outputs": [],
   "source": [
    "def print_arithmetic_operation(a, b):\n",
    "    print(\"{} + {} = {}\".format(a, b, a + b))\n",
    "    print(\"{} - {} = {}\".format(a, b, a - b))\n",
    "    print(\"{} * {} = {}\".format(a, b, a * b))\n",
    "    print(\"{} / {} = {}\".format(a, b, a / b))"
   ]
  },
  {
   "cell_type": "code",
   "execution_count": 30,
   "id": "0a5f5c8d-a555-40c6-ba10-b88d12963070",
   "metadata": {},
   "outputs": [
    {
     "name": "stdout",
     "output_type": "stream",
     "text": [
      "3 + 4 = 7\n",
      "3 - 4 = -1\n",
      "3 * 4 = 12\n",
      "3 / 4 = 0.75\n"
     ]
    }
   ],
   "source": [
    "print_arithmetic_operation(3, 4)"
   ]
  },
  {
   "cell_type": "markdown",
   "id": "75fdad4d-28ec-49ab-a4af-e5af3dff6022",
   "metadata": {},
   "source": [
    "# 220\n",
    "세 개의 숫자를 입력받아 가장 큰수를 출력하는 print_max 함수를 정의하라. 단 if 문을 사용해서 수를 비교하라."
   ]
  },
  {
   "cell_type": "code",
   "execution_count": 34,
   "id": "5ff2708c-affa-49fe-92b6-3f95216fdac0",
   "metadata": {},
   "outputs": [
    {
     "name": "stdout",
     "output_type": "stream",
     "text": [
      "90\n"
     ]
    }
   ],
   "source": [
    "def print_max(a, b, c):\n",
    "    if a > b:\n",
    "        if a > c:\n",
    "            print(a)\n",
    "        else:\n",
    "            print(c)\n",
    "    else:\n",
    "        if b > c:\n",
    "            print(b)\n",
    "        else:\n",
    "            print(c)\n",
    "\n",
    "print_max(90, 60, 30)"
   ]
  },
  {
   "cell_type": "code",
   "execution_count": 36,
   "id": "d942a68b-00f2-43b4-8a71-bdd758821f32",
   "metadata": {},
   "outputs": [
    {
     "name": "stdout",
     "output_type": "stream",
     "text": [
      "90\n"
     ]
    }
   ],
   "source": [
    "def print_max(a, b, c):\n",
    "    print(max([a, b, c]))\n",
    "\n",
    "print_max(90, 60, 30)"
   ]
  },
  {
   "cell_type": "code",
   "execution_count": 37,
   "id": "b54b88b5-50f9-4707-8ca2-9d08c5a3edef",
   "metadata": {},
   "outputs": [
    {
     "name": "stdout",
     "output_type": "stream",
     "text": [
      "90\n"
     ]
    }
   ],
   "source": [
    "def print_max(*a):\n",
    "    print(max(a))\n",
    "\n",
    "print_max(90, 60, 30)"
   ]
  },
  {
   "cell_type": "markdown",
   "id": "e0f785a6-0cb2-4efa-817b-ef4b0261d143",
   "metadata": {},
   "source": [
    "# 221\n",
    "입력된 문자열을 역순으로 출력하는 print_reverse 함수를 정의하라."
   ]
  },
  {
   "cell_type": "code",
   "execution_count": 40,
   "id": "9772a26b-7294-4389-a7af-05099720e22a",
   "metadata": {},
   "outputs": [
    {
     "name": "stdout",
     "output_type": "stream",
     "text": [
      "nohtyp\n"
     ]
    }
   ],
   "source": [
    "def print_reverse(param_string):\n",
    "    print(param_string[::-1])\n",
    "\n",
    "print_reverse(\"python\")"
   ]
  },
  {
   "cell_type": "markdown",
   "id": "82a15d72-5a19-4c11-8c93-17a9ffc5e9f8",
   "metadata": {},
   "source": [
    "# 222\n",
    "성적 리스트를 입력 받아 평균을 출력하는 print_score 함수를 정의하라."
   ]
  },
  {
   "cell_type": "code",
   "execution_count": 41,
   "id": "df79af97-f1cd-4208-8c4a-6d40bf8a363e",
   "metadata": {},
   "outputs": [
    {
     "name": "stdout",
     "output_type": "stream",
     "text": [
      "2.0\n"
     ]
    }
   ],
   "source": [
    "def print_score(score_list):\n",
    "    print(sum(score_list) / len(score_list))\n",
    "    \n",
    "print_score([1, 2, 3])"
   ]
  },
  {
   "cell_type": "markdown",
   "id": "44aa90df-ab5a-44aa-a75c-4293523d2d20",
   "metadata": {},
   "source": [
    "# 223\n",
    "하나의 리스트를 입력받아 짝수만 화면에 출력하는 print_even 함수를 정의하라."
   ]
  },
  {
   "cell_type": "code",
   "execution_count": 43,
   "id": "7d25ac73-5b9a-4846-8425-c7bcff7f29d9",
   "metadata": {},
   "outputs": [
    {
     "name": "stdout",
     "output_type": "stream",
     "text": [
      "2\n",
      "10\n",
      "12\n"
     ]
    }
   ],
   "source": [
    "def print_even(param_list):\n",
    "    for i in param_list:\n",
    "        if i % 2 == 0:\n",
    "            print(i)\n",
    "\n",
    "print_even ([1, 3, 2, 10, 12, 11, 15])"
   ]
  },
  {
   "cell_type": "markdown",
   "id": "7c55ef79-21e9-4c43-92f9-7637a2147820",
   "metadata": {},
   "source": [
    "# 224\n",
    "하나의 딕셔너리를 입력받아 딕셔너리의 key 값을 화면에 출력하는 print_keys 함수를 정의하라."
   ]
  },
  {
   "cell_type": "code",
   "execution_count": 46,
   "id": "d6cc5cc2-5161-439f-9c51-5e404b9a4d57",
   "metadata": {},
   "outputs": [
    {
     "name": "stdout",
     "output_type": "stream",
     "text": [
      "이름\n",
      "나이\n",
      "성별\n"
     ]
    }
   ],
   "source": [
    "def print_keys(param_dict):\n",
    "    print(\"\\n\".join(param_dict.keys()))\n",
    "\n",
    "print_keys ({\"이름\":\"김말똥\", \"나이\":30, \"성별\":0})"
   ]
  },
  {
   "cell_type": "markdown",
   "id": "a44083ee-50ae-4446-ac28-84a4339c316f",
   "metadata": {},
   "source": [
    "# 225\n",
    "my_dict에는 날짜를 키값으로 OHLC가 리스트로 저장돼 있다."
   ]
  },
  {
   "cell_type": "code",
   "execution_count": 47,
   "id": "2beee74b-45d1-4c84-9c70-d3039da07806",
   "metadata": {},
   "outputs": [],
   "source": [
    "my_dict = {\"10/26\" : [100, 130, 100, 100],\n",
    "           \"10/27\" : [10, 12, 10, 11]}"
   ]
  },
  {
   "cell_type": "markdown",
   "id": "6fb15ae2-344e-4f78-8858-e44732a3d669",
   "metadata": {},
   "source": [
    "my_dict와 날짜 키값을 입력받아 OHLC 리스트를 출력하는 print_value_by_key 함수를 정의하라."
   ]
  },
  {
   "cell_type": "code",
   "execution_count": 48,
   "id": "5bb7ba39-148f-4c8a-851f-c3ecdf378e6f",
   "metadata": {},
   "outputs": [
    {
     "name": "stdout",
     "output_type": "stream",
     "text": [
      "[100, 130, 100, 100]\n"
     ]
    }
   ],
   "source": [
    "def print_value_by_key(param_dict, key):\n",
    "    print(param_dict[key])\n",
    "\n",
    "print_value_by_key  (my_dict, \"10/26\")"
   ]
  },
  {
   "cell_type": "markdown",
   "id": "335ba635-e7e8-4aa2-b6d9-286de0cca689",
   "metadata": {},
   "source": [
    "# 226\n",
    "입력 문자열을 한 줄에 다섯글자씩 출력하는 print_5xn(string) 함수를 작성하라."
   ]
  },
  {
   "cell_type": "code",
   "execution_count": 50,
   "id": "7080f790-8ec0-45c4-b1a7-72471d7e1ee7",
   "metadata": {},
   "outputs": [
    {
     "name": "stdout",
     "output_type": "stream",
     "text": [
      "아이엠어보\n",
      "이유알어걸\n"
     ]
    }
   ],
   "source": [
    "def print_5xn(param_string):\n",
    "    for i in range(0, len(param_string), 5):\n",
    "        print(param_string[i:i+5])\n",
    "\n",
    "print_5xn(\"아이엠어보이유알어걸\")"
   ]
  },
  {
   "cell_type": "markdown",
   "id": "9f382dcb-3e2d-4a7e-bc94-305a3791df0a",
   "metadata": {},
   "source": [
    "# 227\n",
    "문자열과 한줄에 출력될 글자 수를 입력을 받아 한 줄에 입력된 글자 수만큼 출력하는 print_mxn(string) 함수를 작성하라."
   ]
  },
  {
   "cell_type": "code",
   "execution_count": 51,
   "id": "9365fb1e-179e-463e-aacd-f56844e2fb48",
   "metadata": {},
   "outputs": [
    {
     "name": "stdout",
     "output_type": "stream",
     "text": [
      "아이엠\n",
      "어보이\n",
      "유알어\n",
      "걸\n"
     ]
    }
   ],
   "source": [
    "def printmxn(param_string, m):\n",
    "    for i in range(0, len(param_string), m):\n",
    "        print(param_string[i:i+m])\n",
    "\n",
    "printmxn(\"아이엠어보이유알어걸\", 3)"
   ]
  },
  {
   "cell_type": "markdown",
   "id": "fc3fd62e-7776-426d-bd39-78a0f862ef98",
   "metadata": {},
   "source": [
    "# 228\n",
    "연봉을 입력받아 월급을 계산하는 calc_monthly_salary(annual_salary) 함수를 정의하라. 회사는 연봉을 12개월로 나누어 분할 지급하며, 이 때 1원 미만은 버림한다."
   ]
  },
  {
   "cell_type": "code",
   "execution_count": 52,
   "id": "bc7a3738-33d5-4aaf-946f-b720da220ffe",
   "metadata": {},
   "outputs": [
    {
     "name": "stdout",
     "output_type": "stream",
     "text": [
      "1000000\n"
     ]
    }
   ],
   "source": [
    "def calc_monthly_salary(annual_salary):\n",
    "    print(annual_salary // 12)\n",
    "\n",
    "calc_monthly_salary(12000000)"
   ]
  },
  {
   "cell_type": "markdown",
   "id": "2f1fce48-f417-40fd-922b-d79d26fdd0c9",
   "metadata": {},
   "source": [
    "# 229\n",
    "아래 코드의 실행 결과를 예측하라."
   ]
  },
  {
   "cell_type": "code",
   "execution_count": 53,
   "id": "97f3ee0b-7be1-4bc2-a7da-5558428436ac",
   "metadata": {},
   "outputs": [
    {
     "name": "stdout",
     "output_type": "stream",
     "text": [
      "왼쪽: 100\n",
      "오른쪽: 200\n"
     ]
    }
   ],
   "source": [
    "def my_print (a, b) :\n",
    "    print(\"왼쪽:\", a)\n",
    "    print(\"오른쪽:\", b)\n",
    "\n",
    "my_print(a=100, b=200)"
   ]
  },
  {
   "cell_type": "markdown",
   "id": "1543b456-24bb-4162-b617-31058b02b211",
   "metadata": {},
   "source": [
    "# 230\n",
    "아래 코드의 실행 결과를 예측하라."
   ]
  },
  {
   "cell_type": "code",
   "execution_count": 54,
   "id": "89cf8393-246b-476d-8d99-406cc5e2ad68",
   "metadata": {},
   "outputs": [
    {
     "name": "stdout",
     "output_type": "stream",
     "text": [
      "왼쪽: 200\n",
      "오른쪽: 100\n"
     ]
    }
   ],
   "source": [
    "def my_print (a, b) :\n",
    "    print(\"왼쪽:\", a)\n",
    "    print(\"오른쪽:\", b)\n",
    "\n",
    "my_print(b=100, a=200)"
   ]
  },
  {
   "cell_type": "markdown",
   "id": "d47392fe-4893-485f-ae38-8a8a3fac54bc",
   "metadata": {},
   "source": [
    "# 231\n",
    "아래 코드를 실행한 결과를 예상하라."
   ]
  },
  {
   "cell_type": "code",
   "execution_count": 55,
   "id": "e037e483-bfb0-4159-b865-4072a1a10ea6",
   "metadata": {},
   "outputs": [
    {
     "ename": "NameError",
     "evalue": "name 'result' is not defined",
     "output_type": "error",
     "traceback": [
      "\u001b[1;31m---------------------------------------------------------------------------\u001b[0m",
      "\u001b[1;31mNameError\u001b[0m                                 Traceback (most recent call last)",
      "Cell \u001b[1;32mIn[55], line 5\u001b[0m\n\u001b[0;32m      2\u001b[0m     result \u001b[38;5;241m=\u001b[39m n \u001b[38;5;241m+\u001b[39m \u001b[38;5;241m1\u001b[39m\n\u001b[0;32m      4\u001b[0m n_plus_1(\u001b[38;5;241m3\u001b[39m)\n\u001b[1;32m----> 5\u001b[0m \u001b[38;5;28mprint\u001b[39m (\u001b[43mresult\u001b[49m)\n",
      "\u001b[1;31mNameError\u001b[0m: name 'result' is not defined"
     ]
    }
   ],
   "source": [
    "def n_plus_1 (n) :\n",
    "    result = n + 1\n",
    "\n",
    "n_plus_1(3)\n",
    "print(result)"
   ]
  },
  {
   "cell_type": "markdown",
   "id": "2a5ccd42-f9e9-481a-8b17-0ee39a06cd58",
   "metadata": {},
   "source": [
    "# 232\n",
    "문자열 하나를 입력받아 인터넷 주소를 반환하는 make_url 함수를 정의하라."
   ]
  },
  {
   "cell_type": "code",
   "execution_count": 61,
   "id": "a7b0b193-1322-4d6a-8b64-dc998b883994",
   "metadata": {},
   "outputs": [
    {
     "data": {
      "text/plain": [
       "'www.naver.com'"
      ]
     },
     "execution_count": 61,
     "metadata": {},
     "output_type": "execute_result"
    }
   ],
   "source": [
    "def make_url(param_string):\n",
    "    return \"www.{}.com\".format(param_string)\n",
    "\n",
    "make_url(\"naver\")"
   ]
  },
  {
   "cell_type": "markdown",
   "id": "908cfd48-c991-4827-b53d-db016a2e78f4",
   "metadata": {},
   "source": [
    "# 233\n",
    "문자열을 입력받아 각 문자들로 구성된 리스트로 반환하는 make_list 함수를 정의하라."
   ]
  },
  {
   "cell_type": "code",
   "execution_count": 59,
   "id": "ff697efc-caee-4fb7-9ed0-be7d9f6984f7",
   "metadata": {},
   "outputs": [
    {
     "data": {
      "text/plain": [
       "['a', 'b', 'c', 'd']"
      ]
     },
     "execution_count": 59,
     "metadata": {},
     "output_type": "execute_result"
    }
   ],
   "source": [
    "def make_list(param_string):\n",
    "    return list(param_string)\n",
    "\n",
    "make_list(\"abcd\")"
   ]
  },
  {
   "cell_type": "markdown",
   "id": "d9cbc88c-1a68-4d60-95dc-04902de943b3",
   "metadata": {},
   "source": [
    "# 234\n",
    "숫자로 구성된 하나의 리스트를 입력받아, 짝수들을 추출하여 리스트로 반환하는 pickup_even 함수를 구현하라."
   ]
  },
  {
   "cell_type": "code",
   "execution_count": 62,
   "id": "1afa36d1-934f-4d00-987d-21a9adb01cb3",
   "metadata": {},
   "outputs": [
    {
     "data": {
      "text/plain": [
       "[4, 6, 8]"
      ]
     },
     "execution_count": 62,
     "metadata": {},
     "output_type": "execute_result"
    }
   ],
   "source": [
    "def pickup_even(param_list):\n",
    "    return [even for even in param_list if even % 2 == 0]\n",
    "\n",
    "pickup_even([3, 4, 5, 6, 7, 8])"
   ]
  },
  {
   "cell_type": "markdown",
   "id": "e7feb645-1528-4b8a-85d5-efce630f6bd3",
   "metadata": {},
   "source": [
    "# 235\n",
    "콤마가 포함된 문자열 숫자를 입력받아 정수로 변환하는 convert_int 함수를 정의하라."
   ]
  },
  {
   "cell_type": "code",
   "execution_count": 64,
   "id": "f25231cd-9435-4929-a54d-a3aadf1a8216",
   "metadata": {},
   "outputs": [
    {
     "data": {
      "text/plain": [
       "1234567"
      ]
     },
     "execution_count": 64,
     "metadata": {},
     "output_type": "execute_result"
    }
   ],
   "source": [
    "def convert_int(param_string):\n",
    "    return int(param_string.replace(',', ''))\n",
    "\n",
    "convert_int(\"1,234,567\")"
   ]
  },
  {
   "cell_type": "markdown",
   "id": "c6cb4227-54e3-4d43-b3a0-754631c361d7",
   "metadata": {},
   "source": [
    "# 236\n",
    "아래 코드의 실행 결과를 예측하라."
   ]
  },
  {
   "cell_type": "code",
   "execution_count": 66,
   "id": "b7e6c7b8-5c0f-4acc-8000-df758688cf7b",
   "metadata": {},
   "outputs": [
    {
     "name": "stdout",
     "output_type": "stream",
     "text": [
      "22\n"
     ]
    }
   ],
   "source": [
    "def 함수(num) :\n",
    "    return num + 4\n",
    "\n",
    "a = 함수(10)\n",
    "b = 함수(a)\n",
    "c = 함수(b)\n",
    "print(c)"
   ]
  },
  {
   "cell_type": "markdown",
   "id": "15700d4b-2bf3-41c9-8078-f1ecfdf3c514",
   "metadata": {},
   "source": [
    "# 237\n",
    "아래 코드의 실행 결과를 예측하라."
   ]
  },
  {
   "cell_type": "code",
   "execution_count": 67,
   "id": "d4f601ec-aea1-45c8-93f4-75b85998610a",
   "metadata": {},
   "outputs": [
    {
     "name": "stdout",
     "output_type": "stream",
     "text": [
      "22\n"
     ]
    }
   ],
   "source": [
    "def 함수(num) :\n",
    "    return num + 4\n",
    "\n",
    "c = 함수(함수(함수(10)))\n",
    "print(c)"
   ]
  },
  {
   "cell_type": "markdown",
   "id": "a3e0f1ab-4427-4858-b2db-98902aad151a",
   "metadata": {},
   "source": [
    "# 238\n",
    "아래 코드의 실행 결과를 예측하라."
   ]
  },
  {
   "cell_type": "code",
   "execution_count": 69,
   "id": "96bf0eea-8163-402f-9f01-43d843f00cf7",
   "metadata": {},
   "outputs": [
    {
     "name": "stdout",
     "output_type": "stream",
     "text": [
      "140\n"
     ]
    }
   ],
   "source": [
    "def 함수1(num) :\n",
    "    return num + 4\n",
    "\n",
    "def 함수2(num) :\n",
    "    return num * 10\n",
    "\n",
    "a = 함수1(10)\n",
    "c = 함수2(a)\n",
    "print(c)"
   ]
  },
  {
   "cell_type": "markdown",
   "id": "2aed46ac-5cbf-4f16-a87f-efa7a5a1fcca",
   "metadata": {},
   "source": [
    "# 239\n",
    "아래 코드의 실행 결과를 예측하라."
   ]
  },
  {
   "cell_type": "code",
   "execution_count": 70,
   "id": "7fc5d078-0db8-4ad5-8175-a0f54d191a5d",
   "metadata": {},
   "outputs": [
    {
     "name": "stdout",
     "output_type": "stream",
     "text": [
      "16\n"
     ]
    }
   ],
   "source": [
    "def 함수1(num) :\n",
    "    return num + 4\n",
    "\n",
    "def 함수2(num) :\n",
    "    num = num + 2\n",
    "    return 함수1(num)\n",
    "\n",
    "c = 함수2(10)\n",
    "print(c)"
   ]
  },
  {
   "cell_type": "markdown",
   "id": "0810090c-f22d-477a-bb19-7a56c6e73295",
   "metadata": {},
   "source": [
    "# 240\n",
    "아래 코드의 실행 결과를 예측하라."
   ]
  },
  {
   "cell_type": "code",
   "execution_count": 71,
   "id": "961daed5-53a0-4b5b-8cfe-fc97dff5e901",
   "metadata": {},
   "outputs": [
    {
     "name": "stdout",
     "output_type": "stream",
     "text": [
      "28\n"
     ]
    }
   ],
   "source": [
    "def 함수0(num) :\n",
    "    return num * 2\n",
    "\n",
    "def 함수1(num) :\n",
    "    return 함수0(num + 2)\n",
    "\n",
    "def 함수2(num) :\n",
    "    num = num + 10\n",
    "    return 함수1(num)\n",
    "\n",
    "c = 함수2(2)\n",
    "print(c)"
   ]
  }
 ],
 "metadata": {
  "kernelspec": {
   "display_name": "Python 3 (ipykernel)",
   "language": "python",
   "name": "python3"
  },
  "language_info": {
   "codemirror_mode": {
    "name": "ipython",
    "version": 3
   },
   "file_extension": ".py",
   "mimetype": "text/x-python",
   "name": "python",
   "nbconvert_exporter": "python",
   "pygments_lexer": "ipython3",
   "version": "3.11.7"
  }
 },
 "nbformat": 4,
 "nbformat_minor": 5
}
