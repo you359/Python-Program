{
 "cells": [
  {
   "cell_type": "markdown",
   "id": "6fed4f5a-9060-40d4-8c65-ff4b85428954",
   "metadata": {},
   "source": [
    "# 131\r\n",
    "for문의 실행결과를 예측하라."
   ]
  },
  {
   "cell_type": "code",
   "execution_count": 1,
   "id": "b684846a-ede5-45d0-8646-d03f37024f09",
   "metadata": {},
   "outputs": [
    {
     "name": "stdout",
     "output_type": "stream",
     "text": [
      "사과\n",
      "귤\n",
      "수박\n"
     ]
    }
   ],
   "source": [
    "과일 = [\"사과\", \"귤\", \"수박\"]\n",
    "for 변수 in 과일:\n",
    "    print(변수)"
   ]
  },
  {
   "cell_type": "markdown",
   "id": "256bf0be-aee4-4bdc-b6bf-1eb1059d3207",
   "metadata": {},
   "source": [
    "# 132\n",
    "for문의 실행결과를 예측하라."
   ]
  },
  {
   "cell_type": "code",
   "execution_count": 7,
   "id": "d2e75858-f572-4999-ae82-97ee3812c76a",
   "metadata": {},
   "outputs": [
    {
     "name": "stdout",
     "output_type": "stream",
     "text": [
      "#####\n",
      "#####\n",
      "#####\n"
     ]
    }
   ],
   "source": [
    "과일 = [\"사과\", \"귤\", \"수박\"]\n",
    "for 변수 in 과일:\n",
    "    print(\"#####\")"
   ]
  },
  {
   "cell_type": "markdown",
   "id": "5e7bc38a-c02c-4863-bb31-331cfbcf9aae",
   "metadata": {},
   "source": [
    "# 133\n",
    "다음 for 문과 동일한 기능을 수행하는 코드를 작성하세요."
   ]
  },
  {
   "cell_type": "code",
   "execution_count": 5,
   "id": "7ba8597b-03b0-491a-a396-57f1a6f3bf23",
   "metadata": {},
   "outputs": [
    {
     "name": "stdout",
     "output_type": "stream",
     "text": [
      "A\n",
      "B\n",
      "C\n"
     ]
    }
   ],
   "source": [
    "for 변수 in [\"A\", \"B\", \"C\"]:\n",
    "    print(변수)"
   ]
  },
  {
   "cell_type": "code",
   "execution_count": 8,
   "id": "5105dda9-d967-43f7-b3bc-aa490378063b",
   "metadata": {},
   "outputs": [
    {
     "name": "stdout",
     "output_type": "stream",
     "text": [
      "A\n",
      "B\n",
      "C\n"
     ]
    }
   ],
   "source": [
    "변수 = \"A\"\n",
    "print(변수)\n",
    "변수 = \"B\"\n",
    "print(변수)\n",
    "변수 = \"C\"\n",
    "print(변수)"
   ]
  },
  {
   "cell_type": "markdown",
   "id": "68016352-a1e6-47fb-a18e-95647eb10824",
   "metadata": {},
   "source": [
    "# 134\n",
    "for문을 풀어서 동일한 동작을하는 코드를 작성하라."
   ]
  },
  {
   "cell_type": "code",
   "execution_count": 10,
   "id": "4cdd78c9-bcec-4706-9af3-8ce46a9267eb",
   "metadata": {},
   "outputs": [
    {
     "name": "stdout",
     "output_type": "stream",
     "text": [
      "출력: A\n",
      "출력: B\n",
      "출력: C\n"
     ]
    }
   ],
   "source": [
    "for 변수 in [\"A\", \"B\", \"C\"]:\n",
    "    print(\"출력:\", 변수)"
   ]
  },
  {
   "cell_type": "code",
   "execution_count": 11,
   "id": "dc0b4661-4a66-4ea9-b198-17340710edb8",
   "metadata": {},
   "outputs": [
    {
     "name": "stdout",
     "output_type": "stream",
     "text": [
      "출력: A\n",
      "출력: B\n",
      "출력: C\n"
     ]
    }
   ],
   "source": [
    "변수 = \"A\"\n",
    "print(\"출력:\", 변수)\n",
    "변수 = \"B\"\n",
    "print(\"출력:\", 변수)\n",
    "변수 = \"C\"\n",
    "print(\"출력:\", 변수)"
   ]
  },
  {
   "cell_type": "markdown",
   "id": "55b9bc83-92df-450e-a91f-f0d55a1ffe33",
   "metadata": {},
   "source": [
    "# 135\n",
    "for문을 풀어서 동일한 동작을 하는 코드를 작성하라."
   ]
  },
  {
   "cell_type": "code",
   "execution_count": 12,
   "id": "7e1d54e5-d832-4e7b-aa7c-a3662cd19e2e",
   "metadata": {},
   "outputs": [
    {
     "name": "stdout",
     "output_type": "stream",
     "text": [
      "변환: a\n",
      "변환: b\n",
      "변환: c\n"
     ]
    }
   ],
   "source": [
    "for 변수 in [\"A\", \"B\", \"C\"]:\n",
    "    b = 변수.lower()\n",
    "    print(\"변환:\", b)"
   ]
  },
  {
   "cell_type": "code",
   "execution_count": 13,
   "id": "674e3793-e4ae-4a41-a991-00e30afc9ef2",
   "metadata": {},
   "outputs": [
    {
     "name": "stdout",
     "output_type": "stream",
     "text": [
      "변환: a\n",
      "변환: b\n",
      "변환: c\n"
     ]
    }
   ],
   "source": [
    "변수 = \"A\"\n",
    "b = 변수.lower()\n",
    "print(\"변환:\", b)\n",
    "변수 = \"B\"\n",
    "b = 변수.lower()\n",
    "print(\"변환:\", b)\n",
    "변수 = \"C\"\n",
    "b = 변수.lower()\n",
    "print(\"변환:\", b)"
   ]
  },
  {
   "cell_type": "markdown",
   "id": "c6d54b3a-f938-431e-8230-2598bbd32b5a",
   "metadata": {},
   "source": [
    "# 136\n",
    "다음 코드를 for문으로 작성하라."
   ]
  },
  {
   "cell_type": "code",
   "execution_count": 14,
   "id": "494b4167-af3c-4c21-a361-2e35513caf5b",
   "metadata": {},
   "outputs": [
    {
     "name": "stdout",
     "output_type": "stream",
     "text": [
      "10\n",
      "20\n",
      "30\n"
     ]
    }
   ],
   "source": [
    "변수 = 10\n",
    "print(변수)\n",
    "변수 = 20\n",
    "print(변수)\n",
    "변수 = 30\n",
    "print(변수)"
   ]
  },
  {
   "cell_type": "code",
   "execution_count": 15,
   "id": "4108769f-66f7-4932-99fd-215b0b3ed6b7",
   "metadata": {},
   "outputs": [
    {
     "name": "stdout",
     "output_type": "stream",
     "text": [
      "10\n",
      "20\n",
      "30\n"
     ]
    }
   ],
   "source": [
    "for 변수 in [10, 20, 30]:\n",
    "    print(변수)"
   ]
  },
  {
   "cell_type": "markdown",
   "id": "05cb8f88-9bb7-4512-bd1a-bbad9eea7c74",
   "metadata": {},
   "source": [
    "# 137\n",
    "다음 코드를 for문으로 작성하라.``"
   ]
  },
  {
   "cell_type": "code",
   "execution_count": 253,
   "id": "9d4786c0-37f4-4096-9ef0-9b00f9a20745",
   "metadata": {},
   "outputs": [
    {
     "name": "stdout",
     "output_type": "stream",
     "text": [
      "10\n",
      "20\n",
      "30\n"
     ]
    }
   ],
   "source": [
    "print(10)\n",
    "print(20)\n",
    "print(30)"
   ]
  },
  {
   "cell_type": "code",
   "execution_count": 20,
   "id": "d8329bdb-75a1-427b-a2ee-3519920c65bf",
   "metadata": {},
   "outputs": [
    {
     "name": "stdout",
     "output_type": "stream",
     "text": [
      "10\n",
      "20\n",
      "30\n"
     ]
    }
   ],
   "source": [
    "for i in range(10, 31, 10):\n",
    "    print(i)"
   ]
  },
  {
   "cell_type": "markdown",
   "id": "73e452fc-d7ff-4bbb-80df-d65ddef9d48b",
   "metadata": {},
   "source": [
    "# 138\n",
    "다음 코드를 for문으로 작성하라."
   ]
  },
  {
   "cell_type": "code",
   "execution_count": 21,
   "id": "1087c035-f92d-4228-a294-0b914d178589",
   "metadata": {},
   "outputs": [
    {
     "name": "stdout",
     "output_type": "stream",
     "text": [
      "10\n",
      "-------\n",
      "20\n",
      "-------\n",
      "30\n",
      "-------\n"
     ]
    }
   ],
   "source": [
    "print(10)\n",
    "print(\"-------\")\n",
    "print(20)\n",
    "print(\"-------\")\n",
    "print(30)\n",
    "print(\"-------\")"
   ]
  },
  {
   "cell_type": "code",
   "execution_count": 22,
   "id": "5a60f4c1-ddb3-4aec-a7d8-748cc7cddf58",
   "metadata": {},
   "outputs": [
    {
     "name": "stdout",
     "output_type": "stream",
     "text": [
      "10\n",
      "-------\n",
      "20\n",
      "-------\n",
      "30\n",
      "-------\n"
     ]
    }
   ],
   "source": [
    "for i in [10, 20, 30]:\n",
    "    print(i)\n",
    "    print(\"-------\")"
   ]
  },
  {
   "cell_type": "markdown",
   "id": "aab82912-b21c-476e-ba00-57702d93f4f1",
   "metadata": {},
   "source": [
    "# 139\n",
    "다음 코드를 for문으로 작성하라."
   ]
  },
  {
   "cell_type": "code",
   "execution_count": 23,
   "id": "6b54ee3e-28b5-491f-a728-be05081fad69",
   "metadata": {},
   "outputs": [
    {
     "name": "stdout",
     "output_type": "stream",
     "text": [
      "++++\n",
      "10\n",
      "20\n",
      "30\n"
     ]
    }
   ],
   "source": [
    "print(\"++++\")\n",
    "print(10)\n",
    "print(20)\n",
    "print(30)"
   ]
  },
  {
   "cell_type": "code",
   "execution_count": 25,
   "id": "479a4a9b-24cb-4c4b-a02f-96c0150ceaa2",
   "metadata": {},
   "outputs": [
    {
     "name": "stdout",
     "output_type": "stream",
     "text": [
      "++++\n",
      "10\n",
      "20\n",
      "30\n"
     ]
    }
   ],
   "source": [
    "print(\"++++\")\n",
    "for i in [10, 20, 30]:\n",
    "    print(i)"
   ]
  },
  {
   "cell_type": "markdown",
   "id": "840b8fd8-1c17-4119-a2cc-51e529ae1045",
   "metadata": {},
   "source": [
    "# 140\n",
    "다음 코드를 for문으로 작성하라."
   ]
  },
  {
   "cell_type": "code",
   "execution_count": 28,
   "id": "d0fd2311-a868-4e8e-ace7-b6736e6a7416",
   "metadata": {},
   "outputs": [
    {
     "name": "stdout",
     "output_type": "stream",
     "text": [
      "-------\n",
      "-------\n",
      "-------\n",
      "-------\n"
     ]
    }
   ],
   "source": [
    "print(\"-------\")\n",
    "print(\"-------\")\n",
    "print(\"-------\")\n",
    "print(\"-------\")"
   ]
  },
  {
   "cell_type": "code",
   "execution_count": 29,
   "id": "e625a8c1-84aa-4ec7-adae-2f0f7c004f91",
   "metadata": {},
   "outputs": [
    {
     "name": "stdout",
     "output_type": "stream",
     "text": [
      "-------\n",
      "-------\n",
      "-------\n",
      "-------\n"
     ]
    }
   ],
   "source": [
    "for i in range(4):\n",
    "    print(\"-------\")"
   ]
  },
  {
   "cell_type": "markdown",
   "id": "c1816cdd-88b8-4759-b547-fd3f98d38d52",
   "metadata": {},
   "source": [
    "# 141\n",
    "다음과 같이 판매가가 저장된 리스트가 있을 때 부가세가 포함된 가격을 for 문을 사용해서 화면에 출력하라.  \n",
    "단 부가세는 10원으로 가정한다."
   ]
  },
  {
   "cell_type": "code",
   "execution_count": 30,
   "id": "f5e42110-9e20-4ee3-9498-460dd0ee0884",
   "metadata": {},
   "outputs": [],
   "source": [
    "리스트 = [100, 200, 300]"
   ]
  },
  {
   "cell_type": "markdown",
   "id": "49c1efd0-d13b-464b-97e9-74e7c0331ce0",
   "metadata": {},
   "source": [
    "```\n",
    "출력예시:\n",
    "110\r\n",
    "210\r\n",
    "310\n",
    "```"
   ]
  },
  {
   "cell_type": "code",
   "execution_count": 31,
   "id": "a3e60cd4-747e-4e44-9963-5c8d4e48bcf1",
   "metadata": {},
   "outputs": [
    {
     "name": "stdout",
     "output_type": "stream",
     "text": [
      "110\n",
      "210\n",
      "310\n"
     ]
    }
   ],
   "source": [
    "for i in 리스트:\n",
    "    print(i + 10)"
   ]
  },
  {
   "cell_type": "markdown",
   "id": "76251e15-4880-4a71-b42a-dc2d35cacf70",
   "metadata": {},
   "source": [
    "# 142\r\n",
    "for 문을 사용해서 리스트에 저장된 값을 다음과 같이 출력하라."
   ]
  },
  {
   "cell_type": "code",
   "execution_count": 32,
   "id": "ad6022c0-bfe8-4b61-a8a1-9c15f0f896f7",
   "metadata": {},
   "outputs": [],
   "source": [
    "리스트 = [\"김밥\", \"라면\", \"튀김\"]"
   ]
  },
  {
   "cell_type": "markdown",
   "id": "22c3ca78-12aa-4a4e-a8dd-a4ea02d2ba26",
   "metadata": {},
   "source": [
    "```\n",
    "출력예시:\n",
    "오늘의 메뉴: 김밥\r\n",
    "오늘의 메뉴: 라면\r\n",
    "오늘의 메뉴: 튀김\n",
    "```"
   ]
  },
  {
   "cell_type": "code",
   "execution_count": 33,
   "id": "645fca0e-ed2a-47c3-b8a1-e9d6f653108c",
   "metadata": {},
   "outputs": [
    {
     "name": "stdout",
     "output_type": "stream",
     "text": [
      "오늘의 메뉴: 김밥\n",
      "오늘의 메뉴: 라면\n",
      "오늘의 메뉴: 튀김\n"
     ]
    }
   ],
   "source": [
    "for i in 리스트:\n",
    "    print(\"오늘의 메뉴: {}\".format(i))"
   ]
  },
  {
   "cell_type": "markdown",
   "id": "7dba384a-5b6f-42b9-b98e-0bf582ad7eb7",
   "metadata": {},
   "source": [
    "# 143\n",
    "리스트에 주식 종목이름이 저장돼 있다."
   ]
  },
  {
   "cell_type": "code",
   "execution_count": 34,
   "id": "c947db2f-e0c2-4efe-bb9f-e903b8146306",
   "metadata": {},
   "outputs": [],
   "source": [
    "리스트 = [\"SK하이닉스\", \"삼성전자\", \"LG전자\"]"
   ]
  },
  {
   "cell_type": "markdown",
   "id": "529c2b59-0fae-4f08-8944-4ec4530348ed",
   "metadata": {},
   "source": [
    "```\n",
    "출력예시:\n",
    "6\r\n",
    "4\r\n",
    "4\n",
    "```"
   ]
  },
  {
   "cell_type": "code",
   "execution_count": 35,
   "id": "1695834d-d286-4536-aacf-0549ceefb0b2",
   "metadata": {},
   "outputs": [
    {
     "name": "stdout",
     "output_type": "stream",
     "text": [
      "6\n",
      "4\n",
      "4\n"
     ]
    }
   ],
   "source": [
    "for i in 리스트:\n",
    "    print(len(i))"
   ]
  },
  {
   "cell_type": "markdown",
   "id": "5b8ba404-8b74-417a-9c35-b5df60705775",
   "metadata": {},
   "source": [
    "# 144\n",
    "리스트에는 동물이름이 문자열로 저장돼 있다."
   ]
  },
  {
   "cell_type": "code",
   "execution_count": 37,
   "id": "a3e86384-ebc8-44a8-9a3d-09f266239293",
   "metadata": {},
   "outputs": [],
   "source": [
    "리스트 = ['dog', 'cat', 'parrot']"
   ]
  },
  {
   "cell_type": "markdown",
   "id": "7898e3d9-eac3-4445-aa26-77e0a66ee330",
   "metadata": {},
   "source": [
    "동물 이름과 글자수를 다음과 같이 출력하라.\n",
    "```\n",
    "출력예시:\n",
    "dog 3\r\n",
    "cat 3\r\n",
    "parrot 6\n",
    "```"
   ]
  },
  {
   "cell_type": "code",
   "execution_count": 38,
   "id": "25c7c15c-9947-4231-bfc1-6d9656b8a7bf",
   "metadata": {},
   "outputs": [
    {
     "name": "stdout",
     "output_type": "stream",
     "text": [
      "dog 3\n",
      "cat 3\n",
      "parrot 6\n"
     ]
    }
   ],
   "source": [
    "for i in 리스트:\n",
    "    print(\"{} {}\".format(i, len(i)))"
   ]
  },
  {
   "cell_type": "markdown",
   "id": "11311267-098f-430e-b310-a46e559be0d8",
   "metadata": {},
   "source": [
    "# 145\n",
    "리스트에 동물 이름 저장돼 있다."
   ]
  },
  {
   "cell_type": "code",
   "execution_count": 40,
   "id": "3324b4ef-2064-415b-bbe9-5a2466b1a2ef",
   "metadata": {},
   "outputs": [],
   "source": [
    "리스트 = ['dog', 'cat', 'parrot']"
   ]
  },
  {
   "cell_type": "markdown",
   "id": "43c34d72-b433-47ff-b293-e63df81d3b33",
   "metadata": {},
   "source": [
    "for문을 사용해서 동물 이름의 첫 글자만 출력하라.\n",
    "```\n",
    "출력예시:\n",
    "d\r\n",
    "c\r\n",
    "p\n",
    "```"
   ]
  },
  {
   "cell_type": "code",
   "execution_count": 41,
   "id": "66713226-8795-46a5-89f7-85e0fe35ecf1",
   "metadata": {},
   "outputs": [
    {
     "name": "stdout",
     "output_type": "stream",
     "text": [
      "d\n",
      "c\n",
      "p\n"
     ]
    }
   ],
   "source": [
    "for i in 리스트:\n",
    "    print(i[0])"
   ]
  },
  {
   "cell_type": "markdown",
   "id": "a3a83849-b503-4f31-8ad0-0255eea3dcea",
   "metadata": {},
   "source": [
    "# 146\n",
    "리스트에는 세 개의 숫자가 바인딩돼 있다."
   ]
  },
  {
   "cell_type": "code",
   "execution_count": 43,
   "id": "395e9ab0-7aff-4a5c-afa6-adf238915583",
   "metadata": {},
   "outputs": [],
   "source": [
    "리스트 = [1, 2, 3]"
   ]
  },
  {
   "cell_type": "markdown",
   "id": "17a07a08-d6ee-45bd-ba84-4787d2f00e73",
   "metadata": {},
   "source": [
    "for문을 사용해서 다음과 같이 출력하라.\n",
    "```\n",
    "출력예시:\n",
    "3 x 1\r\n",
    "3 x 2\r\n",
    "3 x 3\n",
    "```"
   ]
  },
  {
   "cell_type": "code",
   "execution_count": 44,
   "id": "f7de4d66-6b6c-4dce-800a-4ab7db7152f1",
   "metadata": {},
   "outputs": [
    {
     "name": "stdout",
     "output_type": "stream",
     "text": [
      "3 x 1\n",
      "3 x 2\n",
      "3 x 3\n"
     ]
    }
   ],
   "source": [
    "for i in 리스트:\n",
    "    print(\"{} x {}\".format(3, i))"
   ]
  },
  {
   "cell_type": "markdown",
   "id": "052d0e3f-2848-4183-9adb-9e0a4331b3ac",
   "metadata": {},
   "source": [
    "# 147\n",
    "리스트에는 세 개의 숫자가 바인딩돼 있다."
   ]
  },
  {
   "cell_type": "code",
   "execution_count": 45,
   "id": "5ae2ac31-8460-4767-822b-3558079b7658",
   "metadata": {},
   "outputs": [],
   "source": [
    "리스트 = [1, 2, 3]"
   ]
  },
  {
   "cell_type": "markdown",
   "id": "fb3f84aa-c1e1-47b9-8854-180901662f5c",
   "metadata": {},
   "source": [
    "for문을 사용해서 다음과 같이 출력하라.\n",
    "```\n",
    "출력예시:\n",
    "3 x 1 = 3\r\n",
    "3 x 2 = 6\r\n",
    "3 x 3 = 9\n",
    "```"
   ]
  },
  {
   "cell_type": "code",
   "execution_count": 46,
   "id": "373459c7-3c44-4658-9cd8-5142d691b522",
   "metadata": {},
   "outputs": [
    {
     "name": "stdout",
     "output_type": "stream",
     "text": [
      "3 x 1 = 3\n",
      "3 x 2 = 6\n",
      "3 x 3 = 9\n"
     ]
    }
   ],
   "source": [
    "for i in 리스트:\n",
    "    print(\"{} x {} = {}\".format(3, i, i*3))"
   ]
  },
  {
   "cell_type": "markdown",
   "id": "8da22460-4702-4b79-a776-29e261c8f7cc",
   "metadata": {},
   "source": [
    "# 148\n",
    "리스트에는 네 개의 문자열이 바인딩돼 있다."
   ]
  },
  {
   "cell_type": "code",
   "execution_count": 47,
   "id": "dc2c5d53-664f-4f89-b00f-4648ea5072f0",
   "metadata": {},
   "outputs": [],
   "source": [
    "리스트 = [\"가\", \"나\", \"다\", \"라\"]"
   ]
  },
  {
   "cell_type": "markdown",
   "id": "14386e0e-4628-4174-a2a9-c1126c91f200",
   "metadata": {},
   "source": [
    "for문을 사용해서 다음과 같이 출력하라.\n",
    "```\n",
    "출력예시:\n",
    "나\r\n",
    "다\r\n",
    "라\n",
    "```"
   ]
  },
  {
   "cell_type": "code",
   "execution_count": 49,
   "id": "6ca568d2-1875-4de3-89ce-375a26b77df7",
   "metadata": {},
   "outputs": [
    {
     "name": "stdout",
     "output_type": "stream",
     "text": [
      "나\n",
      "다\n",
      "라\n"
     ]
    }
   ],
   "source": [
    "for i in 리스트[1:]:\n",
    "    print(i)"
   ]
  },
  {
   "cell_type": "markdown",
   "id": "ec384a5f-71d1-4709-b053-d6ff2003185f",
   "metadata": {},
   "source": [
    "# 149\n",
    "리스트에는 네 개의 문자열이 바인딩돼 있다."
   ]
  },
  {
   "cell_type": "code",
   "execution_count": 50,
   "id": "e117b205-57ca-4dd0-947b-aa55aa2b0aa4",
   "metadata": {},
   "outputs": [],
   "source": [
    "리스트 = [\"가\", \"나\", \"다\", \"라\"]"
   ]
  },
  {
   "cell_type": "markdown",
   "id": "b5b523df-d8be-41d8-8bd8-b3b27992841a",
   "metadata": {},
   "source": [
    "for문을 사용해서 다음과 같이 출력하라.\n",
    "```\n",
    "출력예시:\n",
    "가\n",
    "다\n",
    "```"
   ]
  },
  {
   "cell_type": "code",
   "execution_count": 51,
   "id": "3e49be04-c4ae-4685-9452-5873d3b36540",
   "metadata": {},
   "outputs": [
    {
     "name": "stdout",
     "output_type": "stream",
     "text": [
      "가\n",
      "다\n"
     ]
    }
   ],
   "source": [
    "for i in 리스트[::2]:\n",
    "    print(i)"
   ]
  },
  {
   "cell_type": "markdown",
   "id": "21af66f2-eb7b-49d7-aa94-6466e769e9e6",
   "metadata": {},
   "source": [
    "# 150\n",
    "리스트에는 네 개의 문자열이 바인딩돼 있다."
   ]
  },
  {
   "cell_type": "code",
   "execution_count": 53,
   "id": "6f10843c-b360-4f2c-84fa-caf1d827d4a6",
   "metadata": {},
   "outputs": [],
   "source": [
    "리스트 = [\"가\", \"나\", \"다\", \"라\"]"
   ]
  },
  {
   "cell_type": "markdown",
   "id": "437422ab-b4d5-4177-b2af-f6c420f771a2",
   "metadata": {},
   "source": [
    "for문을 사용해서 다음과 같이 출력하라.\n",
    "\n",
    "```\n",
    "출력예시:\n",
    "라\n",
    "다\n",
    "나\n",
    "가\n",
    "```"
   ]
  },
  {
   "cell_type": "code",
   "execution_count": 54,
   "id": "bc9a4c01-7cf9-4a09-9458-3d806dea71b4",
   "metadata": {},
   "outputs": [
    {
     "name": "stdout",
     "output_type": "stream",
     "text": [
      "라\n",
      "다\n",
      "나\n",
      "가\n"
     ]
    }
   ],
   "source": [
    "for i in 리스트[::-1]:\n",
    "    print(i)"
   ]
  },
  {
   "cell_type": "markdown",
   "id": "bb61534d-c2d0-4533-9a19-4c012bc75401",
   "metadata": {},
   "source": [
    "# 151\n",
    "리스트에는 네 개의 정수가 저장돼 있다."
   ]
  },
  {
   "cell_type": "code",
   "execution_count": 55,
   "id": "0327c54b-3ec7-4aeb-8e4c-acdc7b5cfef1",
   "metadata": {},
   "outputs": [],
   "source": [
    "리스트 = [3, -20, -3, 44]"
   ]
  },
  {
   "cell_type": "markdown",
   "id": "a17468f0-b3a1-4f9c-a752-d433da7baccf",
   "metadata": {},
   "source": [
    "for문을 사용해서 리스트의 음수를 출력하라.\n",
    "```\n",
    "출력예시:\n",
    "-20\r\n",
    "-3\n",
    "```"
   ]
  },
  {
   "cell_type": "code",
   "execution_count": 56,
   "id": "bb59e1bb-ed49-45f0-99bb-3f311fd27213",
   "metadata": {},
   "outputs": [
    {
     "name": "stdout",
     "output_type": "stream",
     "text": [
      "-20\n",
      "-3\n"
     ]
    }
   ],
   "source": [
    "for i in 리스트:\n",
    "    if i < 0:\n",
    "        print(i)"
   ]
  },
  {
   "cell_type": "markdown",
   "id": "d3f3f5bf-a082-4c29-8a9a-8e3f4a55b63d",
   "metadata": {},
   "source": [
    "# 152\n",
    "for문을 사용해서 3의 배수만을 출력하라."
   ]
  },
  {
   "cell_type": "code",
   "execution_count": 57,
   "id": "25ab4777-9744-45c9-832f-d134f83890a3",
   "metadata": {},
   "outputs": [],
   "source": [
    "리스트 = [3, 100, 23, 44]"
   ]
  },
  {
   "cell_type": "markdown",
   "id": "dd76470a-de76-4bf7-8e36-1abb526a3c22",
   "metadata": {},
   "source": [
    "```\n",
    "출력예시:\n",
    "3\n",
    "```"
   ]
  },
  {
   "cell_type": "code",
   "execution_count": 58,
   "id": "308bd4d9-baff-4e36-aa1d-2eee77f7db7f",
   "metadata": {},
   "outputs": [
    {
     "name": "stdout",
     "output_type": "stream",
     "text": [
      "3\n"
     ]
    }
   ],
   "source": [
    "for i in 리스트:\n",
    "    if i % 3 == 0:\n",
    "        print(i)"
   ]
  },
  {
   "cell_type": "markdown",
   "id": "dd3e45c3-d523-477c-b039-2a300e0fba43",
   "metadata": {},
   "source": [
    "# 153\n",
    "리스트에서 20 보다 작은 3의 배수를 출력하라"
   ]
  },
  {
   "cell_type": "code",
   "execution_count": 60,
   "id": "b9fa2174-79e8-460a-aeff-49684336ecd6",
   "metadata": {},
   "outputs": [],
   "source": [
    "리스트 = [13, 21, 12, 14, 30, 18]"
   ]
  },
  {
   "cell_type": "markdown",
   "id": "80c2f2a7-e49a-4eea-aac1-76c1677f8589",
   "metadata": {},
   "source": [
    "```\n",
    "출력예시:\n",
    "12\r\n",
    "18\n",
    "```"
   ]
  },
  {
   "cell_type": "code",
   "execution_count": 61,
   "id": "1945d599-f721-41ac-a0f1-e1e3907844ed",
   "metadata": {},
   "outputs": [
    {
     "name": "stdout",
     "output_type": "stream",
     "text": [
      "12\n",
      "18\n"
     ]
    }
   ],
   "source": [
    "for i in 리스트:\n",
    "    if i < 20 and i % 3 == 0:\n",
    "        print(i)"
   ]
  },
  {
   "cell_type": "markdown",
   "id": "fccd2649-8db4-4bb0-8bf9-66c2e89ed67a",
   "metadata": {},
   "source": [
    "# 154\n",
    "리스트에서 세 글자 이상의 문자를 화면에 출력하라"
   ]
  },
  {
   "cell_type": "code",
   "execution_count": 62,
   "id": "06c44711-fce7-4b5a-9725-e5f7234390ec",
   "metadata": {},
   "outputs": [],
   "source": [
    "리스트 = [\"I\", \"study\", \"python\", \"language\", \"!\"]"
   ]
  },
  {
   "cell_type": "markdown",
   "id": "f965359d-77b0-4632-8cb1-c3244e7244db",
   "metadata": {},
   "source": [
    "```\n",
    "출력예시:\n",
    "study\r\n",
    "python\r\n",
    "language\n",
    "```"
   ]
  },
  {
   "cell_type": "code",
   "execution_count": 63,
   "id": "e40754c6-777f-4d1b-b78c-13b6a47f90cb",
   "metadata": {},
   "outputs": [
    {
     "name": "stdout",
     "output_type": "stream",
     "text": [
      "study\n",
      "python\n",
      "language\n"
     ]
    }
   ],
   "source": [
    "for i in 리스트:\n",
    "    if len(i) >= 3:\n",
    "        print(i)"
   ]
  },
  {
   "cell_type": "markdown",
   "id": "60ba2f2c-0700-45e8-9224-52c881fb634d",
   "metadata": {},
   "source": [
    "# 155\n",
    "리스트에서 대문자만 화면에 출력하라."
   ]
  },
  {
   "cell_type": "code",
   "execution_count": 65,
   "id": "f9a80f87-293a-45a3-9780-62903ad26ae7",
   "metadata": {},
   "outputs": [],
   "source": [
    "리스트 = [\"A\", \"b\", \"c\", \"D\"]"
   ]
  },
  {
   "cell_type": "markdown",
   "id": "6a4cf2b2-dbae-470d-a2e2-d903b1765243",
   "metadata": {},
   "source": [
    "```\n",
    "출력예시:\n",
    "A\n",
    "D\n",
    "```"
   ]
  },
  {
   "cell_type": "markdown",
   "id": "11e807c0-e86b-4fe8-8ace-c7470c0c5f5c",
   "metadata": {},
   "source": [
    "(참고) isupper() 메서드는 대문자 여부를 판별합니다."
   ]
  },
  {
   "cell_type": "code",
   "execution_count": 67,
   "id": "ac6c4076-5269-448e-bf83-93bc43f787b7",
   "metadata": {},
   "outputs": [
    {
     "data": {
      "text/plain": [
       "True"
      ]
     },
     "execution_count": 67,
     "metadata": {},
     "output_type": "execute_result"
    }
   ],
   "source": [
    "변수 = \"A\"\n",
    "변수.isupper()"
   ]
  },
  {
   "cell_type": "code",
   "execution_count": 68,
   "id": "a4fd769e-3ae5-4bce-b961-c501c69e2a2a",
   "metadata": {},
   "outputs": [
    {
     "data": {
      "text/plain": [
       "False"
      ]
     },
     "execution_count": 68,
     "metadata": {},
     "output_type": "execute_result"
    }
   ],
   "source": [
    "변수 = \"a\"\n",
    "변수.isupper()"
   ]
  },
  {
   "cell_type": "code",
   "execution_count": 69,
   "id": "a12b4c34-9c3d-489f-a3e5-6c97e5495a71",
   "metadata": {},
   "outputs": [
    {
     "name": "stdout",
     "output_type": "stream",
     "text": [
      "A\n",
      "D\n"
     ]
    }
   ],
   "source": [
    "for i in 리스트:\n",
    "    if i.isupper():\n",
    "        print(i)"
   ]
  },
  {
   "cell_type": "markdown",
   "id": "b33aaed3-25c4-44e1-ae23-a2bf07bd946f",
   "metadata": {},
   "source": [
    "# 156\n",
    "리스트에서 소문자만 화면에 출력하라."
   ]
  },
  {
   "cell_type": "code",
   "execution_count": 71,
   "id": "df29707b-e888-429d-aeab-fc72c38e2c6c",
   "metadata": {},
   "outputs": [],
   "source": [
    "리스트 = [\"A\", \"b\", \"c\", \"D\"]"
   ]
  },
  {
   "cell_type": "markdown",
   "id": "7b05d6ee-0311-4ba3-aacd-de93b2c05cb9",
   "metadata": {},
   "source": [
    "```\n",
    "출력예시:\n",
    "b\r\n",
    "c\n",
    "```"
   ]
  },
  {
   "cell_type": "code",
   "execution_count": 72,
   "id": "deb2a526-19dd-4d7b-b22a-6e6fbee88dfa",
   "metadata": {},
   "outputs": [
    {
     "name": "stdout",
     "output_type": "stream",
     "text": [
      "b\n",
      "c\n"
     ]
    }
   ],
   "source": [
    "for i in 리스트:\n",
    "    if i.islower():\n",
    "        print(i)"
   ]
  },
  {
   "cell_type": "markdown",
   "id": "022ea5e8-8802-4ad0-b7aa-ce0d74b29a02",
   "metadata": {},
   "source": [
    "# 157\n",
    "이름의 첫 글자를 대문자로 변경해서 출력하라."
   ]
  },
  {
   "cell_type": "code",
   "execution_count": 74,
   "id": "606c4a04-d64a-413a-9fef-52700710749e",
   "metadata": {},
   "outputs": [],
   "source": [
    "리스트 = ['dog', 'cat', 'parrot']"
   ]
  },
  {
   "cell_type": "markdown",
   "id": "e7ccc4aa-e9d7-4f8e-897e-e046c2aea0a1",
   "metadata": {},
   "source": [
    "```\n",
    "출력예시:\n",
    "Dog\r\n",
    "Cat\r\n",
    "Parrot\n",
    "```"
   ]
  },
  {
   "cell_type": "markdown",
   "id": "e3c39465-4509-4b85-a039-d8473573d293",
   "metadata": {},
   "source": [
    "(참고) upper() 메서드는 문자열을 대문자로 변경합니다."
   ]
  },
  {
   "cell_type": "code",
   "execution_count": 76,
   "id": "4888b4b6-cbae-49b0-9dcd-f271d8daa704",
   "metadata": {},
   "outputs": [
    {
     "data": {
      "text/plain": [
       "'A'"
      ]
     },
     "execution_count": 76,
     "metadata": {},
     "output_type": "execute_result"
    }
   ],
   "source": [
    "변수 = \"a\"\n",
    "변수.upper()"
   ]
  },
  {
   "cell_type": "code",
   "execution_count": 77,
   "id": "8f763ee5-f125-4e7f-b587-f86d5c3b1bc2",
   "metadata": {},
   "outputs": [
    {
     "data": {
      "text/plain": [
       "'ABC'"
      ]
     },
     "execution_count": 77,
     "metadata": {},
     "output_type": "execute_result"
    }
   ],
   "source": [
    "변수 = \"abc\"\n",
    "변수.upper()"
   ]
  },
  {
   "cell_type": "code",
   "execution_count": 78,
   "id": "fe22f65a-0bf6-4b36-b3e8-df234aaf5c67",
   "metadata": {},
   "outputs": [
    {
     "name": "stdout",
     "output_type": "stream",
     "text": [
      "Dog\n",
      "Cat\n",
      "Parrot\n"
     ]
    }
   ],
   "source": [
    "for i in 리스트:\n",
    "    print(i.capitalize())"
   ]
  },
  {
   "cell_type": "code",
   "execution_count": 82,
   "id": "7efac4b6-d81a-45da-baa0-bbbf36688949",
   "metadata": {},
   "outputs": [
    {
     "name": "stdout",
     "output_type": "stream",
     "text": [
      "Dog\n",
      "Cat\n",
      "Parrot\n"
     ]
    }
   ],
   "source": [
    "for i in 리스트:\n",
    "    print(i[0].upper() + i[1:])"
   ]
  },
  {
   "cell_type": "markdown",
   "id": "d9923c71-5192-466f-8ae4-20476872c887",
   "metadata": {},
   "source": [
    "# 158\n",
    "파일 이름이 저장된 리스트에서 확장자를 제거하고 파일 이름만 화면에 출력하라. (힌트: split() 메서드)"
   ]
  },
  {
   "cell_type": "code",
   "execution_count": 83,
   "id": "b5fd806b-8614-4328-9a06-caa0c89b60e9",
   "metadata": {},
   "outputs": [],
   "source": [
    "리스트 = ['hello.py', 'ex01.py', 'intro.hwp']"
   ]
  },
  {
   "cell_type": "markdown",
   "id": "c298b6ea-8208-4ff4-a794-0307a5cb74a9",
   "metadata": {},
   "source": [
    "```\n",
    "출력예시:\n",
    "hello\r\n",
    "ex01\r\n",
    "intro\n",
    "```"
   ]
  },
  {
   "cell_type": "code",
   "execution_count": 84,
   "id": "7c7081ad-dda7-4291-a9f4-62f1ea6e4f9a",
   "metadata": {},
   "outputs": [
    {
     "name": "stdout",
     "output_type": "stream",
     "text": [
      "hello\n",
      "ex01\n",
      "intro\n"
     ]
    }
   ],
   "source": [
    "for i in 리스트:\n",
    "    print(i.split('.')[0])"
   ]
  },
  {
   "cell_type": "markdown",
   "id": "834ee456-8ad5-495a-a719-9e8cdd3721bc",
   "metadata": {},
   "source": [
    "# 159\n",
    "파일 이름이 저장된 리스트에서 확장자가 .h인 파일 이름을 출력하라."
   ]
  },
  {
   "cell_type": "code",
   "execution_count": 86,
   "id": "7a2469b6-d66d-4c86-aa55-443cfef30963",
   "metadata": {},
   "outputs": [],
   "source": [
    "리스트 = ['intra.h', 'intra.c', 'define.h', 'run.py']"
   ]
  },
  {
   "cell_type": "markdown",
   "id": "1b54cc32-1fa1-49be-b861-806926f22a96",
   "metadata": {},
   "source": [
    "```\n",
    "출력예시:\n",
    "intra.h\n",
    "define.h\n",
    "```"
   ]
  },
  {
   "cell_type": "code",
   "execution_count": 88,
   "id": "b63054ec-6d85-41cc-82fb-d8cb46dabf37",
   "metadata": {},
   "outputs": [
    {
     "name": "stdout",
     "output_type": "stream",
     "text": [
      "intra.h\n",
      "define.h\n"
     ]
    }
   ],
   "source": [
    "for i in 리스트:\n",
    "    if i.split('.')[-1] == 'h':\n",
    "        print(i)"
   ]
  },
  {
   "cell_type": "markdown",
   "id": "a1330a61-fea1-4e70-9b3c-adf7cbc176a0",
   "metadata": {},
   "source": [
    "# 160\n",
    "파일 이름이 저장된 리스트에서 확장자가 .h나 .c인 파일을 화면에 출력하라."
   ]
  },
  {
   "cell_type": "code",
   "execution_count": 90,
   "id": "c48e2eb1-0596-4d74-a4ec-a2c984eceed5",
   "metadata": {},
   "outputs": [],
   "source": [
    "리스트 = ['intra.h', 'intra.c', 'define.h', 'run.py']"
   ]
  },
  {
   "cell_type": "markdown",
   "id": "e59af0a7-ca3c-453c-8f15-39fd269b428c",
   "metadata": {},
   "source": [
    "```\n",
    "출력예시:\n",
    "intra.h\n",
    "intra.c\n",
    "define.h\n",
    "```"
   ]
  },
  {
   "cell_type": "code",
   "execution_count": 94,
   "id": "3db03a10-3b5f-4995-a153-a08b24496d31",
   "metadata": {},
   "outputs": [
    {
     "name": "stdout",
     "output_type": "stream",
     "text": [
      "intra.h\n",
      "intra.c\n",
      "define.h\n"
     ]
    }
   ],
   "source": [
    "for i in 리스트:\n",
    "    if i.split('.')[-1] == 'h' or i.split('.')[-1] == 'c':\n",
    "        print(i)"
   ]
  },
  {
   "cell_type": "markdown",
   "id": "f8550a1c-c918-4305-8c11-aa52dc10cb38",
   "metadata": {},
   "source": [
    "# 161\n",
    "for문과 range 구문을 사용해서 0~99까지 한 라인에 하나씩 순차적으로 출력하는 프로그램을 작성하라.\n",
    "```\n",
    "출력예시:\n",
    "0\n",
    "1\n",
    "2\n",
    "3\n",
    "...\n",
    "97\n",
    "98\n",
    "99\n",
    "```"
   ]
  },
  {
   "cell_type": "code",
   "execution_count": 95,
   "id": "5134e897-7a62-46c7-a1df-1ba9e3a63cab",
   "metadata": {},
   "outputs": [
    {
     "name": "stdout",
     "output_type": "stream",
     "text": [
      "0\n",
      "1\n",
      "2\n",
      "3\n",
      "4\n",
      "5\n",
      "6\n",
      "7\n",
      "8\n",
      "9\n",
      "10\n",
      "11\n",
      "12\n",
      "13\n",
      "14\n",
      "15\n",
      "16\n",
      "17\n",
      "18\n",
      "19\n",
      "20\n",
      "21\n",
      "22\n",
      "23\n",
      "24\n",
      "25\n",
      "26\n",
      "27\n",
      "28\n",
      "29\n",
      "30\n",
      "31\n",
      "32\n",
      "33\n",
      "34\n",
      "35\n",
      "36\n",
      "37\n",
      "38\n",
      "39\n",
      "40\n",
      "41\n",
      "42\n",
      "43\n",
      "44\n",
      "45\n",
      "46\n",
      "47\n",
      "48\n",
      "49\n",
      "50\n",
      "51\n",
      "52\n",
      "53\n",
      "54\n",
      "55\n",
      "56\n",
      "57\n",
      "58\n",
      "59\n",
      "60\n",
      "61\n",
      "62\n",
      "63\n",
      "64\n",
      "65\n",
      "66\n",
      "67\n",
      "68\n",
      "69\n",
      "70\n",
      "71\n",
      "72\n",
      "73\n",
      "74\n",
      "75\n",
      "76\n",
      "77\n",
      "78\n",
      "79\n",
      "80\n",
      "81\n",
      "82\n",
      "83\n",
      "84\n",
      "85\n",
      "86\n",
      "87\n",
      "88\n",
      "89\n",
      "90\n",
      "91\n",
      "92\n",
      "93\n",
      "94\n",
      "95\n",
      "96\n",
      "97\n",
      "98\n",
      "99\n"
     ]
    }
   ],
   "source": [
    "for i in range(100):\n",
    "    print(i)"
   ]
  },
  {
   "cell_type": "markdown",
   "id": "4a53fdbf-24d4-4fcf-a034-3d22fa10477e",
   "metadata": {},
   "source": [
    "# 162\n",
    "월드컵은 4년에 한 번 개최된다.  \n",
    "range()를 사용하여 2002~2050년까지 중 월드컵이 개최되는 연도를 출력하라."
   ]
  },
  {
   "cell_type": "markdown",
   "id": "7b82ce62-a281-4859-825c-9cf76080cfd5",
   "metadata": {},
   "source": [
    "```\n",
    "출력예시\n",
    "2002\n",
    "2006\n",
    "2010\n",
    "...\n",
    "2042\n",
    "2046\n",
    "2050\n",
    "```"
   ]
  },
  {
   "cell_type": "markdown",
   "id": "015b8219-616a-4a2e-bada-467b00400bc5",
   "metadata": {},
   "source": [
    "참고) range의 세번 째 파라미터는 증감폭을 결정합니다."
   ]
  },
  {
   "cell_type": "code",
   "execution_count": 97,
   "id": "67a71bb7-94a4-4f9e-9eb7-6dff4171c3a6",
   "metadata": {},
   "outputs": [
    {
     "name": "stdout",
     "output_type": "stream",
     "text": [
      "[0, 2, 4, 6, 8]\n"
     ]
    }
   ],
   "source": [
    "print(list(range(0, 10, 2)))"
   ]
  },
  {
   "cell_type": "code",
   "execution_count": 98,
   "id": "fa2f4dc0-68a7-4943-9411-59d4a1d94d9c",
   "metadata": {},
   "outputs": [
    {
     "name": "stdout",
     "output_type": "stream",
     "text": [
      "2002\n",
      "2006\n",
      "2010\n",
      "2014\n",
      "2018\n",
      "2022\n",
      "2026\n",
      "2030\n",
      "2034\n",
      "2038\n",
      "2042\n",
      "2046\n",
      "2050\n"
     ]
    }
   ],
   "source": [
    "for i in range(2002, 2051, 4):\n",
    "    print(i)"
   ]
  },
  {
   "cell_type": "markdown",
   "id": "aefa3720-a1ca-4f65-9721-2df8b61e0661",
   "metadata": {},
   "source": [
    "# 163\n",
    "1부터 30까지의 숫자 중 3의 배수를 출력하라.\n",
    "```\n",
    "출력예시:\n",
    "3 \r\n",
    "6 \r\n",
    "9 \r\n",
    "12 \r\n",
    "15 \r\n",
    "18 \r\n",
    "21 \r\n",
    "24 \r\n",
    "27 \r\n",
    "30\n",
    "```"
   ]
  },
  {
   "cell_type": "code",
   "execution_count": 101,
   "id": "66d239f0-c610-4af2-9e58-e7ad4a5ecea4",
   "metadata": {},
   "outputs": [
    {
     "name": "stdout",
     "output_type": "stream",
     "text": [
      "3\n",
      "6\n",
      "9\n",
      "12\n",
      "15\n",
      "18\n",
      "21\n",
      "24\n",
      "27\n",
      "30\n"
     ]
    }
   ],
   "source": [
    "for i in range(3, 31, 3):\n",
    "    print(i)"
   ]
  },
  {
   "cell_type": "markdown",
   "id": "76ad2957-3d25-4602-bb62-7bb8982aa6f5",
   "metadata": {},
   "source": [
    "# 164\n",
    "99부터 0까지 1씩 감소하는 숫자들을, 한 라인에 하나씩 출력하라.\n",
    "```\n",
    "99\n",
    "98\n",
    "97\n",
    "...\n",
    "4\n",
    "3\n",
    "2\n",
    "1\n",
    "0\n",
    "```"
   ]
  },
  {
   "cell_type": "code",
   "execution_count": 105,
   "id": "3dbad3a9-6379-4dc3-a9a0-c79ff31b9b65",
   "metadata": {},
   "outputs": [
    {
     "name": "stdout",
     "output_type": "stream",
     "text": [
      "99\n",
      "98\n",
      "97\n",
      "96\n",
      "95\n",
      "94\n",
      "93\n",
      "92\n",
      "91\n",
      "90\n",
      "89\n",
      "88\n",
      "87\n",
      "86\n",
      "85\n",
      "84\n",
      "83\n",
      "82\n",
      "81\n",
      "80\n",
      "79\n",
      "78\n",
      "77\n",
      "76\n",
      "75\n",
      "74\n",
      "73\n",
      "72\n",
      "71\n",
      "70\n",
      "69\n",
      "68\n",
      "67\n",
      "66\n",
      "65\n",
      "64\n",
      "63\n",
      "62\n",
      "61\n",
      "60\n",
      "59\n",
      "58\n",
      "57\n",
      "56\n",
      "55\n",
      "54\n",
      "53\n",
      "52\n",
      "51\n",
      "50\n",
      "49\n",
      "48\n",
      "47\n",
      "46\n",
      "45\n",
      "44\n",
      "43\n",
      "42\n",
      "41\n",
      "40\n",
      "39\n",
      "38\n",
      "37\n",
      "36\n",
      "35\n",
      "34\n",
      "33\n",
      "32\n",
      "31\n",
      "30\n",
      "29\n",
      "28\n",
      "27\n",
      "26\n",
      "25\n",
      "24\n",
      "23\n",
      "22\n",
      "21\n",
      "20\n",
      "19\n",
      "18\n",
      "17\n",
      "16\n",
      "15\n",
      "14\n",
      "13\n",
      "12\n",
      "11\n",
      "10\n",
      "9\n",
      "8\n",
      "7\n",
      "6\n",
      "5\n",
      "4\n",
      "3\n",
      "2\n",
      "1\n",
      "0\n"
     ]
    }
   ],
   "source": [
    "for i in range(99, -1, -1):\n",
    "    print(i)"
   ]
  },
  {
   "cell_type": "markdown",
   "id": "391ca1e0-8a86-46d3-a1fa-a41fa730aac3",
   "metadata": {},
   "source": [
    "# 165\n",
    "for문을 사용해서 아래와 같이 출력하라.\n",
    "```\n",
    "출력예시:\n",
    "0.0\r\n",
    "0.1\r\n",
    "0.2\r\n",
    "0.3\r\n",
    "0.4\r\n",
    "0.5\r\n",
    "...\r\n",
    "0.9\n",
    "```"
   ]
  },
  {
   "cell_type": "code",
   "execution_count": 107,
   "id": "fd92d8ba-451d-40a2-a273-8934c38865b0",
   "metadata": {},
   "outputs": [
    {
     "name": "stdout",
     "output_type": "stream",
     "text": [
      "0.0\n",
      "0.1\n",
      "0.2\n",
      "0.3\n",
      "0.4\n",
      "0.5\n",
      "0.6\n",
      "0.7\n",
      "0.8\n",
      "0.9\n"
     ]
    }
   ],
   "source": [
    "for i in range(10):\n",
    "    print(\"{:.1f}\".format(0.1 * i))"
   ]
  },
  {
   "cell_type": "markdown",
   "id": "defaa203-7928-4c23-9411-8b42a148c5bd",
   "metadata": {},
   "source": [
    "# 166\n",
    "구구단 3단을 출력하라.\n",
    "```\n",
    "출력예시:\n",
    "3x1 = 3\r\n",
    "3x2 = 6\r\n",
    "3x3 = 9\r\n",
    "3x4 = 12\r\n",
    "3x5 = 15\r\n",
    "3x6 = 18\r\n",
    "3x7 = 21\r\n",
    "3x8 = 24\r\n",
    "3x9 = 27\n",
    "```"
   ]
  },
  {
   "cell_type": "code",
   "execution_count": 109,
   "id": "ab9fe726-32d7-4b66-b734-3ab590762047",
   "metadata": {},
   "outputs": [
    {
     "name": "stdout",
     "output_type": "stream",
     "text": [
      "3x0 = 0\n",
      "3x1 = 3\n",
      "3x2 = 6\n",
      "3x3 = 9\n",
      "3x4 = 12\n",
      "3x5 = 15\n",
      "3x6 = 18\n",
      "3x7 = 21\n",
      "3x8 = 24\n",
      "3x9 = 27\n"
     ]
    }
   ],
   "source": [
    "for i in range(10):\n",
    "    print(\"{}x{} = {}\".format(3, i, 3*i))"
   ]
  },
  {
   "cell_type": "markdown",
   "id": "5c4ff418-39a6-4693-b2fe-a7a7e0a11faa",
   "metadata": {},
   "source": [
    "# 167\n",
    "구구단 3단을 출력하라. 단 홀수 번째만 출력한다.\n",
    "```\n",
    "출력예시:\n",
    "3x1 = 3\r\n",
    "3x3 = 9\r\n",
    "3x5 = 15\r\n",
    "3x7 = 21\r\n",
    "3x9 = 27\n",
    "```"
   ]
  },
  {
   "cell_type": "code",
   "execution_count": 112,
   "id": "579b9895-725f-4892-afd3-8a2bf7f228ac",
   "metadata": {},
   "outputs": [
    {
     "name": "stdout",
     "output_type": "stream",
     "text": [
      "3x1 = 3\n",
      "3x3 = 9\n",
      "3x5 = 15\n",
      "3x7 = 21\n",
      "3x9 = 27\n"
     ]
    }
   ],
   "source": [
    "for i in range(1, 10, 2):\n",
    "    print(\"{}x{} = {}\".format(3, i, 3*i))"
   ]
  },
  {
   "cell_type": "markdown",
   "id": "3781b9be-1dbc-4b5d-9777-7496b15875ac",
   "metadata": {},
   "source": [
    "# 168\n",
    "1~10까지의 숫자에 대해 모두 더한 값을 출력하는 프로그램을 for 문을 사용하여 작성하라.\n",
    "```\n",
    "출력예시:\n",
    "합 : 55\n",
    "```"
   ]
  },
  {
   "cell_type": "code",
   "execution_count": 114,
   "id": "40073dd5-59c9-4f88-b5eb-37014e622f90",
   "metadata": {},
   "outputs": [
    {
     "data": {
      "text/plain": [
       "55"
      ]
     },
     "execution_count": 114,
     "metadata": {},
     "output_type": "execute_result"
    }
   ],
   "source": [
    "sum([i for i in range(1, 11)])"
   ]
  },
  {
   "cell_type": "markdown",
   "id": "95cc03c8-aa1c-42bf-abce-b56d191dceb4",
   "metadata": {},
   "source": [
    "# 169\n",
    "1~10까지의 숫자 중 모든 홀수의 합을 출력하는 프로그램을 for 문을 사용하여 작성하라.\n",
    "```\n",
    "출력예시:\n",
    "합: 25\n",
    "```"
   ]
  },
  {
   "cell_type": "code",
   "execution_count": 117,
   "id": "20b15c47-270e-4ae2-a583-ea452b88471e",
   "metadata": {},
   "outputs": [
    {
     "data": {
      "text/plain": [
       "25"
      ]
     },
     "execution_count": 117,
     "metadata": {},
     "output_type": "execute_result"
    }
   ],
   "source": [
    "sum([i for i in range(1, 11) if i % 2 == 1])"
   ]
  },
  {
   "cell_type": "markdown",
   "id": "f0b87ab5-341f-4a80-ba04-a29afe30bcfd",
   "metadata": {},
   "source": [
    "# 170\n",
    "1~10까지의 숫자를 모두 곱한 값을 출력하는 프로그램을 for 문을 사용하여 작성하라."
   ]
  },
  {
   "cell_type": "markdown",
   "id": "101475a6-867b-4f05-be0c-7046dc3e32d9",
   "metadata": {},
   "source": [
    "출력예시:  \n",
    "3628800"
   ]
  },
  {
   "cell_type": "code",
   "execution_count": 119,
   "id": "0857d9e5-c5e5-48c5-802f-cac99745c4bf",
   "metadata": {},
   "outputs": [
    {
     "name": "stdout",
     "output_type": "stream",
     "text": [
      "3628800\n"
     ]
    }
   ],
   "source": [
    "m = 1\n",
    "for i in range(1, 11):\n",
    "    m *= i\n",
    "print(m)"
   ]
  },
  {
   "cell_type": "markdown",
   "id": "eda8ddb2-d1b7-4147-bd6b-9cbd0a838e12",
   "metadata": {},
   "source": [
    "# 171\n",
    "아래와 같이 리스트의 데이터를 출력하라. 단, for문과 range문을 사용하라."
   ]
  },
  {
   "cell_type": "code",
   "execution_count": 121,
   "id": "48b81212-4a02-4361-87aa-a060785ac90c",
   "metadata": {},
   "outputs": [],
   "source": [
    "price_list = [32100, 32150, 32000, 32500]"
   ]
  },
  {
   "cell_type": "markdown",
   "id": "25f895d6-9ecc-4934-8704-fbc89d5cc49e",
   "metadata": {},
   "source": [
    "```\n",
    "출력예시:\n",
    "32100\r\n",
    "32150\r\n",
    "32000\r\n",
    "32500\n",
    "```"
   ]
  },
  {
   "cell_type": "code",
   "execution_count": 124,
   "id": "0517d2b6-b6d4-475c-9c38-9e2395a425dc",
   "metadata": {},
   "outputs": [
    {
     "name": "stdout",
     "output_type": "stream",
     "text": [
      "32100\n",
      "32150\n",
      "32000\n",
      "32500\n"
     ]
    }
   ],
   "source": [
    "for i in range(4):\n",
    "    print(price_list[i])"
   ]
  },
  {
   "cell_type": "markdown",
   "id": "65ecfbda-d49b-4b5a-b4e6-f3fa2ee7d2b9",
   "metadata": {},
   "source": [
    "# 172\r\n",
    "아래와 같이 리스트의 데이터를 출력하라. 단, for문과 range문을 사용하라."
   ]
  },
  {
   "cell_type": "code",
   "execution_count": 125,
   "id": "7da0992b-5bdc-4913-9846-1efe0245b3b4",
   "metadata": {},
   "outputs": [],
   "source": [
    "price_list = [32100, 32150, 32000, 32500]"
   ]
  },
  {
   "cell_type": "markdown",
   "id": "0945b2d9-c7a1-4327-a57d-9b323a9cc5df",
   "metadata": {},
   "source": [
    "```\n",
    "출력예시:\n",
    "0 32100\n",
    "1 32150\n",
    "2 32000\n",
    "3 32500\n",
    "```"
   ]
  },
  {
   "cell_type": "code",
   "execution_count": 127,
   "id": "93d15a3c-57c8-4eaa-ad88-70445a60c7c2",
   "metadata": {},
   "outputs": [
    {
     "name": "stdout",
     "output_type": "stream",
     "text": [
      "0 32100\n",
      "1 32150\n",
      "2 32000\n",
      "3 32500\n"
     ]
    }
   ],
   "source": [
    "for i in range(len(price_list)):\n",
    "    print(\"{} {}\".format(i, price_list[i]))"
   ]
  },
  {
   "cell_type": "markdown",
   "id": "e559d096-d2b6-4864-9250-599df2852dad",
   "metadata": {},
   "source": [
    "# 173\n",
    "아래와 같이 리스트의 데이터를 출력하라. 단, for문과 range문을 사용하라."
   ]
  },
  {
   "cell_type": "code",
   "execution_count": 128,
   "id": "537a7043-b257-4664-bde4-b9681645d3ae",
   "metadata": {},
   "outputs": [],
   "source": [
    "price_list = [32100, 32150, 32000, 32500]"
   ]
  },
  {
   "cell_type": "markdown",
   "id": "74bc1582-7686-4979-9391-f10eaa66a78d",
   "metadata": {},
   "source": [
    "```\n",
    "출력예시:\n",
    "3 32100\n",
    "2 32150\n",
    "1 32000\n",
    "0 32500\n",
    "```"
   ]
  },
  {
   "cell_type": "code",
   "execution_count": 132,
   "id": "97ee2bd9-59d3-49ea-8aac-e614d1c67b57",
   "metadata": {},
   "outputs": [
    {
     "name": "stdout",
     "output_type": "stream",
     "text": [
      "3 32100\n",
      "2 32150\n",
      "1 32000\n",
      "0 32500\n"
     ]
    }
   ],
   "source": [
    "for i in range(len(price_list)):\n",
    "    print(\"{} {}\".format(len(price_list)-(i+1), price_list[i]))"
   ]
  },
  {
   "cell_type": "markdown",
   "id": "e051312d-b6a1-4757-bc8a-f8272416c7b0",
   "metadata": {},
   "source": [
    "# 174\n",
    "아래와 같이 리스트의 데이터를 출력하라. 단, for문과 range문을 사용하라."
   ]
  },
  {
   "cell_type": "code",
   "execution_count": 133,
   "id": "f2e1c89f-4b6c-442d-8d49-9ba6340515c1",
   "metadata": {},
   "outputs": [],
   "source": [
    "price_list = [32100, 32150, 32000, 32500]"
   ]
  },
  {
   "cell_type": "markdown",
   "id": "a93f0de9-0a6e-41c5-b406-e1b81a8f2eb9",
   "metadata": {},
   "source": [
    "```\n",
    "출력예시:\n",
    "100 32150\r\n",
    "110 32000\r\n",
    "120 32500\n",
    "```"
   ]
  },
  {
   "cell_type": "code",
   "execution_count": 135,
   "id": "37fa6535-2260-4adf-b782-77c7c8d304a0",
   "metadata": {},
   "outputs": [
    {
     "name": "stdout",
     "output_type": "stream",
     "text": [
      "100 32150\n",
      "110 32000\n",
      "120 32500\n"
     ]
    }
   ],
   "source": [
    "for i in range(1, len(price_list)):\n",
    "    print(90 + 10 * i, price_list[i])"
   ]
  },
  {
   "cell_type": "markdown",
   "id": "bb6962bf-d377-4f5c-bdef-67c597fa7f80",
   "metadata": {},
   "source": [
    "# 175\n",
    "my_list를 아래와 같이 출력하라."
   ]
  },
  {
   "cell_type": "code",
   "execution_count": 136,
   "id": "e5aa4bf0-b7d8-49af-82c0-f1c9e395989e",
   "metadata": {},
   "outputs": [],
   "source": [
    "my_list = [\"가\", \"나\", \"다\", \"라\"]"
   ]
  },
  {
   "cell_type": "markdown",
   "id": "0fe22443-0551-4e29-acfc-6742251b0f4c",
   "metadata": {},
   "source": [
    "```\n",
    "출력예시:\n",
    "가 나\r\n",
    "나 다\r\n",
    "다 라\n",
    "```"
   ]
  },
  {
   "cell_type": "code",
   "execution_count": 140,
   "id": "02d46b6a-4f4c-4c50-a4c2-05a664fbcc40",
   "metadata": {},
   "outputs": [
    {
     "name": "stdout",
     "output_type": "stream",
     "text": [
      "가 나\n",
      "나 다\n",
      "다 라\n"
     ]
    }
   ],
   "source": [
    "for i in range(len(my_list) - 1):\n",
    "    print(\"{} {}\".format(my_list[i], my_list[i + 1]))"
   ]
  },
  {
   "cell_type": "markdown",
   "id": "00baff13-b67c-4f4e-b1d2-930b1bba49ca",
   "metadata": {},
   "source": [
    "# 176\n",
    "리스트를 아래와 같이 출력하라."
   ]
  },
  {
   "cell_type": "code",
   "execution_count": 141,
   "id": "8a8a7810-4cec-446d-9ede-27ce5f456d75",
   "metadata": {},
   "outputs": [],
   "source": [
    "my_list = [\"가\", \"나\", \"다\", \"라\", \"마\"]"
   ]
  },
  {
   "cell_type": "markdown",
   "id": "3f284675-f9fa-4a40-9bd3-477315d2313f",
   "metadata": {},
   "source": [
    "```\n",
    "출력예시:\n",
    "가 나 다\n",
    "나 다 라\n",
    "다 라 마\n",
    "```"
   ]
  },
  {
   "cell_type": "code",
   "execution_count": 142,
   "id": "1fa78698-553e-406a-a1a6-cde54729f4f6",
   "metadata": {},
   "outputs": [
    {
     "name": "stdout",
     "output_type": "stream",
     "text": [
      "가 나 다\n",
      "나 다 라\n",
      "다 라 마\n"
     ]
    }
   ],
   "source": [
    "for i in range(len(my_list) - 2):\n",
    "    print(\"{} {} {}\".format(my_list[i], my_list[i + 1], my_list[i + 2]))"
   ]
  },
  {
   "cell_type": "markdown",
   "id": "ded60df3-ae75-45c7-92b1-88f5d421d4c8",
   "metadata": {},
   "source": [
    "# 177\n",
    "반복문과 range 함수를 사용해서 my_list를 아래와 같이 출력하라."
   ]
  },
  {
   "cell_type": "code",
   "execution_count": 144,
   "id": "41c1a1c6-58ab-4317-b46e-ab55825450ad",
   "metadata": {},
   "outputs": [],
   "source": [
    "my_list = [\"가\", \"나\", \"다\", \"라\"]"
   ]
  },
  {
   "cell_type": "markdown",
   "id": "0fb3ba52-c802-48c3-b3fe-bee41289c2e2",
   "metadata": {},
   "source": [
    "```\n",
    "출력예시:\n",
    "라 다\r\n",
    "다 나\r\n",
    "나 가\n",
    "```"
   ]
  },
  {
   "cell_type": "code",
   "execution_count": 151,
   "id": "dcee98b5-57c8-49b2-ad32-d8c61af664c7",
   "metadata": {},
   "outputs": [
    {
     "name": "stdout",
     "output_type": "stream",
     "text": [
      "라 다\n",
      "다 나\n",
      "나 가\n"
     ]
    }
   ],
   "source": [
    "for i in range(len(my_list)-1, 0, -1):\n",
    "    print(\"{} {}\".format(my_list[i], my_list[i - 1]))"
   ]
  },
  {
   "cell_type": "markdown",
   "id": "c89852da-9f6a-42f2-921d-45872de54de9",
   "metadata": {},
   "source": [
    "# 178\n",
    "리스트에는 네 개의 정수가 저장되어 있다. 각각의 데이터에 대해서 자신과 우측값과의 차분값을 화면에 출력하라."
   ]
  },
  {
   "cell_type": "code",
   "execution_count": 153,
   "id": "3b0a43da-5b15-4b5f-b8cc-d3240d22c568",
   "metadata": {},
   "outputs": [],
   "source": [
    "my_list = [100, 200, 400, 800]"
   ]
  },
  {
   "cell_type": "markdown",
   "id": "e235a605-1b67-4e87-a702-44568ebf7ed9",
   "metadata": {},
   "source": [
    "예를들어 100을 기준으로 우측에 위치한 200과의 차분 값를 화면에 출력하고, 200을 기준으로 우측에 위치한 400과의 차분값을 화면에 출력한다.  \n",
    "이어서 400을 기준으로 우측에 위치한 800과의 차분값을 화면에 출력한다.\n",
    "```\n",
    "출력예시:\n",
    "100\n",
    "200\n",
    "400\n",
    "```"
   ]
  },
  {
   "cell_type": "code",
   "execution_count": 154,
   "id": "9664a8f5-17bd-44fd-b213-9f1c3781f9a8",
   "metadata": {},
   "outputs": [
    {
     "name": "stdout",
     "output_type": "stream",
     "text": [
      "100\n",
      "200\n",
      "400\n"
     ]
    }
   ],
   "source": [
    "for i in range(len(my_list) - 1):\n",
    "    print(my_list[i + 1] - my_list[i])"
   ]
  },
  {
   "cell_type": "markdown",
   "id": "61bf3296-28d1-47f5-8554-7c4f0ba2bb99",
   "metadata": {},
   "source": [
    "# 179\n",
    "리스트에는 6일 간의 종가 데이터가 저장되어 있다. 종가 데이터의 3일 이동 평균을 계산하고 이를 화면에 출력하라."
   ]
  },
  {
   "cell_type": "code",
   "execution_count": 156,
   "id": "598d834b-57eb-4a04-be28-784b5bb1d12e",
   "metadata": {},
   "outputs": [],
   "source": [
    "my_list = [100, 200, 400, 800, 1000, 1300]"
   ]
  },
  {
   "cell_type": "markdown",
   "id": "41a9be6d-75cc-4f98-9d32-804d50453dc6",
   "metadata": {},
   "source": [
    "첫 번째 줄에는 100, 200, 400의 평균값이 출력된다.  \n",
    "두 번째 줄에는 200, 400, 800의 평균값이 출력된다.  \n",
    "같은 방식으로 나머지 데이터의 평균을 출력한다.\n",
    "```\n",
    "출력예시:\n",
    "233.33333333333334\r\n",
    "466.6666666666667\r\n",
    "733.3333333333334\r\n",
    "1033.3333333333333\n",
    "```"
   ]
  },
  {
   "cell_type": "code",
   "execution_count": 163,
   "id": "928f4603-3ca9-48fe-85c9-683c8c7a94fb",
   "metadata": {},
   "outputs": [
    {
     "name": "stdout",
     "output_type": "stream",
     "text": [
      "233.33333333333334\n",
      "466.6666666666667\n",
      "733.3333333333334\n",
      "1033.3333333333333\n"
     ]
    }
   ],
   "source": [
    "for i in range(len(my_list) - 2):\n",
    "    print(sum(my_list[i:i+3]) / 3)"
   ]
  },
  {
   "cell_type": "markdown",
   "id": "fd5b5478-bdb3-4bb5-91f0-d13137b7335e",
   "metadata": {},
   "source": [
    "# 180\n",
    "리스트에 5일간의 저가, 고가 정보가 저장돼 있다.  \n",
    "고가와 저가의 차를 변동폭이라고 정의할 때, low, high 두 개의 리스트를 사용해서 5일간의 변동폭을 volatility 리스트에 저장하라."
   ]
  },
  {
   "cell_type": "code",
   "execution_count": 164,
   "id": "a1d525ab-5119-447c-af0c-b4616505134c",
   "metadata": {},
   "outputs": [],
   "source": [
    "low_prices  = [100, 200, 400, 800, 1000]\n",
    "high_prices = [150, 300, 430, 880, 1000]"
   ]
  },
  {
   "cell_type": "markdown",
   "id": "875e6c15-6093-49f7-a63b-447466de25b1",
   "metadata": {},
   "source": [
    "```\n",
    "출력예시:\n",
    "[50, 100, 30, 80, 0]\n",
    "```"
   ]
  },
  {
   "cell_type": "code",
   "execution_count": 165,
   "id": "23be1abe-03de-4b19-8fec-b5ff290f1bad",
   "metadata": {},
   "outputs": [
    {
     "name": "stdout",
     "output_type": "stream",
     "text": [
      "[50, 100, 30, 80, 0]\n"
     ]
    }
   ],
   "source": [
    "volatility = []\n",
    "for low, high in zip(low_prices, high_prices):\n",
    "    volatility.append(high - low)\n",
    "\n",
    "print(volatility)"
   ]
  },
  {
   "cell_type": "code",
   "execution_count": 166,
   "id": "161e83df-647d-4da1-ab0b-f624eac590b9",
   "metadata": {},
   "outputs": [
    {
     "name": "stdout",
     "output_type": "stream",
     "text": [
      "[50, 100, 30, 80, 0]\n"
     ]
    }
   ],
   "source": [
    "volatility = [high - low for low, high in zip(low_prices, high_prices)]\n",
    "print(volatility)"
   ]
  },
  {
   "cell_type": "markdown",
   "id": "96e56888-82f0-497b-ae8a-7c43d2bd69b2",
   "metadata": {},
   "source": [
    "# 181\n",
    "아래 표에서 하나의 행을 하나의 리스트로, 총 3개의 리스트를 갖는 이차원 리스트 apart를 정의하라.\n",
    "\n",
    "|101호|\t102호|\n",
    "|---|---|\n",
    "|201호|\t202호|\n",
    "|301호|\t302호|"
   ]
  },
  {
   "cell_type": "code",
   "execution_count": 168,
   "id": "1c508f00-ccb7-4002-aad4-68ebf0fa6c9d",
   "metadata": {},
   "outputs": [],
   "source": [
    "apart = [ [\"101호\", \"102호\"], [\"201호\", \"202호\"], [\"301호\", \"302호\"] ]"
   ]
  },
  {
   "cell_type": "markdown",
   "id": "d1752e22-14fa-403a-a62f-e232cf0cfd8f",
   "metadata": {},
   "source": [
    "# 182\n",
    "아래 표에서 하나의 열을 하나의 리스트로, 총 2개의 리스트를 갖는 이차원 리스트 stock을 정의하라.\n",
    "\n",
    "|시가|\t종가|\n",
    "|---|---|\n",
    "|100|\t80|\n",
    "|200|\t210|\n",
    "|300|\t330|"
   ]
  },
  {
   "cell_type": "code",
   "execution_count": 171,
   "id": "ae424f26-6501-4d91-991f-f7b2ff7ed599",
   "metadata": {},
   "outputs": [],
   "source": [
    "stock = [ [\"시가\", 100, 200, 300], [\"종가\", 80, 210, 330] ]"
   ]
  },
  {
   "cell_type": "markdown",
   "id": "89247a86-1fff-4664-a4f7-ae36237205ab",
   "metadata": {},
   "source": [
    "# 183\n",
    "아래 표를 stock 이름의 딕셔너리로 표현하라.  \n",
    "시가를 key로 저장하고, 나머지 같은 열의 데이터를 리스트로 저장해서 value로 저장한다.  \n",
    "종가 역시 key로 저장하고 나머지 같은 열의 데이터를 리스트로 저장해서 value로 저장한다.\n",
    "\n",
    "|시가|\t종가|\n",
    "|---|---|\n",
    "|100|\t80|\n",
    "|200|\t210|\n",
    "|300|\t330|"
   ]
  },
  {
   "cell_type": "code",
   "execution_count": 173,
   "id": "edeeced4-7f56-45a6-8afd-ba6a29fd29eb",
   "metadata": {},
   "outputs": [],
   "source": [
    "stock = {\"시가\": [100, 200, 300], \"종가\": [80, 210, 330] }"
   ]
  },
  {
   "cell_type": "markdown",
   "id": "2fecb6fd-a82f-46f6-a1cd-30c92715f0ed",
   "metadata": {},
   "source": [
    "# 184\n",
    "아래 표를 stock 이라는 이름의 딕셔너리로 표현하라.  \n",
    "날짜를 key로 저장하고, 나머지 같은 행의 데이터를 리스트로 저장해서 value로 저장한다.  \n",
    "첫 열이 날짜이다.\n",
    "\n",
    "|10/10|\t80 |\t110|\t70 |\t90|\n",
    "|---|---|---|---|---|\n",
    "|10/11|\t210|\t230|\t190|\t200|"
   ]
  },
  {
   "cell_type": "code",
   "execution_count": 174,
   "id": "2e2f3a62-1fad-434a-a6ec-923b6dbd6728",
   "metadata": {},
   "outputs": [],
   "source": [
    "stock = {\"10/10\": [80, 110, 70, 90], \"10/11\": [210, 230, 190, 200] }"
   ]
  },
  {
   "cell_type": "markdown",
   "id": "fa9d2f2d-f4f9-4cea-b068-c477dd023ed6",
   "metadata": {},
   "source": [
    "# 185\n",
    "리스트에 저장된 데이터를 아래와 같이 출력하라."
   ]
  },
  {
   "cell_type": "code",
   "execution_count": 178,
   "id": "89aae149-5139-43bf-983a-689bab496926",
   "metadata": {},
   "outputs": [],
   "source": [
    "apart = [ [101, 102], [201, 202], [301, 302] ]"
   ]
  },
  {
   "cell_type": "markdown",
   "id": "e1185365-1d3f-4944-b254-43d2237007ff",
   "metadata": {},
   "source": [
    "```\n",
    "출력예시:\n",
    "101 호\n",
    "102 호\n",
    "201 호\n",
    "202 호\n",
    "301 호\n",
    "302 호\n",
    "```"
   ]
  },
  {
   "cell_type": "code",
   "execution_count": 183,
   "id": "6d9a8f97-1b62-40b3-adae-f15869fabeb8",
   "metadata": {},
   "outputs": [
    {
     "name": "stdout",
     "output_type": "stream",
     "text": [
      "101 호\n",
      "102 호\n",
      "201 호\n",
      "202 호\n",
      "301 호\n",
      "302 호\n"
     ]
    }
   ],
   "source": [
    "for i in range(len(apart)):\n",
    "    for j in range(len(apart[i])):\n",
    "        print(\"{} 호\".format(apart[i][j]))"
   ]
  },
  {
   "cell_type": "code",
   "execution_count": 185,
   "id": "cdf2a8ad-85e1-4b6a-9464-ad69c3049901",
   "metadata": {},
   "outputs": [
    {
     "name": "stdout",
     "output_type": "stream",
     "text": [
      "101 호\n",
      "102 호\n",
      "201 호\n",
      "202 호\n",
      "301 호\n",
      "302 호\n"
     ]
    }
   ],
   "source": [
    "for i in apart:\n",
    "    for j in i:\n",
    "        print(\"{} 호\".format(j))"
   ]
  },
  {
   "cell_type": "markdown",
   "id": "cac9803e-30cf-4001-ab10-ada0b107d213",
   "metadata": {},
   "source": [
    "# 186\n",
    "리스트에 저장된 데이터를 아래와 같이 출력하라."
   ]
  },
  {
   "cell_type": "code",
   "execution_count": 192,
   "id": "c6b6fc4d-78f9-49a0-9084-29e15eb23cc2",
   "metadata": {},
   "outputs": [],
   "source": [
    "apart = [ [101, 102], [201, 202], [301, 302] ]"
   ]
  },
  {
   "cell_type": "markdown",
   "id": "62d4a011-63fc-47ef-9098-24afe16c6240",
   "metadata": {},
   "source": [
    "```\n",
    "출력예시:\n",
    "301 호\n",
    "302 호\n",
    "201 호\n",
    "202 호\n",
    "101 호\n",
    "102 호\n",
    "```"
   ]
  },
  {
   "cell_type": "code",
   "execution_count": 193,
   "id": "8c9c4910-0795-4084-a922-abbb90f935ad",
   "metadata": {},
   "outputs": [
    {
     "name": "stdout",
     "output_type": "stream",
     "text": [
      "301 호\n",
      "302 호\n",
      "201 호\n",
      "202 호\n",
      "101 호\n",
      "102 호\n"
     ]
    }
   ],
   "source": [
    "for i in range(len(apart)-1, -1, -1):\n",
    "    for j in range(len(apart[i])):\n",
    "        print(\"{} 호\".format(apart[i][j]))"
   ]
  },
  {
   "cell_type": "code",
   "execution_count": 195,
   "id": "4ed90c02-25bc-4a4f-9dff-c41b4437c62b",
   "metadata": {},
   "outputs": [
    {
     "name": "stdout",
     "output_type": "stream",
     "text": [
      "301 호\n",
      "302 호\n",
      "201 호\n",
      "202 호\n",
      "101 호\n",
      "102 호\n"
     ]
    }
   ],
   "source": [
    "for i in apart[::-1]:\n",
    "    for j in i:\n",
    "        print(\"{} 호\".format(j))"
   ]
  },
  {
   "cell_type": "markdown",
   "id": "b5d5de95-5fc9-4708-b894-e88d08a0057f",
   "metadata": {},
   "source": [
    "# 187\n",
    "리스트에 저장된 데이터를 아래와 같이 출력하라."
   ]
  },
  {
   "cell_type": "code",
   "execution_count": 196,
   "id": "05bb262c-ece0-44f6-b33e-2a79f1bb2dd5",
   "metadata": {},
   "outputs": [],
   "source": [
    "apart = [ [101, 102], [201, 202], [301, 302] ]"
   ]
  },
  {
   "cell_type": "markdown",
   "id": "2c377aa3-be95-4142-aefd-a408428f15b9",
   "metadata": {},
   "source": [
    "```\n",
    "출력예시:\n",
    "302 호\n",
    "301 호\n",
    "202 호\n",
    "201 호\n",
    "102 호\n",
    "101 호\n",
    "```"
   ]
  },
  {
   "cell_type": "code",
   "execution_count": 198,
   "id": "271b4e4b-bdfc-4923-8de9-a663a0d7caaf",
   "metadata": {},
   "outputs": [
    {
     "name": "stdout",
     "output_type": "stream",
     "text": [
      "302 호\n",
      "301 호\n",
      "202 호\n",
      "201 호\n",
      "102 호\n",
      "101 호\n"
     ]
    }
   ],
   "source": [
    "for i in apart[::-1]:\n",
    "    for j in i[::-1]:\n",
    "        print(\"{} 호\".format(j))"
   ]
  },
  {
   "cell_type": "markdown",
   "id": "2aa401e7-4ea2-4fa6-b0af-9a07c7b8a039",
   "metadata": {},
   "source": [
    "# 188\n",
    "리스트에 저장된 데이터를 아래와 같이 출력하라."
   ]
  },
  {
   "cell_type": "code",
   "execution_count": 200,
   "id": "f4d82130-b24f-4fbc-bf67-00c8359216c1",
   "metadata": {},
   "outputs": [],
   "source": [
    "apart = [ [101, 102], [201, 202], [301, 302] ]"
   ]
  },
  {
   "cell_type": "markdown",
   "id": "1149fca7-b12c-4b44-9f65-87f4d27f1036",
   "metadata": {},
   "source": [
    "```\n",
    "출력예시:\n",
    "101 호\n",
    "-----\n",
    "102 호\n",
    "-----\n",
    "201 호\n",
    "-----\n",
    "202 호\n",
    "-----\n",
    "301 호\n",
    "-----\n",
    "302 호\n",
    "-----\n",
    "```"
   ]
  },
  {
   "cell_type": "code",
   "execution_count": 203,
   "id": "a8b4da73-2bf3-41b2-bbee-554042274654",
   "metadata": {},
   "outputs": [
    {
     "name": "stdout",
     "output_type": "stream",
     "text": [
      "101 호\n",
      "-----\n",
      "102 호\n",
      "-----\n",
      "201 호\n",
      "-----\n",
      "202 호\n",
      "-----\n",
      "301 호\n",
      "-----\n",
      "302 호\n",
      "-----\n"
     ]
    }
   ],
   "source": [
    "for i in apart:\n",
    "    for j in i:\n",
    "        print(\"{} 호\".format(j))\n",
    "        print(\"-----\")"
   ]
  },
  {
   "cell_type": "markdown",
   "id": "a2e69bdc-ea0a-4cda-b57a-37569c6e6ee6",
   "metadata": {},
   "source": [
    "# 189\n",
    "리스트에 저장된 데이터를 아래와 같이 출력하라."
   ]
  },
  {
   "cell_type": "code",
   "execution_count": 205,
   "id": "980b1299-da69-4201-9f91-e6720cca5bae",
   "metadata": {},
   "outputs": [],
   "source": [
    "apart = [ [101, 102], [201, 202], [301, 302] ]"
   ]
  },
  {
   "cell_type": "markdown",
   "id": "a12f0ffa-f7e5-4edd-b498-640087a57f1b",
   "metadata": {},
   "source": [
    "```\n",
    "출력예시:\n",
    "101 호\n",
    "102 호\n",
    "-----\n",
    "201 호\n",
    "202 호\n",
    "-----\n",
    "301 호\n",
    "302 호\n",
    "-----\n",
    "```"
   ]
  },
  {
   "cell_type": "code",
   "execution_count": 208,
   "id": "3426ffb0-222c-4d6c-84c8-228249b77f18",
   "metadata": {},
   "outputs": [
    {
     "name": "stdout",
     "output_type": "stream",
     "text": [
      "101 호\n",
      "102 호\n",
      "-----\n",
      "201 호\n",
      "202 호\n",
      "-----\n",
      "301 호\n",
      "302 호\n",
      "-----\n"
     ]
    }
   ],
   "source": [
    "for i in apart:\n",
    "    for j in i:\n",
    "        print(\"{} 호\".format(j))\n",
    "    print(\"-----\")"
   ]
  },
  {
   "cell_type": "markdown",
   "id": "8dd73460-b390-4ebe-8327-3b6a902cd6a2",
   "metadata": {},
   "source": [
    "# 190\n",
    "리스트에 저장된 데이터를 아래와 같이 출력하라."
   ]
  },
  {
   "cell_type": "code",
   "execution_count": 210,
   "id": "a98d4e0d-2c46-4212-931f-1a725556e025",
   "metadata": {},
   "outputs": [],
   "source": [
    "apart = [ [101, 102], [201, 202], [301, 302] ]"
   ]
  },
  {
   "cell_type": "markdown",
   "id": "c9ca97de-31cd-409f-9608-6d0245bbb011",
   "metadata": {},
   "source": [
    "```\n",
    "출력예시:\n",
    "101 호\n",
    "102 호\n",
    "201 호\n",
    "202 호\n",
    "301 호\n",
    "302 호\n",
    "-----\n",
    "```"
   ]
  },
  {
   "cell_type": "code",
   "execution_count": 211,
   "id": "acbf146c-2fdd-4470-9389-865fd102fe12",
   "metadata": {},
   "outputs": [
    {
     "name": "stdout",
     "output_type": "stream",
     "text": [
      "101 호\n",
      "102 호\n",
      "201 호\n",
      "202 호\n",
      "301 호\n",
      "302 호\n",
      "-----\n"
     ]
    }
   ],
   "source": [
    "for i in apart:\n",
    "    for j in i:\n",
    "        print(\"{} 호\".format(j))\n",
    "print(\"-----\")"
   ]
  },
  {
   "cell_type": "markdown",
   "id": "4a93e080-22ab-47fe-9299-def80bfcf447",
   "metadata": {},
   "source": [
    "# 191\n",
    "data에는 매수한 종목들의 OHLC (open/high/low/close) 가격 정보가 바인딩 되어있다."
   ]
  },
  {
   "cell_type": "code",
   "execution_count": 213,
   "id": "8d036d21-4680-4bb9-9d8d-1c5d833866ae",
   "metadata": {},
   "outputs": [],
   "source": [
    "data = [\n",
    "    [ 2000,  3050,  2050,  1980],\n",
    "    [ 7500,  2050,  2050,  1980],\n",
    "    [15450, 15050, 15550, 14900]\n",
    "]"
   ]
  },
  {
   "cell_type": "markdown",
   "id": "319ee3af-c685-48f7-b77b-3fc2df2dbe74",
   "metadata": {},
   "source": [
    "수수료를 0.014 %로 가정할 때, 각 가격에 수수료를 포함한 가격을 한라인에 하나씩 출력하라."
   ]
  },
  {
   "cell_type": "markdown",
   "id": "c37fb8fa-4fe4-4809-862e-1f22a8e59946",
   "metadata": {},
   "source": [
    "```\n",
    "출력예시:\n",
    "2000.28\n",
    "3050.427\n",
    "2050.2870000000003\n",
    "...\n",
    "```"
   ]
  },
  {
   "cell_type": "code",
   "execution_count": 219,
   "id": "40b12d02-627f-4030-bd4c-9701332d5db4",
   "metadata": {},
   "outputs": [
    {
     "name": "stdout",
     "output_type": "stream",
     "text": [
      "2000.28\n",
      "3050.427\n",
      "2050.287\n",
      "1980.2772\n",
      "7501.05\n",
      "2050.287\n",
      "2050.287\n",
      "1980.2772\n",
      "15452.163\n",
      "15052.107\n",
      "15552.177\n",
      "14902.086\n"
     ]
    }
   ],
   "source": [
    "for i in data:\n",
    "    for j in i:\n",
    "        print(j + j * 0.00014)"
   ]
  },
  {
   "cell_type": "markdown",
   "id": "e30d7fd3-5851-4481-b3da-056a98b07c40",
   "metadata": {},
   "source": [
    "# 192\n",
    "191번의 출력 결과에 행단위로 \"----\" 구분자를 추가하라."
   ]
  },
  {
   "cell_type": "markdown",
   "id": "dd8acf8c-e51a-41ed-8e08-012c3532e2bd",
   "metadata": {},
   "source": [
    "```\n",
    "출력예시:\n",
    "2000.28\n",
    "3050.427\n",
    "2050.2870000000003\n",
    "1980.2772\n",
    "----\n",
    "7501.05\n",
    "2050.2870000000003\n",
    "2050.2870000000003\n",
    "1980.2772\n",
    "----\n",
    "15452.163\n",
    "15052.107\n",
    "15552.177\n",
    "14902.086000000001\n",
    "----\n",
    "```"
   ]
  },
  {
   "cell_type": "code",
   "execution_count": 222,
   "id": "6b9e4116-0820-4cdc-86f0-480f8897a9b7",
   "metadata": {},
   "outputs": [
    {
     "name": "stdout",
     "output_type": "stream",
     "text": [
      "2000.28\n",
      "3050.427\n",
      "2050.287\n",
      "1980.2772\n",
      "----\n",
      "7501.05\n",
      "2050.287\n",
      "2050.287\n",
      "1980.2772\n",
      "----\n",
      "15452.163\n",
      "15052.107\n",
      "15552.177\n",
      "14902.086\n",
      "----\n"
     ]
    }
   ],
   "source": [
    "for i in data:\n",
    "    for j in i:\n",
    "        print(j + j * 0.00014)\n",
    "    print(\"----\")"
   ]
  },
  {
   "cell_type": "markdown",
   "id": "bf8d5c3b-7992-4107-a33e-ef3928c71e5b",
   "metadata": {},
   "source": [
    "# 193\n",
    "192 번 문제의 결과값을 result 이름의 리스트에 1차원 배열로 저장하라."
   ]
  },
  {
   "cell_type": "markdown",
   "id": "b9bfdc93-7a32-44df-a937-5f336067f528",
   "metadata": {},
   "source": [
    "출력예시:\n",
    "```python\n",
    ">> print(result)\n",
    "[2000.28, 3050.427, 2050.2870000000003, 1980.2772, 7501.05, 2050.2870000000003, 2050.2870000000003, ...]\n",
    "```"
   ]
  },
  {
   "cell_type": "code",
   "execution_count": 230,
   "id": "26bb4c9d-bcd7-439a-b6e0-e7944d9d873d",
   "metadata": {},
   "outputs": [
    {
     "name": "stdout",
     "output_type": "stream",
     "text": [
      "[2000.28, 3050.427, 2050.287, 1980.2772, 7501.05, 2050.287, 2050.287, 1980.2772, 15452.163, 15052.107, 15552.177, 14902.086]\n"
     ]
    }
   ],
   "source": [
    "result = []\n",
    "for i in data:\n",
    "    for j in i:\n",
    "        result.append(j + j * 0.00014)\n",
    "    \n",
    "print(result)"
   ]
  },
  {
   "cell_type": "code",
   "execution_count": 225,
   "id": "766e2113-8e60-44f3-955d-5851a1102cce",
   "metadata": {},
   "outputs": [
    {
     "name": "stdout",
     "output_type": "stream",
     "text": [
      "[2000.28, 3050.427, 2050.287, 1980.2772, 7501.05, 2050.287, 2050.287, 1980.2772, 15452.163, 15052.107, 15552.177, 14902.086]\n"
     ]
    }
   ],
   "source": [
    "result = [j + j * 0.00014 for i in data for j in i]\n",
    "print(result)"
   ]
  },
  {
   "cell_type": "markdown",
   "id": "bbc28923-5a36-4b2b-b415-799be5dbfaf9",
   "metadata": {},
   "source": [
    "# 194\n",
    "191번 문제의 결괏값을 result 이름의 리스트에 2차원 배열로 저장하라.  \n",
    "저장 포맷은 아래와 같다.  \n",
    "각 행에 대한 데이터끼리 리스트에 저장되어야 한다."
   ]
  },
  {
   "cell_type": "markdown",
   "id": "9643ff2c-dd92-47d2-aacf-276324b39768",
   "metadata": {},
   "source": [
    "출력예시:\n",
    "```python\n",
    ">> print(result)\n",
    "[\n",
    " [2000.28, 3050.427, 2050.2870000000003, 1980.2772],\n",
    " [7501.05, 2050.2870000000003, 2050.2870000000003, 1980.2772],\n",
    " [15452.163, 15052.107, 15552.177, 14902.086000000001]\n",
    "]\n",
    "```"
   ]
  },
  {
   "cell_type": "code",
   "execution_count": 229,
   "id": "6961cff4-16a7-48a3-8e83-289f2ccd0fb6",
   "metadata": {},
   "outputs": [
    {
     "name": "stdout",
     "output_type": "stream",
     "text": [
      "[[2000.28, 3050.427, 2050.287, 1980.2772], [7501.05, 2050.287, 2050.287, 1980.2772], [15452.163, 15052.107, 15552.177, 14902.086]]\n"
     ]
    }
   ],
   "source": [
    "result = []\n",
    "for i in data:\n",
    "    sub = []\n",
    "    for j in i:\n",
    "        sub.append(j + j * 0.00014)\n",
    "    result.append(sub)\n",
    "    \n",
    "print(result)"
   ]
  },
  {
   "cell_type": "code",
   "execution_count": 233,
   "id": "b278d627-09f4-465e-ad22-d9c484358766",
   "metadata": {},
   "outputs": [
    {
     "name": "stdout",
     "output_type": "stream",
     "text": [
      "[[2000.28, 3050.427, 2050.287, 1980.2772], [7501.05, 2050.287, 2050.287, 1980.2772], [15452.163, 15052.107, 15552.177, 14902.086]]\n"
     ]
    }
   ],
   "source": [
    "arr = [[j + j * 0.00014 for j in i] for i in data]\n",
    "print(arr)"
   ]
  },
  {
   "cell_type": "markdown",
   "id": "a761c0d9-c891-4f30-9d8c-d88f901139af",
   "metadata": {},
   "source": [
    "# 195\n",
    "ohlc 리스트에는 시가(open), 고가 (high), 저가 (low) , 종가(close)가 날짜별로 저장돼 있다.  \n",
    "화면에 종가데이터를 출력하라."
   ]
  },
  {
   "cell_type": "code",
   "execution_count": 236,
   "id": "74a43481-d192-4344-8b26-a07db18571d6",
   "metadata": {},
   "outputs": [],
   "source": [
    "ohlc = [[\"open\", \"high\", \"low\", \"close\"],\n",
    "        [100, 110, 70, 100],\n",
    "        [200, 210, 180, 190],\n",
    "        [300, 310, 300, 310]]"
   ]
  },
  {
   "cell_type": "markdown",
   "id": "6de93964-9fe9-432c-aad2-73fe5d3baf8b",
   "metadata": {},
   "source": [
    "```\n",
    "출력예시:\n",
    "100\n",
    "190\n",
    "310\n",
    "```"
   ]
  },
  {
   "cell_type": "code",
   "execution_count": 237,
   "id": "ee92e140-35d4-4adb-95b3-4079a7fd0ecf",
   "metadata": {},
   "outputs": [
    {
     "name": "stdout",
     "output_type": "stream",
     "text": [
      "100\n",
      "190\n",
      "310\n"
     ]
    }
   ],
   "source": [
    "for i in ohlc[1:]:\n",
    "    print(i[3])"
   ]
  },
  {
   "cell_type": "markdown",
   "id": "790d8d8f-4065-4062-bf9c-5c23ae0e9fa5",
   "metadata": {},
   "source": [
    "# 196\n",
    "ohlc 리스트에는 시가(open), 고가 (high), 저가 (low) , 종가(close)가 날짜별로 저장돼 있다.  \n",
    "종가가 150원보다 큰경우에만 종가를 출력하라."
   ]
  },
  {
   "cell_type": "code",
   "execution_count": 239,
   "id": "c0252229-4a18-4e4e-b903-4f85c88b57ce",
   "metadata": {},
   "outputs": [],
   "source": [
    "ohlc = [[\"open\", \"high\", \"low\", \"close\"],\n",
    "        [100, 110, 70, 100],\n",
    "        [200, 210, 180, 190],\n",
    "        [300, 310, 300, 310]]"
   ]
  },
  {
   "cell_type": "markdown",
   "id": "789d59e1-99f1-4391-b971-852139a49828",
   "metadata": {},
   "source": [
    "```\n",
    "출력예시:\n",
    "190\r\n",
    "310\n",
    "```"
   ]
  },
  {
   "cell_type": "code",
   "execution_count": 240,
   "id": "bb29b5da-d474-495e-b425-30facae45882",
   "metadata": {},
   "outputs": [
    {
     "name": "stdout",
     "output_type": "stream",
     "text": [
      "190\n",
      "310\n"
     ]
    }
   ],
   "source": [
    "for i in ohlc[1:]:\n",
    "    if i[3] > 150:\n",
    "        print(i[3])"
   ]
  },
  {
   "cell_type": "markdown",
   "id": "684b1841-0627-4130-9090-87d798f0bfef",
   "metadata": {},
   "source": [
    "# 197\n",
    "ohlc 리스트에는 시가(open), 고가 (high), 저가 (low) , 종가(close)가 날짜별로 저장돼 있다.  \n",
    "종가가 시가 보다 크거나 같은 경우에만 종가를 출력하라."
   ]
  },
  {
   "cell_type": "code",
   "execution_count": 241,
   "id": "66d1a185-8b8e-4099-9031-0d997a16fe2f",
   "metadata": {},
   "outputs": [],
   "source": [
    "ohlc = [[\"open\", \"high\", \"low\", \"close\"],\n",
    "        [100, 110, 70, 100],\n",
    "        [200, 210, 180, 190],\n",
    "        [300, 310, 300, 310]]"
   ]
  },
  {
   "cell_type": "markdown",
   "id": "0741125b-0f9b-42cc-8cca-518a96e8ca75",
   "metadata": {},
   "source": [
    "```\n",
    "출력예시:\n",
    "100\n",
    "310\n",
    "```"
   ]
  },
  {
   "cell_type": "code",
   "execution_count": 243,
   "id": "3f7ed5ad-abe6-466f-b4f6-1ac97ab136e9",
   "metadata": {},
   "outputs": [
    {
     "name": "stdout",
     "output_type": "stream",
     "text": [
      "100\n",
      "310\n"
     ]
    }
   ],
   "source": [
    "for i in ohlc[1:]:\n",
    "    if i[3] >= i[0]:\n",
    "        print(i[3])"
   ]
  },
  {
   "cell_type": "markdown",
   "id": "8ae41295-6427-4923-9462-6d6d20d7a921",
   "metadata": {},
   "source": [
    "# 198\n",
    "ohlc 리스트에는 시가(open), 고가 (high), 저가 (low) , 종가(close)가 날짜별로 저장돼 있다.  \n",
    "고가와 저가의 차이를 변동폭으로 정의할 때 변동폭을 volatility 이름의 리스트에 저장하라."
   ]
  },
  {
   "cell_type": "code",
   "execution_count": 244,
   "id": "fe4b0dfc-dde6-48d6-8d0a-e85dcf8e5e95",
   "metadata": {},
   "outputs": [],
   "source": [
    "ohlc = [[\"open\", \"high\", \"low\", \"close\"],\n",
    "        [100, 110, 70, 100],\n",
    "        [200, 210, 180, 190],\n",
    "        [300, 310, 300, 310]]"
   ]
  },
  {
   "cell_type": "markdown",
   "id": "8828c4cd-be7d-49a0-b794-69e71d3a8cb8",
   "metadata": {},
   "source": [
    "```\n",
    "출력예시:\n",
    "[40, 30, 10]\n",
    "```"
   ]
  },
  {
   "cell_type": "code",
   "execution_count": 245,
   "id": "678f493a-5335-4467-84bd-c35e549d9f1d",
   "metadata": {},
   "outputs": [
    {
     "data": {
      "text/plain": [
       "[40, 30, 10]"
      ]
     },
     "execution_count": 245,
     "metadata": {},
     "output_type": "execute_result"
    }
   ],
   "source": [
    "volatility = []\n",
    "for i in ohlc[1:]:\n",
    "    volatility.append(i[1] - i[2])\n",
    "    \n",
    "volatility"
   ]
  },
  {
   "cell_type": "code",
   "execution_count": 246,
   "id": "f1b16744-af5d-4ba5-a4ed-b46f085838ed",
   "metadata": {},
   "outputs": [
    {
     "data": {
      "text/plain": [
       "[40, 30, 10]"
      ]
     },
     "execution_count": 246,
     "metadata": {},
     "output_type": "execute_result"
    }
   ],
   "source": [
    "volatility = [i[1] - i[2] for i in ohlc[1:]]\n",
    "volatility"
   ]
  },
  {
   "cell_type": "markdown",
   "id": "9e2f76af-5873-473f-bf62-c2f5387f3ada",
   "metadata": {},
   "source": [
    "# 199\n",
    "리스트에는 3일 간의 ohlc 데이터가 저장돼 있다.  \n",
    "종가가 시가보다 높은 날의 변동성 (고가 - 저가)을 화면에 출력하라."
   ]
  },
  {
   "cell_type": "code",
   "execution_count": 248,
   "id": "41a90aef-276d-455b-aa0d-efddcac0e7b9",
   "metadata": {},
   "outputs": [],
   "source": [
    "ohlc = [[\"open\", \"high\", \"low\", \"close\"],\n",
    "        [100, 110, 70, 100],\n",
    "        [200, 210, 180, 190],\n",
    "        [300, 310, 300, 310]]"
   ]
  },
  {
   "cell_type": "markdown",
   "id": "c1152074-f6ec-4b29-9325-45fa34772211",
   "metadata": {},
   "source": [
    "종가가 시가보다 높은 거래일의 OHLC는 [300, 310, 300, 310] 이다.  \n",
    "따라서 이 거래일의 변동성은 10 (310 - 300)이다.\n",
    "```\n",
    "출력예시:\n",
    "10\n",
    "```"
   ]
  },
  {
   "cell_type": "code",
   "execution_count": 249,
   "id": "a423dc0e-6c28-445a-b406-0e1474f6dfaf",
   "metadata": {},
   "outputs": [
    {
     "name": "stdout",
     "output_type": "stream",
     "text": [
      "10\n"
     ]
    }
   ],
   "source": [
    "for i in ohlc[1:]:\n",
    "    if i[3] > i[0]:\n",
    "        print(i[1] - i[2])"
   ]
  },
  {
   "cell_type": "markdown",
   "id": "2e2c6815-f2bf-40d1-ba7e-2b5d1fd06389",
   "metadata": {},
   "source": [
    "# 200\n",
    "리스트에는 3일 간의 ohlc 데이터가 저장돼 있다. 시가에 매수해서 종가에 매도 했을 경우 총 수익금을 계산하라."
   ]
  },
  {
   "cell_type": "code",
   "execution_count": 250,
   "id": "68ca3d2b-081f-4b4e-b3ad-b02da0d468fa",
   "metadata": {},
   "outputs": [],
   "source": [
    "ohlc = [[\"open\", \"high\", \"low\", \"close\"],\n",
    "        [100, 110, 70, 100],\n",
    "        [200, 210, 180, 190],\n",
    "        [300, 310, 300, 310]]"
   ]
  },
  {
   "cell_type": "markdown",
   "id": "547f72f3-87c7-45c5-8f13-258f31ac3fdd",
   "metadata": {},
   "source": [
    "1일차 수익 0원 (100 - 100), 2일차 수익 -10원 (190 - 200), 3일차 수익 10원 (310 - 300) 이다."
   ]
  },
  {
   "cell_type": "markdown",
   "id": "5f326f8d-1d31-45e1-be91-8b8cedd6cb29",
   "metadata": {},
   "source": [
    "```\n",
    "출력예시:\n",
    "0\n",
    "```"
   ]
  },
  {
   "cell_type": "code",
   "execution_count": 251,
   "id": "f4834b76-6238-4812-8a26-6b6cd80dcce9",
   "metadata": {},
   "outputs": [
    {
     "data": {
      "text/plain": [
       "0"
      ]
     },
     "execution_count": 251,
     "metadata": {},
     "output_type": "execute_result"
    }
   ],
   "source": [
    "총수익금 = 0\n",
    "for i in ohlc[1:]:\n",
    "    총수익금 += i[0] - i[3]\n",
    "    \n",
    "총수익금"
   ]
  },
  {
   "cell_type": "code",
   "execution_count": 252,
   "id": "980a3f21-486a-4ca1-8f50-ad06098216e6",
   "metadata": {},
   "outputs": [
    {
     "data": {
      "text/plain": [
       "0"
      ]
     },
     "execution_count": 252,
     "metadata": {},
     "output_type": "execute_result"
    }
   ],
   "source": [
    "sum([i[0] - i[3] for i in ohlc[1:]])"
   ]
  }
 ],
 "metadata": {
  "kernelspec": {
   "display_name": "Python 3 (ipykernel)",
   "language": "python",
   "name": "python3"
  },
  "language_info": {
   "codemirror_mode": {
    "name": "ipython",
    "version": 3
   },
   "file_extension": ".py",
   "mimetype": "text/x-python",
   "name": "python",
   "nbconvert_exporter": "python",
   "pygments_lexer": "ipython3",
   "version": "3.11.7"
  }
 },
 "nbformat": 4,
 "nbformat_minor": 5
}
